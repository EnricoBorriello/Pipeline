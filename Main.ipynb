{
 "cells": [
  {
   "cell_type": "markdown",
   "id": "f6c92d1b",
   "metadata": {},
   "source": [
    "$Expected FTB Booking and #Expected FTB Accounts\n",
    "\n",
    "For each representative (opportunity owner) in Pre-FTB report, collect all the accounts under their name, together with Expected FTB Date (simply 'date') and Annual hotel spend (simply 'spend').\n",
    "\n",
    "Starting from the date, split the spend over the following twelve months. Start with the month the date belongs to. (There are some strange cases, e.g. Adam Ward, Frontier Building Corp, FTB date = 30 Nov, i.e. the end of the month already, but Nov takes one entire 12th part.)\n",
    "\n",
    "Some accounts don't have a date. I'm ignoring those.\n",
    "\n",
    "For each month, sum these fractions over all the accounts. Also count the number of accounts. These numbers are the $Expected FTB Booking and #Expected FTB Accounts respectively, and they're shown in the Pipeline Summary.\n",
    "\n",
    "Treat 'post' data in the same way.\n",
    "\n",
    "There's a little difference in the number of post accounts. That's because i don't count accounts with $0."
   ]
  },
  {
   "cell_type": "code",
   "execution_count": 1,
   "id": "4e5beb19",
   "metadata": {},
   "outputs": [],
   "source": [
    "import pandas as pd\n",
    "import matplotlib.pyplot as plt\n",
    "import numpy as np\n",
    "import matplotlib.ticker as mticker"
   ]
  },
  {
   "cell_type": "code",
   "execution_count": 2,
   "id": "9ba60bc1",
   "metadata": {},
   "outputs": [],
   "source": [
    "# Set display options\n",
    "pd.set_option('display.max_columns', None)\n",
    "pd.set_option('display.expand_frame_repr', False)\n",
    "\n",
    "# Filter or ignore the warning\n",
    "import warnings\n",
    "warnings.filterwarnings(\"ignore\", category=pd.core.common.SettingWithCopyWarning)"
   ]
  },
  {
   "cell_type": "markdown",
   "id": "3f639ceb",
   "metadata": {},
   "source": [
    "# Import Data"
   ]
  },
  {
   "cell_type": "code",
   "execution_count": 3,
   "id": "88dc72e8",
   "metadata": {},
   "outputs": [],
   "source": [
    "from datetime import datetime, timedelta\n",
    "from utils import find_date_range, extract_date"
   ]
  },
  {
   "cell_type": "code",
   "execution_count": 4,
   "id": "415b35e1",
   "metadata": {},
   "outputs": [],
   "source": [
    "df_pre = pd.read_csv('original_files/Pre-FTB_Report.csv')\n",
    "df_post = pd.read_csv('original_files/Post-FTB_Report.csv')\n",
    "\n",
    "df_pre['Annual hotel spend'] = df_pre['Annual hotel spend'].fillna(0).astype(int)\n",
    "df_post['Annual hotel spend'] = df_post['Annual hotel spend'].fillna(0).astype(int)"
   ]
  },
  {
   "cell_type": "code",
   "execution_count": 5,
   "id": "41ebbe07",
   "metadata": {},
   "outputs": [
    {
     "data": {
      "text/html": [
       "<div>\n",
       "<style scoped>\n",
       "    .dataframe tbody tr th:only-of-type {\n",
       "        vertical-align: middle;\n",
       "    }\n",
       "\n",
       "    .dataframe tbody tr th {\n",
       "        vertical-align: top;\n",
       "    }\n",
       "\n",
       "    .dataframe thead th {\n",
       "        text-align: right;\n",
       "    }\n",
       "</style>\n",
       "<table border=\"1\" class=\"dataframe\">\n",
       "  <thead>\n",
       "    <tr style=\"text-align: right;\">\n",
       "      <th></th>\n",
       "      <th>Opportunity Owner</th>\n",
       "      <th>Account Name</th>\n",
       "      <th>Opportunity Name</th>\n",
       "      <th>Stage</th>\n",
       "      <th>Expected FTB Date</th>\n",
       "      <th>Annual hotel spend</th>\n",
       "      <th>Account: Last Activity</th>\n",
       "    </tr>\n",
       "  </thead>\n",
       "  <tbody>\n",
       "    <tr>\n",
       "      <th>0</th>\n",
       "      <td>Ashley Blok</td>\n",
       "      <td>Paragon Sports Constructors</td>\n",
       "      <td>Paragon Sports Constructors</td>\n",
       "      <td>Demo</td>\n",
       "      <td>NaN</td>\n",
       "      <td>250001</td>\n",
       "      <td>11/8/2022</td>\n",
       "    </tr>\n",
       "    <tr>\n",
       "      <th>1</th>\n",
       "      <td>Zac Oliver</td>\n",
       "      <td>JBS USA</td>\n",
       "      <td>JBS USA</td>\n",
       "      <td>Discovery</td>\n",
       "      <td>NaN</td>\n",
       "      <td>4000000</td>\n",
       "      <td>9/9/2021</td>\n",
       "    </tr>\n",
       "    <tr>\n",
       "      <th>2</th>\n",
       "      <td>Shane Figueroa</td>\n",
       "      <td>Holladay Properties</td>\n",
       "      <td>Holladay Properties</td>\n",
       "      <td>Discovery</td>\n",
       "      <td>11/30/2022</td>\n",
       "      <td>50001</td>\n",
       "      <td>12/8/2022</td>\n",
       "    </tr>\n",
       "  </tbody>\n",
       "</table>\n",
       "</div>"
      ],
      "text/plain": [
       "  Opportunity Owner                 Account Name             Opportunity Name      Stage Expected FTB Date  Annual hotel spend Account: Last Activity\n",
       "0       Ashley Blok  Paragon Sports Constructors  Paragon Sports Constructors       Demo               NaN              250001              11/8/2022\n",
       "1        Zac Oliver                      JBS USA                      JBS USA  Discovery               NaN             4000000               9/9/2021\n",
       "2    Shane Figueroa          Holladay Properties          Holladay Properties  Discovery        11/30/2022               50001              12/8/2022"
      ]
     },
     "execution_count": 5,
     "metadata": {},
     "output_type": "execute_result"
    }
   ],
   "source": [
    "# difference in the input files from pre to post\n",
    "# the FTB includes both date and time\n",
    "df_pre[:3]"
   ]
  },
  {
   "cell_type": "code",
   "execution_count": 6,
   "id": "26b8c6b6",
   "metadata": {},
   "outputs": [
    {
     "data": {
      "text/html": [
       "<div>\n",
       "<style scoped>\n",
       "    .dataframe tbody tr th:only-of-type {\n",
       "        vertical-align: middle;\n",
       "    }\n",
       "\n",
       "    .dataframe tbody tr th {\n",
       "        vertical-align: top;\n",
       "    }\n",
       "\n",
       "    .dataframe thead th {\n",
       "        text-align: right;\n",
       "    }\n",
       "</style>\n",
       "<table border=\"1\" class=\"dataframe\">\n",
       "  <thead>\n",
       "    <tr style=\"text-align: right;\">\n",
       "      <th></th>\n",
       "      <th>Opportunity Owner</th>\n",
       "      <th>Account Name</th>\n",
       "      <th>Opportunity Name</th>\n",
       "      <th>Stage</th>\n",
       "      <th>FTB or Revival Date</th>\n",
       "      <th>Annual hotel spend</th>\n",
       "      <th>Account: Last Activity</th>\n",
       "    </tr>\n",
       "  </thead>\n",
       "  <tbody>\n",
       "    <tr>\n",
       "      <th>0</th>\n",
       "      <td>Shane Figueroa</td>\n",
       "      <td>Statewide Construction Sweeping</td>\n",
       "      <td>Statewide Construction Sweeping-</td>\n",
       "      <td>Closed Won</td>\n",
       "      <td>4/25/22 11:07</td>\n",
       "      <td>0</td>\n",
       "      <td>12/7/2022</td>\n",
       "    </tr>\n",
       "    <tr>\n",
       "      <th>1</th>\n",
       "      <td>Shane Figueroa</td>\n",
       "      <td>KCI Enterprises</td>\n",
       "      <td>KCI Enterprises-</td>\n",
       "      <td>Closed Lost</td>\n",
       "      <td>10/30/22 22:37</td>\n",
       "      <td>0</td>\n",
       "      <td>12/8/2022</td>\n",
       "    </tr>\n",
       "    <tr>\n",
       "      <th>2</th>\n",
       "      <td>Shane Figueroa</td>\n",
       "      <td>Installation Services</td>\n",
       "      <td>Installation Services-</td>\n",
       "      <td>Closed (Too Small)</td>\n",
       "      <td>8/23/22 14:02</td>\n",
       "      <td>20000</td>\n",
       "      <td>11/29/2022</td>\n",
       "    </tr>\n",
       "  </tbody>\n",
       "</table>\n",
       "</div>"
      ],
      "text/plain": [
       "  Opportunity Owner                     Account Name                  Opportunity Name               Stage FTB or Revival Date  Annual hotel spend Account: Last Activity\n",
       "0    Shane Figueroa  Statewide Construction Sweeping  Statewide Construction Sweeping-          Closed Won       4/25/22 11:07                   0              12/7/2022\n",
       "1    Shane Figueroa                  KCI Enterprises                  KCI Enterprises-         Closed Lost      10/30/22 22:37                   0              12/8/2022\n",
       "2    Shane Figueroa            Installation Services            Installation Services-  Closed (Too Small)       8/23/22 14:02               20000             11/29/2022"
      ]
     },
     "execution_count": 6,
     "metadata": {},
     "output_type": "execute_result"
    }
   ],
   "source": [
    "df_post[:3]"
   ]
  },
  {
   "cell_type": "code",
   "execution_count": 7,
   "id": "d34d0f8c",
   "metadata": {},
   "outputs": [
    {
     "data": {
      "text/html": [
       "<div>\n",
       "<style scoped>\n",
       "    .dataframe tbody tr th:only-of-type {\n",
       "        vertical-align: middle;\n",
       "    }\n",
       "\n",
       "    .dataframe tbody tr th {\n",
       "        vertical-align: top;\n",
       "    }\n",
       "\n",
       "    .dataframe thead th {\n",
       "        text-align: right;\n",
       "    }\n",
       "</style>\n",
       "<table border=\"1\" class=\"dataframe\">\n",
       "  <thead>\n",
       "    <tr style=\"text-align: right;\">\n",
       "      <th></th>\n",
       "      <th>Opportunity Owner</th>\n",
       "      <th>Account Name</th>\n",
       "      <th>Opportunity Name</th>\n",
       "      <th>Stage</th>\n",
       "      <th>Annual hotel spend</th>\n",
       "      <th>Account: Last Activity</th>\n",
       "      <th>Expected FTB Date</th>\n",
       "    </tr>\n",
       "  </thead>\n",
       "  <tbody>\n",
       "    <tr>\n",
       "      <th>0</th>\n",
       "      <td>Shane Figueroa</td>\n",
       "      <td>Statewide Construction Sweeping</td>\n",
       "      <td>Statewide Construction Sweeping-</td>\n",
       "      <td>Closed Won</td>\n",
       "      <td>0</td>\n",
       "      <td>12/7/2022</td>\n",
       "      <td>04/25/2022</td>\n",
       "    </tr>\n",
       "    <tr>\n",
       "      <th>1</th>\n",
       "      <td>Shane Figueroa</td>\n",
       "      <td>KCI Enterprises</td>\n",
       "      <td>KCI Enterprises-</td>\n",
       "      <td>Closed Lost</td>\n",
       "      <td>0</td>\n",
       "      <td>12/8/2022</td>\n",
       "      <td>10/30/2022</td>\n",
       "    </tr>\n",
       "    <tr>\n",
       "      <th>2</th>\n",
       "      <td>Shane Figueroa</td>\n",
       "      <td>Installation Services</td>\n",
       "      <td>Installation Services-</td>\n",
       "      <td>Closed (Too Small)</td>\n",
       "      <td>20000</td>\n",
       "      <td>11/29/2022</td>\n",
       "      <td>08/23/2022</td>\n",
       "    </tr>\n",
       "  </tbody>\n",
       "</table>\n",
       "</div>"
      ],
      "text/plain": [
       "  Opportunity Owner                     Account Name                  Opportunity Name               Stage  Annual hotel spend Account: Last Activity Expected FTB Date\n",
       "0    Shane Figueroa  Statewide Construction Sweeping  Statewide Construction Sweeping-          Closed Won                   0              12/7/2022        04/25/2022\n",
       "1    Shane Figueroa                  KCI Enterprises                  KCI Enterprises-         Closed Lost                   0              12/8/2022        10/30/2022\n",
       "2    Shane Figueroa            Installation Services            Installation Services-  Closed (Too Small)               20000             11/29/2022        08/23/2022"
      ]
     },
     "execution_count": 7,
     "metadata": {},
     "output_type": "execute_result"
    }
   ],
   "source": [
    "#  we just need the date\n",
    "df_post['Expected FTB Date'] = [extract_date(date_time) for date_time in df_post['FTB or Revival Date'] ]\n",
    "df_post = df_post.drop('FTB or Revival Date', axis=1)\n",
    "df_post[:3]"
   ]
  },
  {
   "cell_type": "markdown",
   "id": "8e6dd560",
   "metadata": {},
   "source": [
    "# Owners"
   ]
  },
  {
   "cell_type": "code",
   "execution_count": 8,
   "id": "34ed8255",
   "metadata": {},
   "outputs": [],
   "source": [
    "pre_owners = np.sort(np.array(df_pre['Opportunity Owner'].unique()))\n",
    "post_owners = np.sort(np.array(df_post['Opportunity Owner'].unique()))\n",
    "\n",
    "missing_owners = [owner for owner in pre_owners if owner not in post_owners]"
   ]
  },
  {
   "cell_type": "code",
   "execution_count": 9,
   "id": "179bbc2c",
   "metadata": {},
   "outputs": [
    {
     "data": {
      "text/plain": [
       "['Will Gotsch']"
      ]
     },
     "execution_count": 9,
     "metadata": {},
     "output_type": "execute_result"
    }
   ],
   "source": [
    "missing_owners"
   ]
  },
  {
   "cell_type": "code",
   "execution_count": 10,
   "id": "10ac44ae",
   "metadata": {},
   "outputs": [
    {
     "name": "stdout",
     "output_type": "stream",
     "text": [
      "43\n",
      "42\n"
     ]
    }
   ],
   "source": [
    "print(len(pre_owners))\n",
    "print(len(post_owners))"
   ]
  },
  {
   "cell_type": "code",
   "execution_count": 11,
   "id": "1d268343",
   "metadata": {},
   "outputs": [],
   "source": [
    "# I will only keep owners that are in both pre and post reports\n",
    "\n",
    "# Convert arrays to sets\n",
    "set1 = set(pre_owners)\n",
    "set2 = set(post_owners)\n",
    "\n",
    "# Find the intersection of the sets\n",
    "common_elements = set1.intersection(set2)\n",
    "\n",
    "# Convert the common elements set back to a list\n",
    "names = list(common_elements)\n",
    "\n",
    "# sort it alphabetically by family name\n",
    "owners_list = sorted(names, key=lambda x: x.split()[1])\n",
    "\n",
    "#owners_list"
   ]
  },
  {
   "cell_type": "markdown",
   "id": "96d7d9aa",
   "metadata": {},
   "source": [
    "# Common Code for Customer Detail"
   ]
  },
  {
   "cell_type": "code",
   "execution_count": 12,
   "id": "6ac6b154",
   "metadata": {},
   "outputs": [],
   "source": [
    "def customer_detail(df,owner):\n",
    "\n",
    "    # select the data you need:\n",
    "    df0 = df[df['Opportunity Owner']==owner]\n",
    "    df1 = df0.dropna(subset=['Expected FTB Date'])\n",
    "    df2 = df1[['Account Name','Expected FTB Date','Annual hotel spend']]\n",
    "    \n",
    "    # Define the range using the first and second dates\n",
    "    start_date_str = find_date_range(df2['Expected FTB Date'])[0]\n",
    "    end_date_str = find_date_range(df2['Expected FTB Date'])[1]\n",
    "\n",
    "    # Convert the start and end dates to datetime objects\n",
    "    start_date = datetime.strptime(start_date_str, \"%m/%d/%Y\")\n",
    "    end_date = datetime.strptime(end_date_str, \"%m/%d/%Y\")\n",
    "\n",
    "    # Add one year to the end date\n",
    "    end_date_plus_one_year = end_date + timedelta(days=365)\n",
    "\n",
    "    # Iterate through the months and print the abbreviated month and year\n",
    "\n",
    "    col = [0 for i in range(len(df2))]\n",
    "\n",
    "    current_date = start_date\n",
    "    while current_date < end_date_plus_one_year:\n",
    "        #print(current_date.strftime(\"%b %Y\"))\n",
    "        df2[str(current_date.strftime(\"%b %Y\"))] = col\n",
    "        current_date += timedelta(days=30) \n",
    "    \n",
    "    for i in range(len(df2)): # loop over accounts for given owner\n",
    "        start_date = df2.at[df2.index[i],'Expected FTB Date']\n",
    "        spend = df2.at[df2.index[i],'Annual hotel spend']\n",
    "        # Convert the date string to a datetime object\n",
    "        date = datetime.strptime(start_date, \"%m/%d/%Y\")\n",
    "        # loop over the following 12 months\n",
    "        for j in range(12):\n",
    "            label = date.strftime(\"%b %Y\")  # Format the date as \"Abbreviated Month Year\"\n",
    "            df2.at[df2.index[i],label] = round(spend/12)\n",
    "            # Add 30 days to the date for the next month\n",
    "            date += timedelta(days=30)\n",
    "        # to make sure empty months don't return NaN when divided by zero:\n",
    "        df2.fillna(int(0), inplace=True, downcast='infer')     \n",
    "\n",
    "\n",
    "    # This reproduces the content of \"Prospect (Pre-FTB) detail\"\n",
    "    # Now I need to reproduce \"Customers (Post-FTB) Detail\"\n",
    "    # and \"Pipeline Summary\"\n",
    "\n",
    "    sorted_df2 = df2.sort_values(by='Annual hotel spend',ascending=False)\n",
    "    \n",
    "    return sorted_df2"
   ]
  },
  {
   "cell_type": "code",
   "execution_count": 13,
   "id": "82a206a3",
   "metadata": {},
   "outputs": [],
   "source": [
    "def partial_pipeline_summary( detail , detail_type ):\n",
    "    # detail type can be either 'pre' or 'post'\n",
    "    \n",
    "    numeric_columns = detail.select_dtypes(include='number')\n",
    "    cols = numeric_columns.columns\n",
    "\n",
    "    # Here are the first two lines of \"Pipeline Summary\":\n",
    "\n",
    "    numeric_columns = detail.select_dtypes(include='number')\n",
    "    df1exp = (pd.DataFrame(numeric_columns.sum()))\n",
    "    df2exp = pd.DataFrame((detail[cols] != 0).sum())\n",
    "\n",
    "    if detail_type == 'pre':\n",
    "        label1 = '$ Expected FTB Booking'\n",
    "        label2 = '# Expected FTB Accounts'\n",
    "    if detail_type == 'post':\n",
    "        label1 = '$ Confirmed Pipeline Bookings'\n",
    "        label2 = '# Confirmed Pipeline Accounts'\n",
    "\n",
    "    df1exp.rename(columns={0: label1}, inplace=True)\n",
    "    df2exp.rename(columns={0: label2}, inplace=True)\n",
    "\n",
    "    df_exp = (pd.concat([df1exp, df2exp], axis=1)[1:]).transpose()\n",
    "\n",
    "    return df_exp"
   ]
  },
  {
   "cell_type": "code",
   "execution_count": 16,
   "id": "a4edd384",
   "metadata": {},
   "outputs": [
    {
     "name": "stdout",
     "output_type": "stream",
     "text": [
      "Justine Bannon\n"
     ]
    }
   ],
   "source": [
    "ownerID = 0\n",
    "owner = owners_list[ownerID]\n",
    "\n",
    "detail_pre = customer_detail(df_pre,owner)\n",
    "detail_post = customer_detail(df_post,owner)\n",
    "\n",
    "print(owner)"
   ]
  },
  {
   "cell_type": "code",
   "execution_count": 17,
   "id": "029a6ee8",
   "metadata": {},
   "outputs": [
    {
     "data": {
      "text/html": [
       "<div>\n",
       "<style scoped>\n",
       "    .dataframe tbody tr th:only-of-type {\n",
       "        vertical-align: middle;\n",
       "    }\n",
       "\n",
       "    .dataframe tbody tr th {\n",
       "        vertical-align: top;\n",
       "    }\n",
       "\n",
       "    .dataframe thead th {\n",
       "        text-align: right;\n",
       "    }\n",
       "</style>\n",
       "<table border=\"1\" class=\"dataframe\">\n",
       "  <thead>\n",
       "    <tr style=\"text-align: right;\">\n",
       "      <th></th>\n",
       "      <th>Account Name</th>\n",
       "      <th>Expected FTB Date</th>\n",
       "      <th>Annual hotel spend</th>\n",
       "      <th>Nov 2022</th>\n",
       "      <th>Dec 2022</th>\n",
       "      <th>Jan 2023</th>\n",
       "      <th>Feb 2023</th>\n",
       "      <th>Mar 2023</th>\n",
       "      <th>Apr 2023</th>\n",
       "      <th>May 2023</th>\n",
       "      <th>Jun 2023</th>\n",
       "      <th>Jul 2023</th>\n",
       "      <th>Aug 2023</th>\n",
       "      <th>Sep 2023</th>\n",
       "      <th>Oct 2023</th>\n",
       "      <th>Nov 2023</th>\n",
       "      <th>Dec 2023</th>\n",
       "      <th>Jan 2024</th>\n",
       "      <th>Feb 2024</th>\n",
       "    </tr>\n",
       "  </thead>\n",
       "  <tbody>\n",
       "    <tr>\n",
       "      <th>547</th>\n",
       "      <td>AfterDisaster</td>\n",
       "      <td>1/25/2023</td>\n",
       "      <td>307200</td>\n",
       "      <td>0</td>\n",
       "      <td>0</td>\n",
       "      <td>25600</td>\n",
       "      <td>25600</td>\n",
       "      <td>25600</td>\n",
       "      <td>25600</td>\n",
       "      <td>25600</td>\n",
       "      <td>25600</td>\n",
       "      <td>25600</td>\n",
       "      <td>25600</td>\n",
       "      <td>25600</td>\n",
       "      <td>25600</td>\n",
       "      <td>25600</td>\n",
       "      <td>25600</td>\n",
       "      <td>0</td>\n",
       "      <td>0</td>\n",
       "    </tr>\n",
       "    <tr>\n",
       "      <th>790</th>\n",
       "      <td>Warrior Steel Erection Corp.</td>\n",
       "      <td>12/9/2022</td>\n",
       "      <td>216000</td>\n",
       "      <td>0</td>\n",
       "      <td>18000</td>\n",
       "      <td>18000</td>\n",
       "      <td>18000</td>\n",
       "      <td>18000</td>\n",
       "      <td>18000</td>\n",
       "      <td>18000</td>\n",
       "      <td>18000</td>\n",
       "      <td>18000</td>\n",
       "      <td>18000</td>\n",
       "      <td>18000</td>\n",
       "      <td>18000</td>\n",
       "      <td>18000</td>\n",
       "      <td>0</td>\n",
       "      <td>0</td>\n",
       "      <td>0</td>\n",
       "    </tr>\n",
       "  </tbody>\n",
       "</table>\n",
       "</div>"
      ],
      "text/plain": [
       "                     Account Name Expected FTB Date  Annual hotel spend  Nov 2022  Dec 2022  Jan 2023  Feb 2023  Mar 2023  Apr 2023  May 2023  Jun 2023  Jul 2023  Aug 2023  Sep 2023  Oct 2023  Nov 2023  Dec 2023  Jan 2024  Feb 2024\n",
       "547                 AfterDisaster         1/25/2023              307200         0         0     25600     25600     25600     25600     25600     25600     25600     25600     25600     25600     25600     25600         0         0\n",
       "790  Warrior Steel Erection Corp.         12/9/2022              216000         0     18000     18000     18000     18000     18000     18000     18000     18000     18000     18000     18000     18000         0         0         0"
      ]
     },
     "execution_count": 17,
     "metadata": {},
     "output_type": "execute_result"
    }
   ],
   "source": [
    "detail_pre[:2]"
   ]
  },
  {
   "cell_type": "code",
   "execution_count": 18,
   "id": "7082fc96",
   "metadata": {},
   "outputs": [
    {
     "data": {
      "text/html": [
       "<div>\n",
       "<style scoped>\n",
       "    .dataframe tbody tr th:only-of-type {\n",
       "        vertical-align: middle;\n",
       "    }\n",
       "\n",
       "    .dataframe tbody tr th {\n",
       "        vertical-align: top;\n",
       "    }\n",
       "\n",
       "    .dataframe thead th {\n",
       "        text-align: right;\n",
       "    }\n",
       "</style>\n",
       "<table border=\"1\" class=\"dataframe\">\n",
       "  <thead>\n",
       "    <tr style=\"text-align: right;\">\n",
       "      <th></th>\n",
       "      <th>Account Name</th>\n",
       "      <th>Expected FTB Date</th>\n",
       "      <th>Annual hotel spend</th>\n",
       "      <th>Jan 2022</th>\n",
       "      <th>Feb 2022</th>\n",
       "      <th>Mar 2022</th>\n",
       "      <th>Apr 2022</th>\n",
       "      <th>May 2022</th>\n",
       "      <th>Jun 2022</th>\n",
       "      <th>Jul 2022</th>\n",
       "      <th>Aug 2022</th>\n",
       "      <th>Sep 2022</th>\n",
       "      <th>Oct 2022</th>\n",
       "      <th>Nov 2022</th>\n",
       "      <th>Dec 2022</th>\n",
       "      <th>Jan 2023</th>\n",
       "      <th>Feb 2023</th>\n",
       "      <th>Mar 2023</th>\n",
       "      <th>Apr 2023</th>\n",
       "      <th>May 2023</th>\n",
       "      <th>Jun 2023</th>\n",
       "      <th>Jul 2023</th>\n",
       "      <th>Aug 2023</th>\n",
       "      <th>Sep 2023</th>\n",
       "      <th>Oct 2023</th>\n",
       "      <th>Nov 2023</th>\n",
       "    </tr>\n",
       "  </thead>\n",
       "  <tbody>\n",
       "    <tr>\n",
       "      <th>1028</th>\n",
       "      <td>Roebbelen Contracting</td>\n",
       "      <td>04/18/2022</td>\n",
       "      <td>330070</td>\n",
       "      <td>0</td>\n",
       "      <td>0</td>\n",
       "      <td>0</td>\n",
       "      <td>27506</td>\n",
       "      <td>27506</td>\n",
       "      <td>27506</td>\n",
       "      <td>27506</td>\n",
       "      <td>27506</td>\n",
       "      <td>27506</td>\n",
       "      <td>27506</td>\n",
       "      <td>27506</td>\n",
       "      <td>27506</td>\n",
       "      <td>27506</td>\n",
       "      <td>27506</td>\n",
       "      <td>27506</td>\n",
       "      <td>0</td>\n",
       "      <td>0</td>\n",
       "      <td>0</td>\n",
       "      <td>0</td>\n",
       "      <td>0</td>\n",
       "      <td>0</td>\n",
       "      <td>0</td>\n",
       "      <td>0</td>\n",
       "    </tr>\n",
       "    <tr>\n",
       "      <th>1067</th>\n",
       "      <td>MCM Construction</td>\n",
       "      <td>09/08/2022</td>\n",
       "      <td>300000</td>\n",
       "      <td>0</td>\n",
       "      <td>0</td>\n",
       "      <td>0</td>\n",
       "      <td>0</td>\n",
       "      <td>0</td>\n",
       "      <td>0</td>\n",
       "      <td>0</td>\n",
       "      <td>0</td>\n",
       "      <td>25000</td>\n",
       "      <td>25000</td>\n",
       "      <td>25000</td>\n",
       "      <td>25000</td>\n",
       "      <td>25000</td>\n",
       "      <td>25000</td>\n",
       "      <td>25000</td>\n",
       "      <td>25000</td>\n",
       "      <td>25000</td>\n",
       "      <td>25000</td>\n",
       "      <td>25000</td>\n",
       "      <td>25000</td>\n",
       "      <td>0</td>\n",
       "      <td>0</td>\n",
       "      <td>0</td>\n",
       "    </tr>\n",
       "  </tbody>\n",
       "</table>\n",
       "</div>"
      ],
      "text/plain": [
       "               Account Name Expected FTB Date  Annual hotel spend  Jan 2022  Feb 2022  Mar 2022  Apr 2022  May 2022  Jun 2022  Jul 2022  Aug 2022  Sep 2022  Oct 2022  Nov 2022  Dec 2022  Jan 2023  Feb 2023  Mar 2023  Apr 2023  May 2023  Jun 2023  Jul 2023  Aug 2023  Sep 2023  Oct 2023  Nov 2023\n",
       "1028  Roebbelen Contracting        04/18/2022              330070         0         0         0     27506     27506     27506     27506     27506     27506     27506     27506     27506     27506     27506     27506         0         0         0         0         0         0         0         0\n",
       "1067       MCM Construction        09/08/2022              300000         0         0         0         0         0         0         0         0     25000     25000     25000     25000     25000     25000     25000     25000     25000     25000     25000     25000         0         0         0"
      ]
     },
     "execution_count": 18,
     "metadata": {},
     "output_type": "execute_result"
    }
   ],
   "source": [
    "detail_post[:2]"
   ]
  },
  {
   "cell_type": "code",
   "execution_count": 19,
   "id": "86c418aa",
   "metadata": {},
   "outputs": [
    {
     "data": {
      "text/html": [
       "<div>\n",
       "<style scoped>\n",
       "    .dataframe tbody tr th:only-of-type {\n",
       "        vertical-align: middle;\n",
       "    }\n",
       "\n",
       "    .dataframe tbody tr th {\n",
       "        vertical-align: top;\n",
       "    }\n",
       "\n",
       "    .dataframe thead th {\n",
       "        text-align: right;\n",
       "    }\n",
       "</style>\n",
       "<table border=\"1\" class=\"dataframe\">\n",
       "  <thead>\n",
       "    <tr style=\"text-align: right;\">\n",
       "      <th></th>\n",
       "      <th>Nov 2022</th>\n",
       "      <th>Dec 2022</th>\n",
       "      <th>Jan 2023</th>\n",
       "      <th>Feb 2023</th>\n",
       "      <th>Mar 2023</th>\n",
       "      <th>Apr 2023</th>\n",
       "      <th>May 2023</th>\n",
       "      <th>Jun 2023</th>\n",
       "      <th>Jul 2023</th>\n",
       "      <th>Aug 2023</th>\n",
       "      <th>Sep 2023</th>\n",
       "      <th>Oct 2023</th>\n",
       "      <th>Nov 2023</th>\n",
       "      <th>Dec 2023</th>\n",
       "      <th>Jan 2024</th>\n",
       "      <th>Feb 2024</th>\n",
       "    </tr>\n",
       "  </thead>\n",
       "  <tbody>\n",
       "    <tr>\n",
       "      <th>$ Expected FTB Booking</th>\n",
       "      <td>4167</td>\n",
       "      <td>58002</td>\n",
       "      <td>145688</td>\n",
       "      <td>137355</td>\n",
       "      <td>149855</td>\n",
       "      <td>149855</td>\n",
       "      <td>149855</td>\n",
       "      <td>149855</td>\n",
       "      <td>149855</td>\n",
       "      <td>149855</td>\n",
       "      <td>149855</td>\n",
       "      <td>149855</td>\n",
       "      <td>145688</td>\n",
       "      <td>87686</td>\n",
       "      <td>4167</td>\n",
       "      <td>4167</td>\n",
       "    </tr>\n",
       "    <tr>\n",
       "      <th># Expected FTB Accounts</th>\n",
       "      <td>1</td>\n",
       "      <td>9</td>\n",
       "      <td>23</td>\n",
       "      <td>22</td>\n",
       "      <td>24</td>\n",
       "      <td>24</td>\n",
       "      <td>24</td>\n",
       "      <td>24</td>\n",
       "      <td>24</td>\n",
       "      <td>24</td>\n",
       "      <td>24</td>\n",
       "      <td>24</td>\n",
       "      <td>23</td>\n",
       "      <td>14</td>\n",
       "      <td>1</td>\n",
       "      <td>1</td>\n",
       "    </tr>\n",
       "  </tbody>\n",
       "</table>\n",
       "</div>"
      ],
      "text/plain": [
       "                         Nov 2022  Dec 2022  Jan 2023  Feb 2023  Mar 2023  Apr 2023  May 2023  Jun 2023  Jul 2023  Aug 2023  Sep 2023  Oct 2023  Nov 2023  Dec 2023  Jan 2024  Feb 2024\n",
       "$ Expected FTB Booking       4167     58002    145688    137355    149855    149855    149855    149855    149855    149855    149855    149855    145688     87686      4167      4167\n",
       "# Expected FTB Accounts         1         9        23        22        24        24        24        24        24        24        24        24        23        14         1         1"
      ]
     },
     "execution_count": 19,
     "metadata": {},
     "output_type": "execute_result"
    }
   ],
   "source": [
    "partial_pipeline_summary( detail_pre , detail_type = 'pre' )"
   ]
  },
  {
   "cell_type": "code",
   "execution_count": 20,
   "id": "43b34852",
   "metadata": {
    "scrolled": true
   },
   "outputs": [
    {
     "data": {
      "text/html": [
       "<div>\n",
       "<style scoped>\n",
       "    .dataframe tbody tr th:only-of-type {\n",
       "        vertical-align: middle;\n",
       "    }\n",
       "\n",
       "    .dataframe tbody tr th {\n",
       "        vertical-align: top;\n",
       "    }\n",
       "\n",
       "    .dataframe thead th {\n",
       "        text-align: right;\n",
       "    }\n",
       "</style>\n",
       "<table border=\"1\" class=\"dataframe\">\n",
       "  <thead>\n",
       "    <tr style=\"text-align: right;\">\n",
       "      <th></th>\n",
       "      <th>Jan 2022</th>\n",
       "      <th>Feb 2022</th>\n",
       "      <th>Mar 2022</th>\n",
       "      <th>Apr 2022</th>\n",
       "      <th>May 2022</th>\n",
       "      <th>Jun 2022</th>\n",
       "      <th>Jul 2022</th>\n",
       "      <th>Aug 2022</th>\n",
       "      <th>Sep 2022</th>\n",
       "      <th>Oct 2022</th>\n",
       "      <th>Nov 2022</th>\n",
       "      <th>Dec 2022</th>\n",
       "      <th>Jan 2023</th>\n",
       "      <th>Feb 2023</th>\n",
       "      <th>Mar 2023</th>\n",
       "      <th>Apr 2023</th>\n",
       "      <th>May 2023</th>\n",
       "      <th>Jun 2023</th>\n",
       "      <th>Jul 2023</th>\n",
       "      <th>Aug 2023</th>\n",
       "      <th>Sep 2023</th>\n",
       "      <th>Oct 2023</th>\n",
       "      <th>Nov 2023</th>\n",
       "    </tr>\n",
       "  </thead>\n",
       "  <tbody>\n",
       "    <tr>\n",
       "      <th>$ Confirmed Pipeline Bookings</th>\n",
       "      <td>33335</td>\n",
       "      <td>54170</td>\n",
       "      <td>103839</td>\n",
       "      <td>168845</td>\n",
       "      <td>209411</td>\n",
       "      <td>253996</td>\n",
       "      <td>271497</td>\n",
       "      <td>335914</td>\n",
       "      <td>385248</td>\n",
       "      <td>432748</td>\n",
       "      <td>451499</td>\n",
       "      <td>463499</td>\n",
       "      <td>442664</td>\n",
       "      <td>377412</td>\n",
       "      <td>368827</td>\n",
       "      <td>290488</td>\n",
       "      <td>266588</td>\n",
       "      <td>222003</td>\n",
       "      <td>196169</td>\n",
       "      <td>134252</td>\n",
       "      <td>86584</td>\n",
       "      <td>43251</td>\n",
       "      <td>24500</td>\n",
       "    </tr>\n",
       "    <tr>\n",
       "      <th># Confirmed Pipeline Accounts</th>\n",
       "      <td>7</td>\n",
       "      <td>12</td>\n",
       "      <td>22</td>\n",
       "      <td>32</td>\n",
       "      <td>37</td>\n",
       "      <td>45</td>\n",
       "      <td>50</td>\n",
       "      <td>58</td>\n",
       "      <td>64</td>\n",
       "      <td>69</td>\n",
       "      <td>73</td>\n",
       "      <td>74</td>\n",
       "      <td>69</td>\n",
       "      <td>57</td>\n",
       "      <td>53</td>\n",
       "      <td>42</td>\n",
       "      <td>39</td>\n",
       "      <td>31</td>\n",
       "      <td>25</td>\n",
       "      <td>17</td>\n",
       "      <td>11</td>\n",
       "      <td>7</td>\n",
       "      <td>3</td>\n",
       "    </tr>\n",
       "  </tbody>\n",
       "</table>\n",
       "</div>"
      ],
      "text/plain": [
       "                               Jan 2022  Feb 2022  Mar 2022  Apr 2022  May 2022  Jun 2022  Jul 2022  Aug 2022  Sep 2022  Oct 2022  Nov 2022  Dec 2022  Jan 2023  Feb 2023  Mar 2023  Apr 2023  May 2023  Jun 2023  Jul 2023  Aug 2023  Sep 2023  Oct 2023  Nov 2023\n",
       "$ Confirmed Pipeline Bookings     33335     54170    103839    168845    209411    253996    271497    335914    385248    432748    451499    463499    442664    377412    368827    290488    266588    222003    196169    134252     86584     43251     24500\n",
       "# Confirmed Pipeline Accounts         7        12        22        32        37        45        50        58        64        69        73        74        69        57        53        42        39        31        25        17        11         7         3"
      ]
     },
     "execution_count": 20,
     "metadata": {},
     "output_type": "execute_result"
    }
   ],
   "source": [
    "partial_pipeline_summary( detail_post , detail_type = 'post' )"
   ]
  },
  {
   "cell_type": "markdown",
   "id": "5e357fb3",
   "metadata": {},
   "source": [
    "# Partial Visualizations"
   ]
  },
  {
   "cell_type": "code",
   "execution_count": 21,
   "id": "2cfda232",
   "metadata": {},
   "outputs": [],
   "source": [
    "def vialualize_partial_pipeline (detail,detail_type):\n",
    "\n",
    "\n",
    "    if detail_type == 'pre':\n",
    "        label1 = '$ Expected FTB Booking'\n",
    "        label2 = '# Expected FTB Accounts'\n",
    "        color = 'C0'\n",
    "    if detail_type == 'post':\n",
    "        label1 = '$ Confirmed Pipeline Bookings'\n",
    "        label2 = '# Confirmed Pipeline Accounts'\n",
    "        color = 'C1'\n",
    "\n",
    "    df_exp = partial_pipeline_summary( detail , detail_type)\n",
    "\n",
    "\n",
    "    ax = (df_exp.T).plot(kind='bar',\n",
    "                    y=label1,\n",
    "                    rot=90, width=0.8, edgecolor='black',\n",
    "                    legend=False,\n",
    "                    title=label1,\n",
    "                    color = color);\n",
    "    ax.set_axisbelow(True)\n",
    "    ax.yaxis.grid(True)\n",
    "    ax.spines['left'].set_linewidth(1.2)   # Left spine\n",
    "    ax.spines['bottom'].set_linewidth(1.2) # Bottom spine\n",
    "    ax.spines['right'].set_visible(False) # Right spine\n",
    "    ax.spines['top'].set_visible(False)   # Top spine\n",
    "\n",
    "    # Format y-axis tick labels\n",
    "    ax.yaxis.set_major_formatter(mticker.StrMethodFormatter('${x:,.0f}'))\n",
    "    #plt.legend()\n",
    "    \n",
    "    # Display the plot and then close it\n",
    "    plt.show()\n",
    "    plt.close()\n",
    "    \n",
    "    #Otherwise\n",
    "    #return plt;"
   ]
  },
  {
   "cell_type": "code",
   "execution_count": 22,
   "id": "ee3a03dc",
   "metadata": {},
   "outputs": [
    {
     "data": {
      "image/png": "[encoded data removed]",
      "text/plain": [
       "<Figure size 432x288 with 1 Axes>"
      ]
     },
     "metadata": {
      "needs_background": "light"
     },
     "output_type": "display_data"
    }
   ],
   "source": [
    "vialualize_partial_pipeline (detail_pre,detail_type='pre')"
   ]
  },
  {
   "cell_type": "code",
   "execution_count": 23,
   "id": "48479504",
   "metadata": {},
   "outputs": [
    {
     "data": {
      "image/png": "[encoded data removed]",
      "text/plain": [
       "<Figure size 432x288 with 1 Axes>"
      ]
     },
     "metadata": {
      "needs_background": "light"
     },
     "output_type": "display_data"
    }
   ],
   "source": [
    "vialualize_partial_pipeline (detail_post,detail_type='post')"
   ]
  },
  {
   "cell_type": "markdown",
   "id": "33c59ae0",
   "metadata": {},
   "source": [
    "# Pipeline"
   ]
  },
  {
   "cell_type": "code",
   "execution_count": null,
   "id": "30f80791",
   "metadata": {},
   "outputs": [],
   "source": []
  }
 ],
 "metadata": {
  "kernelspec": {
   "display_name": "Python 3",
   "language": "python",
   "name": "python3"
  },
  "language_info": {
   "codemirror_mode": {
    "name": "ipython",
    "version": 3
   },
   "file_extension": ".py",
   "mimetype": "text/x-python",
   "name": "python",
   "nbconvert_exporter": "python",
   "pygments_lexer": "ipython3",
   "version": "3.9.5"
  }
 },
 "nbformat": 4,
 "nbformat_minor": 5
}
