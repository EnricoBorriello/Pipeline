{
 "cells": [
  {
   "cell_type": "code",
   "execution_count": 216,
   "id": "ec72b742",
   "metadata": {},
   "outputs": [],
   "source": [
    "import pandas as pd\n",
    "import math\n",
    "import matplotlib.pyplot as plt\n",
    "from itertools import count\n",
    "import numpy as np\n",
    "import sklearn as skl\n",
    "import seaborn as sb\n",
    "import altair as alt"
   ]
  },
  {
   "cell_type": "code",
   "execution_count": 217,
   "id": "f91c5e3b",
   "metadata": {},
   "outputs": [],
   "source": [
    "df_pre = pd.read_csv('Pre-FTB_Report.csv')\n",
    "df_post = pd.read_csv('Post-FTB_Report.csv')"
   ]
  },
  {
   "cell_type": "code",
   "execution_count": 218,
   "id": "415b35e1",
   "metadata": {},
   "outputs": [],
   "source": [
    "df_pre['Annual hotel spend'] = df_pre['Annual hotel spend'].fillna(0).astype(int)\n",
    "df_post['Annual hotel spend'] = df_post['Annual hotel spend'].fillna(0).astype(int)"
   ]
  },
  {
   "cell_type": "code",
   "execution_count": 255,
   "id": "1bd18b26",
   "metadata": {},
   "outputs": [],
   "source": [
    "#list(df_pre['Opportunity Owner'])"
   ]
  },
  {
   "cell_type": "code",
   "execution_count": 256,
   "id": "0d9d5121",
   "metadata": {},
   "outputs": [
    {
     "data": {
      "text/html": [
       "<div>\n",
       "<style scoped>\n",
       "    .dataframe tbody tr th:only-of-type {\n",
       "        vertical-align: middle;\n",
       "    }\n",
       "\n",
       "    .dataframe tbody tr th {\n",
       "        vertical-align: top;\n",
       "    }\n",
       "\n",
       "    .dataframe thead th {\n",
       "        text-align: right;\n",
       "    }\n",
       "</style>\n",
       "<table border=\"1\" class=\"dataframe\">\n",
       "  <thead>\n",
       "    <tr style=\"text-align: right;\">\n",
       "      <th></th>\n",
       "      <th>Account Name</th>\n",
       "      <th>Expected FTB Date</th>\n",
       "      <th>Annual hotel spend</th>\n",
       "    </tr>\n",
       "  </thead>\n",
       "  <tbody>\n",
       "    <tr>\n",
       "      <th>288</th>\n",
       "      <td>Blue Eagle Oilfield Services</td>\n",
       "      <td>11/23/2022</td>\n",
       "      <td>50001</td>\n",
       "    </tr>\n",
       "    <tr>\n",
       "      <th>694</th>\n",
       "      <td>Frontier Building Corp</td>\n",
       "      <td>11/30/2022</td>\n",
       "      <td>200001</td>\n",
       "    </tr>\n",
       "    <tr>\n",
       "      <th>855</th>\n",
       "      <td>Evolution Well Services</td>\n",
       "      <td>11/30/2022</td>\n",
       "      <td>125001</td>\n",
       "    </tr>\n",
       "    <tr>\n",
       "      <th>896</th>\n",
       "      <td>Gorbel</td>\n",
       "      <td>12/13/2022</td>\n",
       "      <td>154801</td>\n",
       "    </tr>\n",
       "    <tr>\n",
       "      <th>1015</th>\n",
       "      <td>Gorbel</td>\n",
       "      <td>1/16/2023</td>\n",
       "      <td>75001</td>\n",
       "    </tr>\n",
       "  </tbody>\n",
       "</table>\n",
       "</div>"
      ],
      "text/plain": [
       "                      Account Name Expected FTB Date  Annual hotel spend\n",
       "288   Blue Eagle Oilfield Services        11/23/2022               50001\n",
       "694         Frontier Building Corp        11/30/2022              200001\n",
       "855        Evolution Well Services        11/30/2022              125001\n",
       "896                         Gorbel        12/13/2022              154801\n",
       "1015                        Gorbel         1/16/2023               75001"
      ]
     },
     "execution_count": 256,
     "metadata": {},
     "output_type": "execute_result"
    }
   ],
   "source": [
    "owner = 'Adam Ward'\n",
    "df0 = df_pre[df_pre['Opportunity Owner']==owner]\n",
    "df1 = df0.dropna(subset=['Expected FTB Date'])\n",
    "df2 = df1[['Account Name','Expected FTB Date','Annual hotel spend']]\n",
    "df2"
   ]
  },
  {
   "cell_type": "code",
   "execution_count": 257,
   "id": "86cb6885",
   "metadata": {},
   "outputs": [],
   "source": [
    "from datetime import datetime, timedelta\n",
    "\n",
    "def find_date_range(date_list):\n",
    "    \"\"\"\n",
    "    given a list of dates in the MM/DD/YYYY format, \n",
    "    we find the earliest and the latest ones.\n",
    "    \"\"\"\n",
    "    # Convert the dates to datetime objects\n",
    "    date_objects = [datetime.strptime(date_str, \"%m/%d/%Y\") for date_str in date_list]\n",
    "    # Find the earliest and latest datea using the min() and max functions\n",
    "    earliest_date = min(date_objects)\n",
    "    latest_date = max(date_objects)\n",
    "    # Convert the dates back to the MM/DD/YYYY format\n",
    "    earliest_date_str = earliest_date.strftime(\"%m/%d/%Y\")\n",
    "    latest_date_str = latest_date.strftime(\"%m/%d/%Y\")\n",
    "    return earliest_date_str, latest_date_str"
   ]
  },
  {
   "cell_type": "code",
   "execution_count": 258,
   "id": "c772c48a",
   "metadata": {},
   "outputs": [
    {
     "data": {
      "text/plain": [
       "('11/23/2022', '01/16/2023')"
      ]
     },
     "execution_count": 258,
     "metadata": {},
     "output_type": "execute_result"
    }
   ],
   "source": [
    "find_date_range(df2['Expected FTB Date'])"
   ]
  },
  {
   "cell_type": "code",
   "execution_count": 259,
   "id": "17e77db3",
   "metadata": {},
   "outputs": [
    {
     "name": "stderr",
     "output_type": "stream",
     "text": [
      "<ipython-input-259-bb1f156949a9>:19: SettingWithCopyWarning: \n",
      "A value is trying to be set on a copy of a slice from a DataFrame.\n",
      "Try using .loc[row_indexer,col_indexer] = value instead\n",
      "\n",
      "See the caveats in the documentation: https://pandas.pydata.org/pandas-docs/stable/user_guide/indexing.html#returning-a-view-versus-a-copy\n",
      "  df2[str(current_date.strftime(\"%b %Y\"))] = col\n"
     ]
    }
   ],
   "source": [
    "# Define the range using the first and second dates\n",
    "start_date_str = '11/23/2022'\n",
    "end_date_str = '01/16/2023'\n",
    "\n",
    "# Convert the start and end dates to datetime objects\n",
    "start_date = datetime.strptime(start_date_str, \"%m/%d/%Y\")\n",
    "end_date = datetime.strptime(end_date_str, \"%m/%d/%Y\")\n",
    "\n",
    "# Add one year to the end date\n",
    "end_date_plus_one_year = end_date + timedelta(days=365)\n",
    "\n",
    "# Iterate through the months and print the abbreviated month and year\n",
    "\n",
    "col = [0 for i in range(len(df2))]\n",
    "\n",
    "current_date = start_date\n",
    "while current_date < end_date_plus_one_year:\n",
    "    #print(current_date.strftime(\"%b %Y\"))\n",
    "    df2[str(current_date.strftime(\"%b %Y\"))] = col\n",
    "    current_date += timedelta(days=30)"
   ]
  },
  {
   "cell_type": "code",
   "execution_count": 260,
   "id": "3ccd5e37",
   "metadata": {},
   "outputs": [],
   "source": [
    "for i in range(len(df2)): # loop over accounts for given owner\n",
    "    start_date = df2.at[df2.index[i],'Expected FTB Date']\n",
    "    spend = df2.at[df2.index[i],'Annual hotel spend']\n",
    "    # Convert the date string to a datetime object\n",
    "    date = datetime.strptime(start_date, \"%m/%d/%Y\")\n",
    "    # loop over the following 12 months\n",
    "    for j in range(12):\n",
    "        label = date.strftime(\"%b %Y\")  # Format the date as \"Abbreviated Month Year\"\n",
    "        df2.at[df2.index[i],label] = round(spend/12)\n",
    "        # Add 30 days to the date for the next month\n",
    "        date += timedelta(days=30)\n",
    "    # to make sure empty months don't return NaN when divided by zero:\n",
    "    df2.fillna(int(0), inplace=True, downcast='infer') "
   ]
  },
  {
   "cell_type": "code",
   "execution_count": 261,
   "id": "e78ca393",
   "metadata": {},
   "outputs": [
    {
     "data": {
      "text/html": [
       "<div>\n",
       "<style scoped>\n",
       "    .dataframe tbody tr th:only-of-type {\n",
       "        vertical-align: middle;\n",
       "    }\n",
       "\n",
       "    .dataframe tbody tr th {\n",
       "        vertical-align: top;\n",
       "    }\n",
       "\n",
       "    .dataframe thead th {\n",
       "        text-align: right;\n",
       "    }\n",
       "</style>\n",
       "<table border=\"1\" class=\"dataframe\">\n",
       "  <thead>\n",
       "    <tr style=\"text-align: right;\">\n",
       "      <th></th>\n",
       "      <th>Account Name</th>\n",
       "      <th>Expected FTB Date</th>\n",
       "      <th>Annual hotel spend</th>\n",
       "      <th>Nov 2022</th>\n",
       "      <th>Dec 2022</th>\n",
       "      <th>Jan 2023</th>\n",
       "      <th>Feb 2023</th>\n",
       "      <th>Mar 2023</th>\n",
       "      <th>Apr 2023</th>\n",
       "      <th>May 2023</th>\n",
       "      <th>Jun 2023</th>\n",
       "      <th>Jul 2023</th>\n",
       "      <th>Aug 2023</th>\n",
       "      <th>Sep 2023</th>\n",
       "      <th>Oct 2023</th>\n",
       "      <th>Nov 2023</th>\n",
       "      <th>Dec 2023</th>\n",
       "    </tr>\n",
       "  </thead>\n",
       "  <tbody>\n",
       "    <tr>\n",
       "      <th>288</th>\n",
       "      <td>Blue Eagle Oilfield Services</td>\n",
       "      <td>11/23/2022</td>\n",
       "      <td>50001</td>\n",
       "      <td>4167</td>\n",
       "      <td>4167</td>\n",
       "      <td>4167</td>\n",
       "      <td>4167</td>\n",
       "      <td>4167</td>\n",
       "      <td>4167</td>\n",
       "      <td>4167</td>\n",
       "      <td>4167</td>\n",
       "      <td>4167</td>\n",
       "      <td>4167</td>\n",
       "      <td>4167</td>\n",
       "      <td>4167</td>\n",
       "      <td>0</td>\n",
       "      <td>0</td>\n",
       "    </tr>\n",
       "    <tr>\n",
       "      <th>855</th>\n",
       "      <td>Evolution Well Services</td>\n",
       "      <td>11/30/2022</td>\n",
       "      <td>125001</td>\n",
       "      <td>10417</td>\n",
       "      <td>10417</td>\n",
       "      <td>10417</td>\n",
       "      <td>10417</td>\n",
       "      <td>10417</td>\n",
       "      <td>10417</td>\n",
       "      <td>10417</td>\n",
       "      <td>10417</td>\n",
       "      <td>10417</td>\n",
       "      <td>10417</td>\n",
       "      <td>10417</td>\n",
       "      <td>10417</td>\n",
       "      <td>0</td>\n",
       "      <td>0</td>\n",
       "    </tr>\n",
       "    <tr>\n",
       "      <th>694</th>\n",
       "      <td>Frontier Building Corp</td>\n",
       "      <td>11/30/2022</td>\n",
       "      <td>200001</td>\n",
       "      <td>16667</td>\n",
       "      <td>16667</td>\n",
       "      <td>16667</td>\n",
       "      <td>16667</td>\n",
       "      <td>16667</td>\n",
       "      <td>16667</td>\n",
       "      <td>16667</td>\n",
       "      <td>16667</td>\n",
       "      <td>16667</td>\n",
       "      <td>16667</td>\n",
       "      <td>16667</td>\n",
       "      <td>16667</td>\n",
       "      <td>0</td>\n",
       "      <td>0</td>\n",
       "    </tr>\n",
       "    <tr>\n",
       "      <th>896</th>\n",
       "      <td>Gorbel</td>\n",
       "      <td>12/13/2022</td>\n",
       "      <td>154801</td>\n",
       "      <td>0</td>\n",
       "      <td>12900</td>\n",
       "      <td>12900</td>\n",
       "      <td>12900</td>\n",
       "      <td>12900</td>\n",
       "      <td>12900</td>\n",
       "      <td>12900</td>\n",
       "      <td>12900</td>\n",
       "      <td>12900</td>\n",
       "      <td>12900</td>\n",
       "      <td>12900</td>\n",
       "      <td>12900</td>\n",
       "      <td>12900</td>\n",
       "      <td>0</td>\n",
       "    </tr>\n",
       "    <tr>\n",
       "      <th>1015</th>\n",
       "      <td>Gorbel</td>\n",
       "      <td>1/16/2023</td>\n",
       "      <td>75001</td>\n",
       "      <td>0</td>\n",
       "      <td>0</td>\n",
       "      <td>6250</td>\n",
       "      <td>6250</td>\n",
       "      <td>6250</td>\n",
       "      <td>6250</td>\n",
       "      <td>6250</td>\n",
       "      <td>6250</td>\n",
       "      <td>6250</td>\n",
       "      <td>6250</td>\n",
       "      <td>6250</td>\n",
       "      <td>6250</td>\n",
       "      <td>6250</td>\n",
       "      <td>6250</td>\n",
       "    </tr>\n",
       "  </tbody>\n",
       "</table>\n",
       "</div>"
      ],
      "text/plain": [
       "                      Account Name Expected FTB Date  Annual hotel spend  \\\n",
       "288   Blue Eagle Oilfield Services        11/23/2022               50001   \n",
       "855        Evolution Well Services        11/30/2022              125001   \n",
       "694         Frontier Building Corp        11/30/2022              200001   \n",
       "896                         Gorbel        12/13/2022              154801   \n",
       "1015                        Gorbel         1/16/2023               75001   \n",
       "\n",
       "      Nov 2022  Dec 2022  Jan 2023  Feb 2023  Mar 2023  Apr 2023  May 2023  \\\n",
       "288       4167      4167      4167      4167      4167      4167      4167   \n",
       "855      10417     10417     10417     10417     10417     10417     10417   \n",
       "694      16667     16667     16667     16667     16667     16667     16667   \n",
       "896          0     12900     12900     12900     12900     12900     12900   \n",
       "1015         0         0      6250      6250      6250      6250      6250   \n",
       "\n",
       "      Jun 2023  Jul 2023  Aug 2023  Sep 2023  Oct 2023  Nov 2023  Dec 2023  \n",
       "288       4167      4167      4167      4167      4167         0         0  \n",
       "855      10417     10417     10417     10417     10417         0         0  \n",
       "694      16667     16667     16667     16667     16667         0         0  \n",
       "896      12900     12900     12900     12900     12900     12900         0  \n",
       "1015      6250      6250      6250      6250      6250      6250      6250  "
      ]
     },
     "execution_count": 261,
     "metadata": {},
     "output_type": "execute_result"
    }
   ],
   "source": [
    "# This reproduces the content of \"Prospect (Pre-FTB) detail\"\n",
    "# Now I need to reproduce \"Customers (Post-FTB) Detail\"\n",
    "# and \"Pipeline Summary\"\n",
    "\n",
    "sorted_df2 = df2.sort_values(by='Account Name')\n",
    "sorted_df2"
   ]
  },
  {
   "cell_type": "code",
   "execution_count": 262,
   "id": "c6049f70",
   "metadata": {
    "scrolled": true
   },
   "outputs": [],
   "source": [
    "numeric_columns = sorted_df2.select_dtypes(include='number')\n",
    "cols = numeric_columns.columns"
   ]
  },
  {
   "cell_type": "code",
   "execution_count": 295,
   "id": "151813c7",
   "metadata": {},
   "outputs": [
    {
     "data": {
      "text/html": [
       "<div>\n",
       "<style scoped>\n",
       "    .dataframe tbody tr th:only-of-type {\n",
       "        vertical-align: middle;\n",
       "    }\n",
       "\n",
       "    .dataframe tbody tr th {\n",
       "        vertical-align: top;\n",
       "    }\n",
       "\n",
       "    .dataframe thead th {\n",
       "        text-align: right;\n",
       "    }\n",
       "</style>\n",
       "<table border=\"1\" class=\"dataframe\">\n",
       "  <thead>\n",
       "    <tr style=\"text-align: right;\">\n",
       "      <th></th>\n",
       "      <th>Nov 2022</th>\n",
       "      <th>Dec 2022</th>\n",
       "      <th>Jan 2023</th>\n",
       "      <th>Feb 2023</th>\n",
       "      <th>Mar 2023</th>\n",
       "      <th>Apr 2023</th>\n",
       "      <th>May 2023</th>\n",
       "      <th>Jun 2023</th>\n",
       "      <th>Jul 2023</th>\n",
       "      <th>Aug 2023</th>\n",
       "      <th>Sep 2023</th>\n",
       "      <th>Oct 2023</th>\n",
       "      <th>Nov 2023</th>\n",
       "      <th>Dec 2023</th>\n",
       "    </tr>\n",
       "  </thead>\n",
       "  <tbody>\n",
       "    <tr>\n",
       "      <th>$ Expected FTB Booking</th>\n",
       "      <td>31251</td>\n",
       "      <td>44151</td>\n",
       "      <td>50401</td>\n",
       "      <td>50401</td>\n",
       "      <td>50401</td>\n",
       "      <td>50401</td>\n",
       "      <td>50401</td>\n",
       "      <td>50401</td>\n",
       "      <td>50401</td>\n",
       "      <td>50401</td>\n",
       "      <td>50401</td>\n",
       "      <td>50401</td>\n",
       "      <td>19150</td>\n",
       "      <td>6250</td>\n",
       "    </tr>\n",
       "    <tr>\n",
       "      <th># Expected FTB Accounts</th>\n",
       "      <td>3</td>\n",
       "      <td>4</td>\n",
       "      <td>5</td>\n",
       "      <td>5</td>\n",
       "      <td>5</td>\n",
       "      <td>5</td>\n",
       "      <td>5</td>\n",
       "      <td>5</td>\n",
       "      <td>5</td>\n",
       "      <td>5</td>\n",
       "      <td>5</td>\n",
       "      <td>5</td>\n",
       "      <td>2</td>\n",
       "      <td>1</td>\n",
       "    </tr>\n",
       "  </tbody>\n",
       "</table>\n",
       "</div>"
      ],
      "text/plain": [
       "                         Nov 2022  Dec 2022  Jan 2023  Feb 2023  Mar 2023  \\\n",
       "$ Expected FTB Booking      31251     44151     50401     50401     50401   \n",
       "# Expected FTB Accounts         3         4         5         5         5   \n",
       "\n",
       "                         Apr 2023  May 2023  Jun 2023  Jul 2023  Aug 2023  \\\n",
       "$ Expected FTB Booking      50401     50401     50401     50401     50401   \n",
       "# Expected FTB Accounts         5         5         5         5         5   \n",
       "\n",
       "                         Sep 2023  Oct 2023  Nov 2023  Dec 2023  \n",
       "$ Expected FTB Booking      50401     50401     19150      6250  \n",
       "# Expected FTB Accounts         5         5         2         1  "
      ]
     },
     "execution_count": 295,
     "metadata": {},
     "output_type": "execute_result"
    }
   ],
   "source": [
    "# Here are the first two lines of \"Pipeline Summary\":\n",
    "\n",
    "numeric_columns = sorted_df2.select_dtypes(include='number')\n",
    "df1exp = (pd.DataFrame(numeric_columns.sum()))\n",
    "df2exp = pd.DataFrame((sorted_df2[cols] != 0).sum())\n",
    "\n",
    "df1exp.rename(columns={0: '$ Expected FTB Booking'}, inplace=True)\n",
    "df2exp.rename(columns={0: '# Expected FTB Accounts'}, inplace=True)\n",
    "\n",
    "df_exp = (pd.concat([df1exp, df2exp], axis=1)[1:]).transpose()\n",
    "\n",
    "df_exp"
   ]
  },
  {
   "cell_type": "code",
   "execution_count": null,
   "id": "372bda76",
   "metadata": {},
   "outputs": [],
   "source": []
  },
  {
   "cell_type": "code",
   "execution_count": null,
   "id": "dba69d2c",
   "metadata": {},
   "outputs": [],
   "source": []
  },
  {
   "cell_type": "code",
   "execution_count": null,
   "id": "8330d412",
   "metadata": {},
   "outputs": [],
   "source": []
  },
  {
   "cell_type": "code",
   "execution_count": null,
   "id": "fde30149",
   "metadata": {},
   "outputs": [],
   "source": []
  },
  {
   "cell_type": "code",
   "execution_count": null,
   "id": "3cb29a22",
   "metadata": {},
   "outputs": [],
   "source": []
  },
  {
   "cell_type": "code",
   "execution_count": null,
   "id": "a433cdf9",
   "metadata": {},
   "outputs": [],
   "source": []
  },
  {
   "cell_type": "code",
   "execution_count": null,
   "id": "96ddb314",
   "metadata": {},
   "outputs": [],
   "source": []
  },
  {
   "cell_type": "code",
   "execution_count": null,
   "id": "6eaa9e6e",
   "metadata": {},
   "outputs": [],
   "source": []
  },
  {
   "cell_type": "code",
   "execution_count": null,
   "id": "fcafea46",
   "metadata": {},
   "outputs": [],
   "source": []
  },
  {
   "cell_type": "code",
   "execution_count": 5,
   "id": "bd9816bd",
   "metadata": {},
   "outputs": [],
   "source": [
    "pre_owners = np.sort(np.array(df_pre['Opportunity Owner'].unique()))\n",
    "post_owners = np.sort(np.array(df_post['Opportunity Owner'].unique()))"
   ]
  },
  {
   "cell_type": "code",
   "execution_count": 7,
   "id": "e8e1a014",
   "metadata": {
    "scrolled": true
   },
   "outputs": [
    {
     "name": "stdout",
     "output_type": "stream",
     "text": [
      "43\n",
      "42\n"
     ]
    }
   ],
   "source": [
    "print(len(pre_owners))\n",
    "print(len(post_owners))"
   ]
  },
  {
   "cell_type": "code",
   "execution_count": 47,
   "id": "867a7abe",
   "metadata": {},
   "outputs": [
    {
     "name": "stdout",
     "output_type": "stream",
     "text": [
      "Will Gotsch\n"
     ]
    }
   ],
   "source": [
    "for owner in pre_owners:\n",
    "    if owner not in post_owners:\n",
    "        print(owner)"
   ]
  },
  {
   "cell_type": "code",
   "execution_count": 8,
   "id": "21f8f67e",
   "metadata": {},
   "outputs": [
    {
     "data": {
      "text/html": [
       "<style  type=\"text/css\" >\n",
       "</style><table id=\"T_bda9e_\" ><thead>    <tr>        <th class=\"blank level0\" ></th>        <th class=\"col_heading level0 col0\" >Account Name</th>        <th class=\"col_heading level0 col1\" >Opportunity Name</th>        <th class=\"col_heading level0 col2\" >Stage</th>        <th class=\"col_heading level0 col3\" >Expected FTB Date</th>        <th class=\"col_heading level0 col4\" >Annual hotel spend</th>        <th class=\"col_heading level0 col5\" >Account: Last Activity</th>    </tr></thead><tbody>\n",
       "                <tr>\n",
       "                        <th id=\"T_bda9e_level0_row0\" class=\"row_heading level0 row0\" >296</th>\n",
       "                        <td id=\"T_bda9e_row0_col0\" class=\"data row0 col0\" >ATT SPORTS, INC.</td>\n",
       "                        <td id=\"T_bda9e_row0_col1\" class=\"data row0 col1\" >ATT SPORTS, INC.-</td>\n",
       "                        <td id=\"T_bda9e_row0_col2\" class=\"data row0 col2\" >Discovery</td>\n",
       "                        <td id=\"T_bda9e_row0_col3\" class=\"data row0 col3\" >3/1/2023</td>\n",
       "                        <td id=\"T_bda9e_row0_col4\" class=\"data row0 col4\" >500000</td>\n",
       "                        <td id=\"T_bda9e_row0_col5\" class=\"data row0 col5\" >12/5/2022</td>\n",
       "            </tr>\n",
       "            <tr>\n",
       "                        <th id=\"T_bda9e_level0_row1\" class=\"row_heading level0 row1\" >276</th>\n",
       "                        <td id=\"T_bda9e_row1_col0\" class=\"data row1 col0\" >RLS-CMC</td>\n",
       "                        <td id=\"T_bda9e_row1_col1\" class=\"data row1 col1\" >RLS-CMC-</td>\n",
       "                        <td id=\"T_bda9e_row1_col2\" class=\"data row1 col2\" >Demo</td>\n",
       "                        <td id=\"T_bda9e_row1_col3\" class=\"data row1 col3\" >12/19/2022</td>\n",
       "                        <td id=\"T_bda9e_row1_col4\" class=\"data row1 col4\" >200000</td>\n",
       "                        <td id=\"T_bda9e_row1_col5\" class=\"data row1 col5\" >12/14/2022</td>\n",
       "            </tr>\n",
       "            <tr>\n",
       "                        <th id=\"T_bda9e_level0_row2\" class=\"row_heading level0 row2\" >900</th>\n",
       "                        <td id=\"T_bda9e_row2_col0\" class=\"data row2 col0\" >Lighting Retrofit Services</td>\n",
       "                        <td id=\"T_bda9e_row2_col1\" class=\"data row2 col1\" >Lighting Retrofit Services-</td>\n",
       "                        <td id=\"T_bda9e_row2_col2\" class=\"data row2 col2\" >Discovery</td>\n",
       "                        <td id=\"T_bda9e_row2_col3\" class=\"data row2 col3\" >1/2/2023</td>\n",
       "                        <td id=\"T_bda9e_row2_col4\" class=\"data row2 col4\" >150000</td>\n",
       "                        <td id=\"T_bda9e_row2_col5\" class=\"data row2 col5\" >12/14/2022</td>\n",
       "            </tr>\n",
       "            <tr>\n",
       "                        <th id=\"T_bda9e_level0_row3\" class=\"row_heading level0 row3\" >905</th>\n",
       "                        <td id=\"T_bda9e_row3_col0\" class=\"data row3 col0\" >Butler-Cohen</td>\n",
       "                        <td id=\"T_bda9e_row3_col1\" class=\"data row3 col1\" >Butler-Cohen-</td>\n",
       "                        <td id=\"T_bda9e_row3_col2\" class=\"data row3 col2\" >Demo</td>\n",
       "                        <td id=\"T_bda9e_row3_col3\" class=\"data row3 col3\" >12/15/2022</td>\n",
       "                        <td id=\"T_bda9e_row3_col4\" class=\"data row3 col4\" >150000</td>\n",
       "                        <td id=\"T_bda9e_row3_col5\" class=\"data row3 col5\" >12/13/2022</td>\n",
       "            </tr>\n",
       "            <tr>\n",
       "                        <th id=\"T_bda9e_level0_row4\" class=\"row_heading level0 row4\" >955</th>\n",
       "                        <td id=\"T_bda9e_row4_col0\" class=\"data row4 col0\" >DT Construct</td>\n",
       "                        <td id=\"T_bda9e_row4_col1\" class=\"data row4 col1\" >DTConstruct - rev</td>\n",
       "                        <td id=\"T_bda9e_row4_col2\" class=\"data row4 col2\" >Discovery</td>\n",
       "                        <td id=\"T_bda9e_row4_col3\" class=\"data row4 col3\" >1/2/2023</td>\n",
       "                        <td id=\"T_bda9e_row4_col4\" class=\"data row4 col4\" >150000</td>\n",
       "                        <td id=\"T_bda9e_row4_col5\" class=\"data row4 col5\" >12/20/2022</td>\n",
       "            </tr>\n",
       "            <tr>\n",
       "                        <th id=\"T_bda9e_level0_row5\" class=\"row_heading level0 row5\" >1030</th>\n",
       "                        <td id=\"T_bda9e_row5_col0\" class=\"data row5 col0\" >B&M Roofing</td>\n",
       "                        <td id=\"T_bda9e_row5_col1\" class=\"data row5 col1\" >B&MRoofing</td>\n",
       "                        <td id=\"T_bda9e_row5_col2\" class=\"data row5 col2\" >Discovery</td>\n",
       "                        <td id=\"T_bda9e_row5_col3\" class=\"data row5 col3\" >1/23/2023</td>\n",
       "                        <td id=\"T_bda9e_row5_col4\" class=\"data row5 col4\" >150000</td>\n",
       "                        <td id=\"T_bda9e_row5_col5\" class=\"data row5 col5\" >1/11/2023</td>\n",
       "            </tr>\n",
       "            <tr>\n",
       "                        <th id=\"T_bda9e_level0_row6\" class=\"row_heading level0 row6\" >421</th>\n",
       "                        <td id=\"T_bda9e_row6_col0\" class=\"data row6 col0\" >Black Hawk Tower</td>\n",
       "                        <td id=\"T_bda9e_row6_col1\" class=\"data row6 col1\" >BlackHawkTower-</td>\n",
       "                        <td id=\"T_bda9e_row6_col2\" class=\"data row6 col2\" >Discovery</td>\n",
       "                        <td id=\"T_bda9e_row6_col3\" class=\"data row6 col3\" >2/6/2023</td>\n",
       "                        <td id=\"T_bda9e_row6_col4\" class=\"data row6 col4\" >100001</td>\n",
       "                        <td id=\"T_bda9e_row6_col5\" class=\"data row6 col5\" >12/12/2022</td>\n",
       "            </tr>\n",
       "            <tr>\n",
       "                        <th id=\"T_bda9e_level0_row7\" class=\"row_heading level0 row7\" >902</th>\n",
       "                        <td id=\"T_bda9e_row7_col0\" class=\"data row7 col0\" >AT Towers</td>\n",
       "                        <td id=\"T_bda9e_row7_col1\" class=\"data row7 col1\" >ATTowers-</td>\n",
       "                        <td id=\"T_bda9e_row7_col2\" class=\"data row7 col2\" >Discovery</td>\n",
       "                        <td id=\"T_bda9e_row7_col3\" class=\"data row7 col3\" >1/2/2023</td>\n",
       "                        <td id=\"T_bda9e_row7_col4\" class=\"data row7 col4\" >100001</td>\n",
       "                        <td id=\"T_bda9e_row7_col5\" class=\"data row7 col5\" >12/14/2022</td>\n",
       "            </tr>\n",
       "            <tr>\n",
       "                        <th id=\"T_bda9e_level0_row8\" class=\"row_heading level0 row8\" >987</th>\n",
       "                        <td id=\"T_bda9e_row8_col0\" class=\"data row8 col0\" >Kinzler Construction Services</td>\n",
       "                        <td id=\"T_bda9e_row8_col1\" class=\"data row8 col1\" >KinzlerConstruction2</td>\n",
       "                        <td id=\"T_bda9e_row8_col2\" class=\"data row8 col2\" >Discovery</td>\n",
       "                        <td id=\"T_bda9e_row8_col3\" class=\"data row8 col3\" >1/9/2023</td>\n",
       "                        <td id=\"T_bda9e_row8_col4\" class=\"data row8 col4\" >100001</td>\n",
       "                        <td id=\"T_bda9e_row8_col5\" class=\"data row8 col5\" >12/12/2022</td>\n",
       "            </tr>\n",
       "            <tr>\n",
       "                        <th id=\"T_bda9e_level0_row9\" class=\"row_heading level0 row9\" >974</th>\n",
       "                        <td id=\"T_bda9e_row9_col0\" class=\"data row9 col0\" >O'Rourke Wrecking Company</td>\n",
       "                        <td id=\"T_bda9e_row9_col1\" class=\"data row9 col1\" >O'Rourke Wrecking-</td>\n",
       "                        <td id=\"T_bda9e_row9_col2\" class=\"data row9 col2\" >Demo</td>\n",
       "                        <td id=\"T_bda9e_row9_col3\" class=\"data row9 col3\" >1/2/2023</td>\n",
       "                        <td id=\"T_bda9e_row9_col4\" class=\"data row9 col4\" >100000</td>\n",
       "                        <td id=\"T_bda9e_row9_col5\" class=\"data row9 col5\" >12/13/2022</td>\n",
       "            </tr>\n",
       "            <tr>\n",
       "                        <th id=\"T_bda9e_level0_row10\" class=\"row_heading level0 row10\" >651</th>\n",
       "                        <td id=\"T_bda9e_row10_col0\" class=\"data row10 col0\" >JabberComm</td>\n",
       "                        <td id=\"T_bda9e_row10_col1\" class=\"data row10 col1\" >JabberComm2</td>\n",
       "                        <td id=\"T_bda9e_row10_col2\" class=\"data row10 col2\" >Discovery</td>\n",
       "                        <td id=\"T_bda9e_row10_col3\" class=\"data row10 col3\" >1/16/2023</td>\n",
       "                        <td id=\"T_bda9e_row10_col4\" class=\"data row10 col4\" >80000</td>\n",
       "                        <td id=\"T_bda9e_row10_col5\" class=\"data row10 col5\" >12/12/2022</td>\n",
       "            </tr>\n",
       "    </tbody></table>"
      ],
      "text/plain": [
       "<pandas.io.formats.style.Styler at 0x164d50e80>"
      ]
     },
     "execution_count": 8,
     "metadata": {},
     "output_type": "execute_result"
    }
   ],
   "source": [
    "owner = 'Andrew Shock'\n",
    "\n",
    "df_pre[df_pre['Opportunity Owner']==owner][\n",
    "    ['Account Name',\n",
    "     'Opportunity Name',\n",
    "     'Stage',\n",
    "     'Expected FTB Date',\n",
    "     'Annual hotel spend',\n",
    "     'Account: Last Activity']].sort_values(by=['Annual hotel spend'], ascending=False).style.set_precision(0)"
   ]
  },
  {
   "cell_type": "code",
   "execution_count": 10,
   "id": "4f9b4d8c",
   "metadata": {},
   "outputs": [
    {
     "data": {
      "text/html": [
       "<style  type=\"text/css\" >\n",
       "</style><table id=\"T_dd763_\" ><thead>    <tr>        <th class=\"blank level0\" ></th>        <th class=\"col_heading level0 col0\" >Account Name</th>        <th class=\"col_heading level0 col1\" >Opportunity Name</th>        <th class=\"col_heading level0 col2\" >Stage</th>        <th class=\"col_heading level0 col3\" >FTB or Revival Date</th>        <th class=\"col_heading level0 col4\" >Annual hotel spend</th>        <th class=\"col_heading level0 col5\" >Account: Last Activity</th>    </tr></thead><tbody>\n",
       "                <tr>\n",
       "                        <th id=\"T_dd763_level0_row0\" class=\"row_heading level0 row0\" >1755</th>\n",
       "                        <td id=\"T_dd763_row0_col0\" class=\"data row0 col0\" >Cyberhawk Innovations</td>\n",
       "                        <td id=\"T_dd763_row0_col1\" class=\"data row0 col1\" >Cyberhawk Innovations-</td>\n",
       "                        <td id=\"T_dd763_row0_col2\" class=\"data row0 col2\" >Closed Won</td>\n",
       "                        <td id=\"T_dd763_row0_col3\" class=\"data row0 col3\" >8/12/22 12:13</td>\n",
       "                        <td id=\"T_dd763_row0_col4\" class=\"data row0 col4\" >1250000</td>\n",
       "                        <td id=\"T_dd763_row0_col5\" class=\"data row0 col5\" >1/18/2023</td>\n",
       "            </tr>\n",
       "            <tr>\n",
       "                        <th id=\"T_dd763_level0_row1\" class=\"row_heading level0 row1\" >1765</th>\n",
       "                        <td id=\"T_dd763_row1_col0\" class=\"data row1 col0\" >National Retrofitting Group</td>\n",
       "                        <td id=\"T_dd763_row1_col1\" class=\"data row1 col1\" >National Retrofitting Group-</td>\n",
       "                        <td id=\"T_dd763_row1_col2\" class=\"data row1 col2\" >Trial</td>\n",
       "                        <td id=\"T_dd763_row1_col3\" class=\"data row1 col3\" >11/21/22 10:35</td>\n",
       "                        <td id=\"T_dd763_row1_col4\" class=\"data row1 col4\" >300000</td>\n",
       "                        <td id=\"T_dd763_row1_col5\" class=\"data row1 col5\" >12/13/2022</td>\n",
       "            </tr>\n",
       "            <tr>\n",
       "                        <th id=\"T_dd763_level0_row2\" class=\"row_heading level0 row2\" >1769</th>\n",
       "                        <td id=\"T_dd763_row2_col0\" class=\"data row2 col0\" >Unity Works Lighting</td>\n",
       "                        <td id=\"T_dd763_row2_col1\" class=\"data row2 col1\" >Unity Works Lighting-</td>\n",
       "                        <td id=\"T_dd763_row2_col2\" class=\"data row2 col2\" >Trial</td>\n",
       "                        <td id=\"T_dd763_row2_col3\" class=\"data row2 col3\" >12/1/22 7:16</td>\n",
       "                        <td id=\"T_dd763_row2_col4\" class=\"data row2 col4\" >250000</td>\n",
       "                        <td id=\"T_dd763_row2_col5\" class=\"data row2 col5\" >12/14/2022</td>\n",
       "            </tr>\n",
       "            <tr>\n",
       "                        <th id=\"T_dd763_level0_row3\" class=\"row_heading level0 row3\" >1764</th>\n",
       "                        <td id=\"T_dd763_row3_col0\" class=\"data row3 col0\" >Renosys Corporation</td>\n",
       "                        <td id=\"T_dd763_row3_col1\" class=\"data row3 col1\" >Renosys-</td>\n",
       "                        <td id=\"T_dd763_row3_col2\" class=\"data row3 col2\" >FTB</td>\n",
       "                        <td id=\"T_dd763_row3_col3\" class=\"data row3 col3\" >10/21/22 12:20</td>\n",
       "                        <td id=\"T_dd763_row3_col4\" class=\"data row3 col4\" >100000</td>\n",
       "                        <td id=\"T_dd763_row3_col5\" class=\"data row3 col5\" >12/8/2022</td>\n",
       "            </tr>\n",
       "            <tr>\n",
       "                        <th id=\"T_dd763_level0_row4\" class=\"row_heading level0 row4\" >1762</th>\n",
       "                        <td id=\"T_dd763_row4_col0\" class=\"data row4 col0\" >Sealwrap Installations</td>\n",
       "                        <td id=\"T_dd763_row4_col1\" class=\"data row4 col1\" >Sealwrap Installations-</td>\n",
       "                        <td id=\"T_dd763_row4_col2\" class=\"data row4 col2\" >Trial</td>\n",
       "                        <td id=\"T_dd763_row4_col3\" class=\"data row4 col3\" >9/26/22 9:44</td>\n",
       "                        <td id=\"T_dd763_row4_col4\" class=\"data row4 col4\" >100000</td>\n",
       "                        <td id=\"T_dd763_row4_col5\" class=\"data row4 col5\" >12/15/2022</td>\n",
       "            </tr>\n",
       "            <tr>\n",
       "                        <th id=\"T_dd763_level0_row5\" class=\"row_heading level0 row5\" >1752</th>\n",
       "                        <td id=\"T_dd763_row5_col0\" class=\"data row5 col0\" >Evans Land Clearing LLC</td>\n",
       "                        <td id=\"T_dd763_row5_col1\" class=\"data row5 col1\" >Evans Land Clearing LLC-</td>\n",
       "                        <td id=\"T_dd763_row5_col2\" class=\"data row5 col2\" >Trial</td>\n",
       "                        <td id=\"T_dd763_row5_col3\" class=\"data row5 col3\" >6/13/22 11:31</td>\n",
       "                        <td id=\"T_dd763_row5_col4\" class=\"data row5 col4\" >61440</td>\n",
       "                        <td id=\"T_dd763_row5_col5\" class=\"data row5 col5\" >11/9/2022</td>\n",
       "            </tr>\n",
       "            <tr>\n",
       "                        <th id=\"T_dd763_level0_row6\" class=\"row_heading level0 row6\" >1757</th>\n",
       "                        <td id=\"T_dd763_row6_col0\" class=\"data row6 col0\" >City of Bowling Green</td>\n",
       "                        <td id=\"T_dd763_row6_col1\" class=\"data row6 col1\" >City of Bowling Green, Bowling Green Police Department-</td>\n",
       "                        <td id=\"T_dd763_row6_col2\" class=\"data row6 col2\" >Closed (from stalled)</td>\n",
       "                        <td id=\"T_dd763_row6_col3\" class=\"data row6 col3\" >5/5/22 10:19</td>\n",
       "                        <td id=\"T_dd763_row6_col4\" class=\"data row6 col4\" >60001</td>\n",
       "                        <td id=\"T_dd763_row6_col5\" class=\"data row6 col5\" >8/29/2022</td>\n",
       "            </tr>\n",
       "            <tr>\n",
       "                        <th id=\"T_dd763_level0_row7\" class=\"row_heading level0 row7\" >1767</th>\n",
       "                        <td id=\"T_dd763_row7_col0\" class=\"data row7 col0\" >Tele-Vac Environmental</td>\n",
       "                        <td id=\"T_dd763_row7_col1\" class=\"data row7 col1\" >Tele-Vac Environmental</td>\n",
       "                        <td id=\"T_dd763_row7_col2\" class=\"data row7 col2\" >Trial</td>\n",
       "                        <td id=\"T_dd763_row7_col3\" class=\"data row7 col3\" >10/26/22 13:35</td>\n",
       "                        <td id=\"T_dd763_row7_col4\" class=\"data row7 col4\" >60000</td>\n",
       "                        <td id=\"T_dd763_row7_col5\" class=\"data row7 col5\" >12/14/2022</td>\n",
       "            </tr>\n",
       "            <tr>\n",
       "                        <th id=\"T_dd763_level0_row8\" class=\"row_heading level0 row8\" >1758</th>\n",
       "                        <td id=\"T_dd763_row8_col0\" class=\"data row8 col0\" >DeBra-Kuempel</td>\n",
       "                        <td id=\"T_dd763_row8_col1\" class=\"data row8 col1\" >DeBra-Kuempel-</td>\n",
       "                        <td id=\"T_dd763_row8_col2\" class=\"data row8 col2\" >Trial</td>\n",
       "                        <td id=\"T_dd763_row8_col3\" class=\"data row8 col3\" >5/19/22 9:16</td>\n",
       "                        <td id=\"T_dd763_row8_col4\" class=\"data row8 col4\" >55001</td>\n",
       "                        <td id=\"T_dd763_row8_col5\" class=\"data row8 col5\" >12/13/2022</td>\n",
       "            </tr>\n",
       "            <tr>\n",
       "                        <th id=\"T_dd763_level0_row9\" class=\"row_heading level0 row9\" >1761</th>\n",
       "                        <td id=\"T_dd763_row9_col0\" class=\"data row9 col0\" >Boombox</td>\n",
       "                        <td id=\"T_dd763_row9_col1\" class=\"data row9 col1\" >BoomBox (Revival)</td>\n",
       "                        <td id=\"T_dd763_row9_col2\" class=\"data row9 col2\" >Closed (from stalled)</td>\n",
       "                        <td id=\"T_dd763_row9_col3\" class=\"data row9 col3\" >8/13/22 11:28</td>\n",
       "                        <td id=\"T_dd763_row9_col4\" class=\"data row9 col4\" >50001</td>\n",
       "                        <td id=\"T_dd763_row9_col5\" class=\"data row9 col5\" >11/29/2022</td>\n",
       "            </tr>\n",
       "            <tr>\n",
       "                        <th id=\"T_dd763_level0_row10\" class=\"row_heading level0 row10\" >1751</th>\n",
       "                        <td id=\"T_dd763_row10_col0\" class=\"data row10 col0\" >A & K Slip Forming Inc.</td>\n",
       "                        <td id=\"T_dd763_row10_col1\" class=\"data row10 col1\" >A & K Slip Forming Inc.-</td>\n",
       "                        <td id=\"T_dd763_row10_col2\" class=\"data row10 col2\" >Trial</td>\n",
       "                        <td id=\"T_dd763_row10_col3\" class=\"data row10 col3\" >4/30/22 11:13</td>\n",
       "                        <td id=\"T_dd763_row10_col4\" class=\"data row10 col4\" >50000</td>\n",
       "                        <td id=\"T_dd763_row10_col5\" class=\"data row10 col5\" >12/13/2022</td>\n",
       "            </tr>\n",
       "            <tr>\n",
       "                        <th id=\"T_dd763_level0_row11\" class=\"row_heading level0 row11\" >1768</th>\n",
       "                        <td id=\"T_dd763_row11_col0\" class=\"data row11 col0\" >Straight Line Construction</td>\n",
       "                        <td id=\"T_dd763_row11_col1\" class=\"data row11 col1\" >Straight Line Construction-</td>\n",
       "                        <td id=\"T_dd763_row11_col2\" class=\"data row11 col2\" >Trial</td>\n",
       "                        <td id=\"T_dd763_row11_col3\" class=\"data row11 col3\" >9/30/22 12:24</td>\n",
       "                        <td id=\"T_dd763_row11_col4\" class=\"data row11 col4\" >50000</td>\n",
       "                        <td id=\"T_dd763_row11_col5\" class=\"data row11 col5\" >12/14/2022</td>\n",
       "            </tr>\n",
       "            <tr>\n",
       "                        <th id=\"T_dd763_level0_row12\" class=\"row_heading level0 row12\" >1760</th>\n",
       "                        <td id=\"T_dd763_row12_col0\" class=\"data row12 col0\" >AG SPORTS SERVICES</td>\n",
       "                        <td id=\"T_dd763_row12_col1\" class=\"data row12 col1\" >AGSportsServices-</td>\n",
       "                        <td id=\"T_dd763_row12_col2\" class=\"data row12 col2\" >Closed Lost</td>\n",
       "                        <td id=\"T_dd763_row12_col3\" class=\"data row12 col3\" >7/20/22 12:29</td>\n",
       "                        <td id=\"T_dd763_row12_col4\" class=\"data row12 col4\" >50000</td>\n",
       "                        <td id=\"T_dd763_row12_col5\" class=\"data row12 col5\" >12/14/2022</td>\n",
       "            </tr>\n",
       "            <tr>\n",
       "                        <th id=\"T_dd763_level0_row13\" class=\"row_heading level0 row13\" >1756</th>\n",
       "                        <td id=\"T_dd763_row13_col0\" class=\"data row13 col0\" >Floor Care Specialists, Inc</td>\n",
       "                        <td id=\"T_dd763_row13_col1\" class=\"data row13 col1\" >FCS Industrial Solutions-</td>\n",
       "                        <td id=\"T_dd763_row13_col2\" class=\"data row13 col2\" >Closed (Too Small)</td>\n",
       "                        <td id=\"T_dd763_row13_col3\" class=\"data row13 col3\" >5/17/22 13:32</td>\n",
       "                        <td id=\"T_dd763_row13_col4\" class=\"data row13 col4\" >49000</td>\n",
       "                        <td id=\"T_dd763_row13_col5\" class=\"data row13 col5\" >11/23/2022</td>\n",
       "            </tr>\n",
       "            <tr>\n",
       "                        <th id=\"T_dd763_level0_row14\" class=\"row_heading level0 row14\" >1754</th>\n",
       "                        <td id=\"T_dd763_row14_col0\" class=\"data row14 col0\" >Kentuckiana Seismic & Survey</td>\n",
       "                        <td id=\"T_dd763_row14_col1\" class=\"data row14 col1\" >Kentuckiana Seismic & Survey-</td>\n",
       "                        <td id=\"T_dd763_row14_col2\" class=\"data row14 col2\" >Closed (Too Small)</td>\n",
       "                        <td id=\"T_dd763_row14_col3\" class=\"data row14 col3\" >8/13/22 21:42</td>\n",
       "                        <td id=\"T_dd763_row14_col4\" class=\"data row14 col4\" >40000</td>\n",
       "                        <td id=\"T_dd763_row14_col5\" class=\"data row14 col5\" >12/13/2022</td>\n",
       "            </tr>\n",
       "            <tr>\n",
       "                        <th id=\"T_dd763_level0_row15\" class=\"row_heading level0 row15\" >1753</th>\n",
       "                        <td id=\"T_dd763_row15_col0\" class=\"data row15 col0\" >CentralStar Cooperative</td>\n",
       "                        <td id=\"T_dd763_row15_col1\" class=\"data row15 col1\" >CentralStar Cooperative-</td>\n",
       "                        <td id=\"T_dd763_row15_col2\" class=\"data row15 col2\" >Closed (Too Small)</td>\n",
       "                        <td id=\"T_dd763_row15_col3\" class=\"data row15 col3\" >6/7/22 12:44</td>\n",
       "                        <td id=\"T_dd763_row15_col4\" class=\"data row15 col4\" >40000</td>\n",
       "                        <td id=\"T_dd763_row15_col5\" class=\"data row15 col5\" >11/29/2022</td>\n",
       "            </tr>\n",
       "            <tr>\n",
       "                        <th id=\"T_dd763_level0_row16\" class=\"row_heading level0 row16\" >1770</th>\n",
       "                        <td id=\"T_dd763_row16_col0\" class=\"data row16 col0\" >CSI Lubbock</td>\n",
       "                        <td id=\"T_dd763_row16_col1\" class=\"data row16 col1\" >CSI Lubbock-</td>\n",
       "                        <td id=\"T_dd763_row16_col2\" class=\"data row16 col2\" >Closed (Too Small)</td>\n",
       "                        <td id=\"T_dd763_row16_col3\" class=\"data row16 col3\" >11/21/22 8:19</td>\n",
       "                        <td id=\"T_dd763_row16_col4\" class=\"data row16 col4\" >40000</td>\n",
       "                        <td id=\"T_dd763_row16_col5\" class=\"data row16 col5\" >12/2/2022</td>\n",
       "            </tr>\n",
       "            <tr>\n",
       "                        <th id=\"T_dd763_level0_row17\" class=\"row_heading level0 row17\" >1759</th>\n",
       "                        <td id=\"T_dd763_row17_col0\" class=\"data row17 col0\" >B&W</td>\n",
       "                        <td id=\"T_dd763_row17_col1\" class=\"data row17 col1\" >B&W-</td>\n",
       "                        <td id=\"T_dd763_row17_col2\" class=\"data row17 col2\" >Closed (from stalled)</td>\n",
       "                        <td id=\"T_dd763_row17_col3\" class=\"data row17 col3\" >11/14/22 13:48</td>\n",
       "                        <td id=\"T_dd763_row17_col4\" class=\"data row17 col4\" >20000</td>\n",
       "                        <td id=\"T_dd763_row17_col5\" class=\"data row17 col5\" >12/5/2022</td>\n",
       "            </tr>\n",
       "            <tr>\n",
       "                        <th id=\"T_dd763_level0_row18\" class=\"row_heading level0 row18\" >1750</th>\n",
       "                        <td id=\"T_dd763_row18_col0\" class=\"data row18 col0\" >Touch of Color Flooring</td>\n",
       "                        <td id=\"T_dd763_row18_col1\" class=\"data row18 col1\" >Touch of Color Flooring</td>\n",
       "                        <td id=\"T_dd763_row18_col2\" class=\"data row18 col2\" >Closed (from stalled)</td>\n",
       "                        <td id=\"T_dd763_row18_col3\" class=\"data row18 col3\" >9/14/22 16:57</td>\n",
       "                        <td id=\"T_dd763_row18_col4\" class=\"data row18 col4\" >nan</td>\n",
       "                        <td id=\"T_dd763_row18_col5\" class=\"data row18 col5\" >11/29/2022</td>\n",
       "            </tr>\n",
       "            <tr>\n",
       "                        <th id=\"T_dd763_level0_row19\" class=\"row_heading level0 row19\" >1763</th>\n",
       "                        <td id=\"T_dd763_row19_col0\" class=\"data row19 col0\" >Core Communications LLC</td>\n",
       "                        <td id=\"T_dd763_row19_col1\" class=\"data row19 col1\" >Core Communications -</td>\n",
       "                        <td id=\"T_dd763_row19_col2\" class=\"data row19 col2\" >Trial</td>\n",
       "                        <td id=\"T_dd763_row19_col3\" class=\"data row19 col3\" >10/7/22 14:16</td>\n",
       "                        <td id=\"T_dd763_row19_col4\" class=\"data row19 col4\" >nan</td>\n",
       "                        <td id=\"T_dd763_row19_col5\" class=\"data row19 col5\" >12/9/2022</td>\n",
       "            </tr>\n",
       "    </tbody></table>"
      ],
      "text/plain": [
       "<pandas.io.formats.style.Styler at 0x164fc3b50>"
      ]
     },
     "execution_count": 10,
     "metadata": {},
     "output_type": "execute_result"
    }
   ],
   "source": [
    "owner = 'Andrew Shock'\n",
    "\n",
    "df_post[df_post['Opportunity Owner']==owner][\n",
    "    ['Account Name',\n",
    "     'Opportunity Name','Stage',\n",
    "     'FTB or Revival Date',\n",
    "     'Annual hotel spend',\n",
    "     'Account: Last Activity']].sort_values(by=['Annual hotel spend'], ascending=False).style.set_precision(0)"
   ]
  },
  {
   "cell_type": "code",
   "execution_count": 44,
   "id": "b1752d42",
   "metadata": {},
   "outputs": [
    {
     "data": {
      "text/html": [
       "\n",
       "<div id=\"altair-viz-6845b7cd367e40d9afa92fc5546d6523\"></div>\n",
       "<script type=\"text/javascript\">\n",
       "  (function(spec, embedOpt){\n",
       "    let outputDiv = document.currentScript.previousElementSibling;\n",
       "    if (outputDiv.id !== \"altair-viz-6845b7cd367e40d9afa92fc5546d6523\") {\n",
       "      outputDiv = document.getElementById(\"altair-viz-6845b7cd367e40d9afa92fc5546d6523\");\n",
       "    }\n",
       "    const paths = {\n",
       "      \"vega\": \"https://cdn.jsdelivr.net/npm//vega@5?noext\",\n",
       "      \"vega-lib\": \"https://cdn.jsdelivr.net/npm//vega-lib?noext\",\n",
       "      \"vega-lite\": \"https://cdn.jsdelivr.net/npm//vega-lite@4.8.1?noext\",\n",
       "      \"vega-embed\": \"https://cdn.jsdelivr.net/npm//vega-embed@6?noext\",\n",
       "    };\n",
       "\n",
       "    function loadScript(lib) {\n",
       "      return new Promise(function(resolve, reject) {\n",
       "        var s = document.createElement('script');\n",
       "        s.src = paths[lib];\n",
       "        s.async = true;\n",
       "        s.onload = () => resolve(paths[lib]);\n",
       "        s.onerror = () => reject(`Error loading script: ${paths[lib]}`);\n",
       "        document.getElementsByTagName(\"head\")[0].appendChild(s);\n",
       "      });\n",
       "    }\n",
       "\n",
       "    function showError(err) {\n",
       "      outputDiv.innerHTML = `<div class=\"error\" style=\"color:red;\">${err}</div>`;\n",
       "      throw err;\n",
       "    }\n",
       "\n",
       "    function displayChart(vegaEmbed) {\n",
       "      vegaEmbed(outputDiv, spec, embedOpt)\n",
       "        .catch(err => showError(`Javascript Error: ${err.message}<br>This usually means there's a typo in your chart specification. See the javascript console for the full traceback.`));\n",
       "    }\n",
       "\n",
       "    if(typeof define === \"function\" && define.amd) {\n",
       "      requirejs.config({paths});\n",
       "      require([\"vega-embed\"], displayChart, err => showError(`Error loading script: ${err.message}`));\n",
       "    } else if (typeof vegaEmbed === \"function\") {\n",
       "      displayChart(vegaEmbed);\n",
       "    } else {\n",
       "      loadScript(\"vega\")\n",
       "        .then(() => loadScript(\"vega-lite\"))\n",
       "        .then(() => loadScript(\"vega-embed\"))\n",
       "        .catch(showError)\n",
       "        .then(() => displayChart(vegaEmbed));\n",
       "    }\n",
       "  })({\"config\": {\"view\": {\"continuousWidth\": 400, \"continuousHeight\": 300}}, \"data\": {\"name\": \"data-5a9116e5f8db2e30e6a724ff639cf387\"}, \"mark\": \"bar\", \"encoding\": {\"x\": {\"type\": \"nominal\", \"field\": \"Account Name\", \"sort\": null}, \"y\": {\"type\": \"quantitative\", \"axis\": {\"grid\": false}, \"field\": \"Annual hotel spend\"}}, \"$schema\": \"https://vega.github.io/schema/vega-lite/v4.8.1.json\", \"datasets\": {\"data-5a9116e5f8db2e30e6a724ff639cf387\": [{\"Opportunity Owner\": \"Andrew Shock\", \"Account Name\": \"Cyberhawk Innovations\", \"Opportunity Name\": \"Cyberhawk Innovations-\", \"Stage\": \"Closed Won\", \"FTB or Revival Date\": \"8/12/22 12:13\", \"Annual hotel spend\": 1250000.0, \"Account: Last Activity\": \"1/18/2023\"}, {\"Opportunity Owner\": \"Andrew Shock\", \"Account Name\": \"National Retrofitting Group\", \"Opportunity Name\": \"National Retrofitting Group-\", \"Stage\": \"Trial\", \"FTB or Revival Date\": \"11/21/22 10:35\", \"Annual hotel spend\": 300000.0, \"Account: Last Activity\": \"12/13/2022\"}, {\"Opportunity Owner\": \"Andrew Shock\", \"Account Name\": \"Unity Works Lighting\", \"Opportunity Name\": \"Unity Works Lighting-\", \"Stage\": \"Trial\", \"FTB or Revival Date\": \"12/1/22 7:16\", \"Annual hotel spend\": 250000.0, \"Account: Last Activity\": \"12/14/2022\"}, {\"Opportunity Owner\": \"Andrew Shock\", \"Account Name\": \"Renosys Corporation\", \"Opportunity Name\": \"Renosys-\", \"Stage\": \"FTB\", \"FTB or Revival Date\": \"10/21/22 12:20\", \"Annual hotel spend\": 100000.0, \"Account: Last Activity\": \"12/8/2022\"}, {\"Opportunity Owner\": \"Andrew Shock\", \"Account Name\": \"Sealwrap Installations\", \"Opportunity Name\": \"Sealwrap Installations-\", \"Stage\": \"Trial\", \"FTB or Revival Date\": \"9/26/22 9:44\", \"Annual hotel spend\": 100000.0, \"Account: Last Activity\": \"12/15/2022\"}, {\"Opportunity Owner\": \"Andrew Shock\", \"Account Name\": \"Evans Land Clearing LLC\", \"Opportunity Name\": \"Evans Land Clearing LLC-\", \"Stage\": \"Trial\", \"FTB or Revival Date\": \"6/13/22 11:31\", \"Annual hotel spend\": 61440.0, \"Account: Last Activity\": \"11/9/2022\"}, {\"Opportunity Owner\": \"Andrew Shock\", \"Account Name\": \"City of Bowling Green\", \"Opportunity Name\": \"City of Bowling Green, Bowling Green Police Department-\", \"Stage\": \"Closed (from stalled)\", \"FTB or Revival Date\": \"5/5/22 10:19\", \"Annual hotel spend\": 60001.0, \"Account: Last Activity\": \"8/29/2022\"}, {\"Opportunity Owner\": \"Andrew Shock\", \"Account Name\": \"Tele-Vac Environmental\", \"Opportunity Name\": \"Tele-Vac Environmental\", \"Stage\": \"Trial\", \"FTB or Revival Date\": \"10/26/22 13:35\", \"Annual hotel spend\": 60000.0, \"Account: Last Activity\": \"12/14/2022\"}, {\"Opportunity Owner\": \"Andrew Shock\", \"Account Name\": \"DeBra-Kuempel\", \"Opportunity Name\": \"DeBra-Kuempel-\", \"Stage\": \"Trial\", \"FTB or Revival Date\": \"5/19/22 9:16\", \"Annual hotel spend\": 55001.0, \"Account: Last Activity\": \"12/13/2022\"}, {\"Opportunity Owner\": \"Andrew Shock\", \"Account Name\": \"Boombox\", \"Opportunity Name\": \"BoomBox (Revival)\", \"Stage\": \"Closed (from stalled)\", \"FTB or Revival Date\": \"8/13/22 11:28\", \"Annual hotel spend\": 50001.0, \"Account: Last Activity\": \"11/29/2022\"}, {\"Opportunity Owner\": \"Andrew Shock\", \"Account Name\": \"A & K Slip Forming Inc.\", \"Opportunity Name\": \"A & K Slip Forming Inc.-\", \"Stage\": \"Trial\", \"FTB or Revival Date\": \"4/30/22 11:13\", \"Annual hotel spend\": 50000.0, \"Account: Last Activity\": \"12/13/2022\"}, {\"Opportunity Owner\": \"Andrew Shock\", \"Account Name\": \"Straight Line Construction\", \"Opportunity Name\": \"Straight Line Construction-\", \"Stage\": \"Trial\", \"FTB or Revival Date\": \"9/30/22 12:24\", \"Annual hotel spend\": 50000.0, \"Account: Last Activity\": \"12/14/2022\"}, {\"Opportunity Owner\": \"Andrew Shock\", \"Account Name\": \"AG SPORTS SERVICES\", \"Opportunity Name\": \"AGSportsServices-\", \"Stage\": \"Closed Lost\", \"FTB or Revival Date\": \"7/20/22 12:29\", \"Annual hotel spend\": 50000.0, \"Account: Last Activity\": \"12/14/2022\"}, {\"Opportunity Owner\": \"Andrew Shock\", \"Account Name\": \"Floor Care Specialists, Inc\", \"Opportunity Name\": \"FCS Industrial Solutions-\", \"Stage\": \"Closed (Too Small)\", \"FTB or Revival Date\": \"5/17/22 13:32\", \"Annual hotel spend\": 49000.0, \"Account: Last Activity\": \"11/23/2022\"}, {\"Opportunity Owner\": \"Andrew Shock\", \"Account Name\": \"Kentuckiana Seismic & Survey\", \"Opportunity Name\": \"Kentuckiana Seismic & Survey-\", \"Stage\": \"Closed (Too Small)\", \"FTB or Revival Date\": \"8/13/22 21:42\", \"Annual hotel spend\": 40000.0, \"Account: Last Activity\": \"12/13/2022\"}, {\"Opportunity Owner\": \"Andrew Shock\", \"Account Name\": \"CentralStar Cooperative\", \"Opportunity Name\": \"CentralStar Cooperative-\", \"Stage\": \"Closed (Too Small)\", \"FTB or Revival Date\": \"6/7/22 12:44\", \"Annual hotel spend\": 40000.0, \"Account: Last Activity\": \"11/29/2022\"}, {\"Opportunity Owner\": \"Andrew Shock\", \"Account Name\": \"CSI Lubbock\", \"Opportunity Name\": \"CSI Lubbock-\", \"Stage\": \"Closed (Too Small)\", \"FTB or Revival Date\": \"11/21/22 8:19\", \"Annual hotel spend\": 40000.0, \"Account: Last Activity\": \"12/2/2022\"}, {\"Opportunity Owner\": \"Andrew Shock\", \"Account Name\": \"B&W\", \"Opportunity Name\": \"B&W-\", \"Stage\": \"Closed (from stalled)\", \"FTB or Revival Date\": \"11/14/22 13:48\", \"Annual hotel spend\": 20000.0, \"Account: Last Activity\": \"12/5/2022\"}, {\"Opportunity Owner\": \"Andrew Shock\", \"Account Name\": \"Touch of Color Flooring\", \"Opportunity Name\": \"Touch of Color Flooring\", \"Stage\": \"Closed (from stalled)\", \"FTB or Revival Date\": \"9/14/22 16:57\", \"Annual hotel spend\": null, \"Account: Last Activity\": \"11/29/2022\"}, {\"Opportunity Owner\": \"Andrew Shock\", \"Account Name\": \"Core Communications LLC\", \"Opportunity Name\": \"Core Communications -\", \"Stage\": \"Trial\", \"FTB or Revival Date\": \"10/7/22 14:16\", \"Annual hotel spend\": null, \"Account: Last Activity\": \"12/9/2022\"}]}}, {\"mode\": \"vega-lite\"});\n",
       "</script>"
      ],
      "text/plain": [
       "alt.Chart(...)"
      ]
     },
     "execution_count": 44,
     "metadata": {},
     "output_type": "execute_result"
    }
   ],
   "source": [
    "df0 = df_post[df_post['Opportunity Owner']==owner]\n",
    "df = df0.sort_values(by=['Annual hotel spend'],ascending = False)\n",
    "                     \n",
    "alt.Chart(df).mark_bar().encode(\n",
    "  alt.X('Account Name',sort = None),\n",
    "  alt.Y('Annual hotel spend', axis=alt.Axis(grid=False)))"
   ]
  },
  {
   "cell_type": "code",
   "execution_count": 34,
   "id": "530769e1",
   "metadata": {},
   "outputs": [
    {
     "ename": "TypeError",
     "evalue": "'UndefinedType' object is not callable",
     "output_type": "error",
     "traceback": [
      "\u001b[0;31m---------------------------------------------------------------------------\u001b[0m",
      "\u001b[0;31mTypeError\u001b[0m                                 Traceback (most recent call last)",
      "\u001b[0;32m<ipython-input-34-bb3d69368c1c>\u001b[0m in \u001b[0;36m<module>\u001b[0;34m\u001b[0m\n\u001b[1;32m      5\u001b[0m alt.Chart(source).mark_bar().encode(\n\u001b[1;32m      6\u001b[0m     \u001b[0mx\u001b[0m\u001b[0;34m=\u001b[0m\u001b[0;34m'sum(yield):Q'\u001b[0m\u001b[0;34m,\u001b[0m\u001b[0;34m\u001b[0m\u001b[0;34m\u001b[0m\u001b[0m\n\u001b[0;32m----> 7\u001b[0;31m     \u001b[0my\u001b[0m\u001b[0;34m=\u001b[0m\u001b[0malt\u001b[0m\u001b[0;34m.\u001b[0m\u001b[0mY\u001b[0m\u001b[0;34m(\u001b[0m\u001b[0;34m'site:N'\u001b[0m\u001b[0;34m)\u001b[0m\u001b[0;34m.\u001b[0m\u001b[0msort\u001b[0m\u001b[0;34m(\u001b[0m\u001b[0;34m'-x'\u001b[0m\u001b[0;34m)\u001b[0m\u001b[0;34m\u001b[0m\u001b[0;34m\u001b[0m\u001b[0m\n\u001b[0m\u001b[1;32m      8\u001b[0m )\n",
      "\u001b[0;31mTypeError\u001b[0m: 'UndefinedType' object is not callable"
     ]
    }
   ],
   "source": [
    "import altair as alt\n",
    "\n",
    "source = df\n",
    "\n",
    "alt.Chart(source).mark_bar().encode(\n",
    "    x='sum(yield):Q',\n",
    "    y=alt.Y('site:N').sort('-x')\n",
    ")"
   ]
  },
  {
   "cell_type": "code",
   "execution_count": null,
   "id": "bfa6365f",
   "metadata": {},
   "outputs": [],
   "source": []
  },
  {
   "cell_type": "code",
   "execution_count": null,
   "id": "2e7be75b",
   "metadata": {},
   "outputs": [],
   "source": []
  },
  {
   "cell_type": "code",
   "execution_count": null,
   "id": "e8c5eda6",
   "metadata": {},
   "outputs": [],
   "source": []
  },
  {
   "cell_type": "code",
   "execution_count": null,
   "id": "02cb7eae",
   "metadata": {},
   "outputs": [],
   "source": []
  },
  {
   "cell_type": "code",
   "execution_count": 57,
   "id": "da9d922a",
   "metadata": {},
   "outputs": [],
   "source": [
    "y_name = 'wgi.law'"
   ]
  },
  {
   "cell_type": "code",
   "execution_count": 58,
   "id": "e5452126",
   "metadata": {},
   "outputs": [],
   "source": [
    "features_columns = ['triad_'+(\"%02d\" % (number,)) for number in range(1,14)]\n",
    "y = np.array(df[y_name])"
   ]
  },
  {
   "cell_type": "code",
   "execution_count": 59,
   "id": "d8107717",
   "metadata": {},
   "outputs": [],
   "source": [
    "# design matrix\n",
    "X = np.array(df[features_columns])\n",
    "ones = [[1]]*len(X)\n",
    "Xd = np.hstack((ones,X));\n",
    "\n",
    "# parameters\n",
    "theta = np.dot(np.dot(np.linalg.inv(np.dot(Xd.T,Xd)),Xd.T),y)"
   ]
  },
  {
   "cell_type": "code",
   "execution_count": 11,
   "id": "000783f4",
   "metadata": {
    "scrolled": true
   },
   "outputs": [
    {
     "data": {
      "image/png": "[encoded data removed]",
      "text/plain": [
       "<Figure size 432x288 with 1 Axes>"
      ]
     },
     "metadata": {
      "needs_background": "light"
     },
     "output_type": "display_data"
    }
   ],
   "source": [
    "fig, ax = plt.subplots()\n",
    "\n",
    "predictions = np.dot(Xd,theta)\n",
    "\n",
    "ax.grid(b=True, which='major', color='lightgray', linestyle='-')\n",
    "ax.set_xlim((-3,3))\n",
    "ax.set_ylim((-3,3))\n",
    "ax.set_aspect(1)\n",
    "\n",
    "plt.scatter(y,predictions,edgecolors='white',s=60)\n",
    "plt.plot([-3,3],[-3,3],'--')\n",
    "plt.xlabel('actual',size=12)\n",
    "plt.ylabel('predicted',size=12)\n",
    "\n",
    "# RMSE\n",
    "MSE = np.square(np.subtract(y,predictions)).mean() \n",
    "RMSE = math.sqrt(MSE)\n",
    "plt.title('RMSE = '+str(round(RMSE,2)))\n",
    "\n",
    "plt.show()"
   ]
  },
  {
   "cell_type": "code",
   "execution_count": null,
   "id": "4ee56d2b",
   "metadata": {},
   "outputs": [],
   "source": [
    "#Code in sklearn:\n",
    "\n",
    "#from sklearn.linear_model import LinearRegression\n",
    "#clf = LinearRegression()\n",
    "#clf.fit(X, y)\n",
    "#predictions = clf.predict(X)"
   ]
  },
  {
   "cell_type": "markdown",
   "id": "fc2e6ab1",
   "metadata": {},
   "source": [
    "# Logistic Regression"
   ]
  },
  {
   "cell_type": "code",
   "execution_count": 122,
   "id": "97dbdd22",
   "metadata": {},
   "outputs": [
    {
     "name": "stdout",
     "output_type": "stream",
     "text": [
      "-2.37018537521362 2.04878187179565\n"
     ]
    }
   ],
   "source": [
    "y1 = min(y)\n",
    "y2 = max(y)\n",
    "print(y1,y2)"
   ]
  },
  {
   "cell_type": "code",
   "execution_count": 135,
   "id": "762f8837",
   "metadata": {},
   "outputs": [],
   "source": [
    "ymin = y1 - (y2-y1)/1000\n",
    "ymax = y2 + (y2-y1)/1000"
   ]
  },
  {
   "cell_type": "code",
   "execution_count": 136,
   "id": "bb4268f2",
   "metadata": {},
   "outputs": [],
   "source": [
    "p = (y-ymin)/(ymax-ymin) # from w to p (\"probability\")\n",
    "w = np.log(p/(1-p)) # from p to w (logit)"
   ]
  },
  {
   "cell_type": "code",
   "execution_count": 137,
   "id": "660f1012",
   "metadata": {},
   "outputs": [
    {
     "data": {
      "text/plain": [
       "(array([ 1.,  0.,  0.,  6., 86., 66., 19.,  7.,  0.,  1.]),\n",
       " array([-6.90875478e+00, -5.52700382e+00, -4.14525287e+00, -2.76350191e+00,\n",
       "        -1.38175096e+00,  5.77315973e-14,  1.38175096e+00,  2.76350191e+00,\n",
       "         4.14525287e+00,  5.52700382e+00,  6.90875478e+00]),\n",
       " <BarContainer object of 10 artists>)"
      ]
     },
     "execution_count": 137,
     "metadata": {},
     "output_type": "execute_result"
    },
    {
     "data": {
      "image/png": "[encoded data removed]",
      "text/plain": [
       "<Figure size 432x288 with 1 Axes>"
      ]
     },
     "metadata": {
      "needs_background": "light"
     },
     "output_type": "display_data"
    }
   ],
   "source": [
    "plt.hist(y,alpha=.5)\n",
    "plt.hist(w,alpha=.5)"
   ]
  },
  {
   "cell_type": "code",
   "execution_count": 140,
   "id": "0acefc1d",
   "metadata": {},
   "outputs": [],
   "source": [
    "from sklearn.linear_model import LinearRegression\n",
    "model = LinearRegression()\n",
    "model.fit(X, w)\n",
    "predictions = model.predict(X)"
   ]
  },
  {
   "cell_type": "code",
   "execution_count": 141,
   "id": "8d93f9e2",
   "metadata": {},
   "outputs": [
    {
     "data": {
      "image/png": "[encoded data removed]",
      "text/plain": [
       "<Figure size 432x288 with 1 Axes>"
      ]
     },
     "metadata": {
      "needs_background": "light"
     },
     "output_type": "display_data"
    }
   ],
   "source": [
    "#clf.predict(X)\n",
    "\n",
    "fig, ax = plt.subplots()\n",
    "\n",
    "ax.grid(b=True, which='major', color='lightgray', linestyle='-')\n",
    "ax.set_xlim((-3,3))\n",
    "ax.set_ylim((-3,3))\n",
    "ax.set_aspect(1)\n",
    "\n",
    "plt.scatter(w,predictions,edgecolors='white',s=60)\n",
    "plt.plot([-3,3],[-3,3],'--')\n",
    "plt.xlabel('actual',size=12)\n",
    "plt.ylabel('predicted',size=12)\n",
    "\n",
    "# RMSE\n",
    "MSE = np.square(np.subtract(y,predictions)).mean() \n",
    "RMSE = math.sqrt(MSE)\n",
    "plt.title('RMSE = '+str(round(RMSE,2)))\n",
    "\n",
    "plt.show()"
   ]
  },
  {
   "cell_type": "code",
   "execution_count": 63,
   "id": "40a2baae",
   "metadata": {},
   "outputs": [
    {
     "name": "stdout",
     "output_type": "stream",
     "text": [
      "[[2.74907838e-09]\n",
      " [5.00371391e-01]\n",
      " [8.77915201e-01]]\n"
     ]
    }
   ],
   "source": [
    "\n",
    "X = [[1, 2], [2, 3], [3, 4], [4, 3]]\n",
    "y = [19, 26, 33, 30]\n",
    "\n",
    "\n",
    "clf.score(X, y)\n",
    "\n",
    "clf.coef_\n",
    "\n",
    "clf.intercept_\n",
    "\n",
    "clf.predict([[1, 0], [2, 8]])"
   ]
  },
  {
   "cell_type": "code",
   "execution_count": 60,
   "id": "45e92096",
   "metadata": {},
   "outputs": [],
   "source": []
  },
  {
   "cell_type": "code",
   "execution_count": 15,
   "id": "29b22586",
   "metadata": {},
   "outputs": [
    {
     "data": {
      "text/plain": [
       "186"
      ]
     },
     "execution_count": 15,
     "metadata": {},
     "output_type": "execute_result"
    }
   ],
   "source": [
    "# I'm importing definitions from the previous block\n",
    "len(X)"
   ]
  },
  {
   "cell_type": "code",
   "execution_count": 16,
   "id": "105f8d89",
   "metadata": {},
   "outputs": [
    {
     "data": {
      "text/plain": [
       "186"
      ]
     },
     "execution_count": 16,
     "metadata": {},
     "output_type": "execute_result"
    }
   ],
   "source": [
    "len(y)"
   ]
  },
  {
   "cell_type": "code",
   "execution_count": 17,
   "id": "d1d959e1",
   "metadata": {},
   "outputs": [],
   "source": [
    "from sklearn.linear_model import LogisticRegression"
   ]
  },
  {
   "cell_type": "code",
   "execution_count": 20,
   "id": "1914335c",
   "metadata": {},
   "outputs": [],
   "source": [
    "import random\n",
    " \n",
    "def generate_binary_string(n):\n",
    "    # Generate a random number with n bits\n",
    "    number = random.getrandbits(n)\n",
    "    # Convert the number to binary\n",
    "    binary_string = format(number, '0b')\n",
    "    return binary_string"
   ]
  },
  {
   "cell_type": "code",
   "execution_count": 29,
   "id": "a3405032",
   "metadata": {},
   "outputs": [],
   "source": [
    "yB = np.array([random.getrandbits(1) for i in range(len(y))])"
   ]
  },
  {
   "cell_type": "code",
   "execution_count": 31,
   "id": "8304263f",
   "metadata": {},
   "outputs": [
    {
     "data": {
      "text/plain": [
       "LogisticRegression()"
      ]
     },
     "execution_count": 31,
     "metadata": {},
     "output_type": "execute_result"
    }
   ],
   "source": [
    "log_reg = LogisticRegression()\n",
    "log_reg.fit(X,yB)"
   ]
  },
  {
   "cell_type": "code",
   "execution_count": 80,
   "id": "c2aa8379",
   "metadata": {},
   "outputs": [
    {
     "ename": "NameError",
     "evalue": "name 'features' is not defined",
     "output_type": "error",
     "traceback": [
      "\u001b[0;31m---------------------------------------------------------------------------\u001b[0m",
      "\u001b[0;31mNameError\u001b[0m                                 Traceback (most recent call last)",
      "\u001b[0;32m<ipython-input-80-73f788331d5c>\u001b[0m in \u001b[0;36m<module>\u001b[0;34m\u001b[0m\n\u001b[1;32m     15\u001b[0m \u001b[0;34m\u001b[0m\u001b[0m\n\u001b[1;32m     16\u001b[0m \u001b[0mimputer\u001b[0m \u001b[0;34m=\u001b[0m \u001b[0mSimpleImputer\u001b[0m\u001b[0;34m(\u001b[0m\u001b[0mstrategy\u001b[0m\u001b[0;34m=\u001b[0m\u001b[0;34m'median'\u001b[0m\u001b[0;34m)\u001b[0m\u001b[0;34m\u001b[0m\u001b[0;34m\u001b[0m\u001b[0m\n\u001b[0;32m---> 17\u001b[0;31m \u001b[0mimputer\u001b[0m\u001b[0;34m.\u001b[0m\u001b[0mfit\u001b[0m\u001b[0;34m(\u001b[0m\u001b[0mfeatures\u001b[0m\u001b[0;34m)\u001b[0m\u001b[0;34m\u001b[0m\u001b[0;34m\u001b[0m\u001b[0m\n\u001b[0m\u001b[1;32m     18\u001b[0m \u001b[0;34m\u001b[0m\u001b[0m\n\u001b[1;32m     19\u001b[0m \u001b[0mX\u001b[0m \u001b[0;34m=\u001b[0m \u001b[0mnum_pipeline\u001b[0m\u001b[0;34m.\u001b[0m\u001b[0mfit_transform\u001b[0m\u001b[0;34m(\u001b[0m\u001b[0mfeatures\u001b[0m\u001b[0;34m)\u001b[0m\u001b[0;34m\u001b[0m\u001b[0;34m\u001b[0m\u001b[0m\n",
      "\u001b[0;31mNameError\u001b[0m: name 'features' is not defined"
     ]
    }
   ],
   "source": [
    "# 1. Replace missing data withtheir median\n",
    "# 2. Feature Scaling -> Standardization\n",
    "\n",
    "from sklearn.pipeline import Pipeline\n",
    "from sklearn.impute import SimpleImputer\n",
    "from sklearn.preprocessing import StandardScaler\n",
    "\n",
    "num_pipeline = Pipeline([\n",
    "        ('imputer',SimpleImputer(strategy='median')),\n",
    "        ('std_scaler',StandardScaler())\n",
    "    ])\n",
    "\n",
    "\n",
    "#Replace all missing entries with their medians\n",
    "\n",
    "imputer = SimpleImputer(strategy='median')\n",
    "imputer.fit(features)\n",
    "\n",
    "X = num_pipeline.fit_transform(features)\n",
    "features = pd.DataFrame(X,columns=features.columns,index=features.index)"
   ]
  },
  {
   "cell_type": "markdown",
   "id": "dbc10b90",
   "metadata": {},
   "source": [
    "# Linear regression with sklearn"
   ]
  },
  {
   "cell_type": "code",
   "execution_count": 81,
   "id": "40a259de",
   "metadata": {},
   "outputs": [],
   "source": [
    "# Linear Fit\n",
    "from sklearn.linear_model import LinearRegression\n",
    "from sklearn.model_selection import train_test_split"
   ]
  },
  {
   "cell_type": "code",
   "execution_count": 82,
   "id": "76b419d2",
   "metadata": {},
   "outputs": [],
   "source": [
    "train_set, test_set = train_test_split(df, test_size=0.2,random_state=42)"
   ]
  },
  {
   "cell_type": "code",
   "execution_count": 83,
   "id": "eb49e4f7",
   "metadata": {},
   "outputs": [
    {
     "data": {
      "text/plain": [
       "38"
      ]
     },
     "execution_count": 83,
     "metadata": {},
     "output_type": "execute_result"
    }
   ],
   "source": [
    "len(test_set)"
   ]
  },
  {
   "cell_type": "code",
   "execution_count": 108,
   "id": "5577d976",
   "metadata": {},
   "outputs": [],
   "source": [
    "# columns to drop in the input matrix:\n",
    "list = ['harmonized.name','yr',\n",
    "        'wgi.corrupt','wgi.govt','wgi.stability','wgi.regulatory','wgi.law','wgi.voice',\n",
    "        'gdp','pop','pc.gdp']\n",
    "\n",
    "features = train_set.drop(list,axis=1)\n",
    "labels = train_set['wgi.govt'].copy()\n",
    "\n",
    "X = num_pipeline.fit_transform(features)\n",
    "features = pd.DataFrame(X,columns=features.columns,index=features.index)"
   ]
  },
  {
   "cell_type": "code",
   "execution_count": 109,
   "id": "b1d4c75f",
   "metadata": {},
   "outputs": [
    {
     "data": {
      "text/plain": [
       "LinearRegression()"
      ]
     },
     "execution_count": 109,
     "metadata": {},
     "output_type": "execute_result"
    }
   ],
   "source": [
    "lin_reg = LinearRegression()\n",
    "lin_reg.fit(X,labels)"
   ]
  },
  {
   "cell_type": "code",
   "execution_count": 110,
   "id": "fb1d526b",
   "metadata": {},
   "outputs": [
    {
     "name": "stderr",
     "output_type": "stream",
     "text": [
      "/usr/local/lib/python3.9/site-packages/sklearn/base.py:443: UserWarning: X has feature names, but LinearRegression was fitted without feature names\n",
      "  warnings.warn(\n"
     ]
    },
    {
     "data": {
      "image/png": "[encoded data removed]",
      "text/plain": [
       "<Figure size 432x288 with 1 Axes>"
      ]
     },
     "metadata": {
      "needs_background": "light"
     },
     "output_type": "display_data"
    }
   ],
   "source": [
    "plt.scatter(labels,lin_reg.predict(features))\n",
    "plt.plot([-2.5,2.5],[-2.5,2.5],'--',c='k')\n",
    "plt.xlabel('actual')\n",
    "plt.ylabel('predicted')\n",
    "plt.show()"
   ]
  },
  {
   "cell_type": "code",
   "execution_count": 87,
   "id": "7abd0880",
   "metadata": {},
   "outputs": [
    {
     "data": {
      "text/plain": [
       "<AxesSubplot:>"
      ]
     },
     "execution_count": 87,
     "metadata": {},
     "output_type": "execute_result"
    },
    {
     "data": {
      "image/png": "[encoded data removed]",
      "text/plain": [
       "<Figure size 432x288 with 1 Axes>"
      ]
     },
     "metadata": {
      "needs_background": "light"
     },
     "output_type": "display_data"
    }
   ],
   "source": [
    "# 'wgi.corrupt','wgi.govt','wgi.stability','wgi.regulatory','wgi.law','wgi.voice',\n",
    "df['wgi.corrupt'].hist()"
   ]
  },
  {
   "cell_type": "code",
   "execution_count": 88,
   "id": "065bf4ed",
   "metadata": {},
   "outputs": [
    {
     "data": {
      "text/plain": [
       "<AxesSubplot:>"
      ]
     },
     "execution_count": 88,
     "metadata": {},
     "output_type": "execute_result"
    },
    {
     "data": {
      "image/png": "[encoded data removed]",
      "text/plain": [
       "<Figure size 432x288 with 1 Axes>"
      ]
     },
     "metadata": {
      "needs_background": "light"
     },
     "output_type": "display_data"
    }
   ],
   "source": [
    "# 'wgi.corrupt','wgi.govt','wgi.stability','wgi.regulatory','wgi.law','wgi.voice',\n",
    "df['wgi.govt'].hist()"
   ]
  },
  {
   "cell_type": "code",
   "execution_count": 89,
   "id": "655e0349",
   "metadata": {},
   "outputs": [
    {
     "data": {
      "text/plain": [
       "<AxesSubplot:>"
      ]
     },
     "execution_count": 89,
     "metadata": {},
     "output_type": "execute_result"
    },
    {
     "data": {
      "image/png": "[encoded data removed]",
      "text/plain": [
       "<Figure size 432x288 with 1 Axes>"
      ]
     },
     "metadata": {
      "needs_background": "light"
     },
     "output_type": "display_data"
    }
   ],
   "source": [
    "# 'wgi.corrupt','wgi.govt','wgi.stability','wgi.regulatory','wgi.law','wgi.voice',\n",
    "df['wgi.stability'].hist()"
   ]
  },
  {
   "cell_type": "code",
   "execution_count": 90,
   "id": "7e3c67e2",
   "metadata": {},
   "outputs": [
    {
     "data": {
      "text/plain": [
       "<AxesSubplot:>"
      ]
     },
     "execution_count": 90,
     "metadata": {},
     "output_type": "execute_result"
    },
    {
     "data": {
      "image/png": "[encoded data removed]",
      "text/plain": [
       "<Figure size 432x288 with 1 Axes>"
      ]
     },
     "metadata": {
      "needs_background": "light"
     },
     "output_type": "display_data"
    }
   ],
   "source": [
    "# 'wgi.corrupt','wgi.govt','wgi.stability','wgi.regulatory','wgi.law','wgi.voice',\n",
    "df['wgi.regulatory'].hist()"
   ]
  },
  {
   "cell_type": "code",
   "execution_count": 94,
   "id": "62e35a5e",
   "metadata": {},
   "outputs": [],
   "source": [
    "labels = ['wgi.corrupt','wgi.govt','wgi.stability','wgi.regulatory','wgi.law','wgi.voice']"
   ]
  },
  {
   "cell_type": "code",
   "execution_count": 95,
   "id": "c8c5af15",
   "metadata": {},
   "outputs": [
    {
     "name": "stdout",
     "output_type": "stream",
     "text": [
      "-1.70907258987427 2.16713047027588\n",
      "-2.25098657608032 2.21273446083069\n",
      "-2.72988080978394 1.8838939666748\n",
      "-2.28220462799072 2.1601128578186\n",
      "-2.37018537521362 2.04878187179565\n",
      "-2.1851224899292 1.6552220582962\n"
     ]
    }
   ],
   "source": [
    "for label in labels:\n",
    "    print(df[label].min(),df[label].max())"
   ]
  },
  {
   "cell_type": "code",
   "execution_count": 107,
   "id": "1e397062",
   "metadata": {},
   "outputs": [
    {
     "data": {
      "image/png": "[encoded data removed]",
      "text/plain": [
       "<Figure size 432x288 with 1 Axes>"
      ]
     },
     "metadata": {
      "needs_background": "light"
     },
     "output_type": "display_data"
    }
   ],
   "source": [
    "for label in labels:\n",
    "    plt.hist(df[label],alpha = 1, histtype='step',label=label)\n",
    "    plt.legend(loc=2)"
   ]
  },
  {
   "cell_type": "code",
   "execution_count": 115,
   "id": "ed13b228",
   "metadata": {},
   "outputs": [],
   "source": []
  },
  {
   "cell_type": "code",
   "execution_count": 113,
   "id": "8572ca73",
   "metadata": {},
   "outputs": [],
   "source": [
    "data = df.drop(['yr','harmonized.name'],axis=1)"
   ]
  },
  {
   "cell_type": "code",
   "execution_count": 117,
   "id": "70c03291",
   "metadata": {},
   "outputs": [
    {
     "data": {
      "image/png": "[encoded data removed]",
      "text/plain": [
       "<Figure size 432x288 with 2 Axes>"
      ]
     },
     "metadata": {
      "needs_background": "light"
     },
     "output_type": "display_data"
    }
   ],
   "source": [
    "dataplot = sb.heatmap(data.corr(), cmap=\"YlGnBu\", annot=False)\n"
   ]
  },
  {
   "cell_type": "code",
   "execution_count": 126,
   "id": "60a71760",
   "metadata": {},
   "outputs": [
    {
     "data": {
      "text/plain": [
       "<matplotlib.collections.PathCollection at 0x163bb1850>"
      ]
     },
     "execution_count": 126,
     "metadata": {},
     "output_type": "execute_result"
    },
    {
     "data": {
      "image/png": "[encoded data removed]",
      "text/plain": [
       "<Figure size 432x288 with 1 Axes>"
      ]
     },
     "metadata": {
      "needs_background": "light"
     },
     "output_type": "display_data"
    }
   ],
   "source": [
    "plt.scatter(df['triad_07'],df[labels[0]])"
   ]
  },
  {
   "cell_type": "code",
   "execution_count": 122,
   "id": "9304e09e",
   "metadata": {},
   "outputs": [
    {
     "data": {
      "text/html": [
       "<div>\n",
       "<style scoped>\n",
       "    .dataframe tbody tr th:only-of-type {\n",
       "        vertical-align: middle;\n",
       "    }\n",
       "\n",
       "    .dataframe tbody tr th {\n",
       "        vertical-align: top;\n",
       "    }\n",
       "\n",
       "    .dataframe thead th {\n",
       "        text-align: right;\n",
       "    }\n",
       "</style>\n",
       "<table border=\"1\" class=\"dataframe\">\n",
       "  <thead>\n",
       "    <tr style=\"text-align: right;\">\n",
       "      <th></th>\n",
       "      <th>triad_13</th>\n",
       "      <th>wgi.corrupt</th>\n",
       "    </tr>\n",
       "  </thead>\n",
       "  <tbody>\n",
       "    <tr>\n",
       "      <th>0</th>\n",
       "      <td>0.000000</td>\n",
       "      <td>-1.407710</td>\n",
       "    </tr>\n",
       "    <tr>\n",
       "      <th>1</th>\n",
       "      <td>0.000000</td>\n",
       "      <td>-0.543374</td>\n",
       "    </tr>\n",
       "    <tr>\n",
       "      <th>2</th>\n",
       "      <td>0.301411</td>\n",
       "      <td>-0.635694</td>\n",
       "    </tr>\n",
       "    <tr>\n",
       "      <th>3</th>\n",
       "      <td>0.000000</td>\n",
       "      <td>1.840800</td>\n",
       "    </tr>\n",
       "    <tr>\n",
       "      <th>4</th>\n",
       "      <td>0.000000</td>\n",
       "      <td>1.231043</td>\n",
       "    </tr>\n",
       "    <tr>\n",
       "      <th>...</th>\n",
       "      <td>...</td>\n",
       "      <td>...</td>\n",
       "    </tr>\n",
       "    <tr>\n",
       "      <th>220</th>\n",
       "      <td>0.000000</td>\n",
       "      <td>-0.259581</td>\n",
       "    </tr>\n",
       "    <tr>\n",
       "      <th>222</th>\n",
       "      <td>0.390289</td>\n",
       "      <td>-0.524321</td>\n",
       "    </tr>\n",
       "    <tr>\n",
       "      <th>224</th>\n",
       "      <td>0.000000</td>\n",
       "      <td>-0.330311</td>\n",
       "    </tr>\n",
       "    <tr>\n",
       "      <th>226</th>\n",
       "      <td>-0.160661</td>\n",
       "      <td>-0.662320</td>\n",
       "    </tr>\n",
       "    <tr>\n",
       "      <th>227</th>\n",
       "      <td>-0.029507</td>\n",
       "      <td>-1.273280</td>\n",
       "    </tr>\n",
       "  </tbody>\n",
       "</table>\n",
       "<p>186 rows × 2 columns</p>\n",
       "</div>"
      ],
      "text/plain": [
       "     triad_13  wgi.corrupt\n",
       "0    0.000000    -1.407710\n",
       "1    0.000000    -0.543374\n",
       "2    0.301411    -0.635694\n",
       "3    0.000000     1.840800\n",
       "4    0.000000     1.231043\n",
       "..        ...          ...\n",
       "220  0.000000    -0.259581\n",
       "222  0.390289    -0.524321\n",
       "224  0.000000    -0.330311\n",
       "226 -0.160661    -0.662320\n",
       "227 -0.029507    -1.273280\n",
       "\n",
       "[186 rows x 2 columns]"
      ]
     },
     "execution_count": 122,
     "metadata": {},
     "output_type": "execute_result"
    }
   ],
   "source": [
    "df[['triad_6',labels[0]]]"
   ]
  },
  {
   "cell_type": "code",
   "execution_count": 132,
   "id": "dc115205",
   "metadata": {},
   "outputs": [
    {
     "data": {
      "text/plain": [
       "<AxesSubplot:xlabel='triad_01', ylabel='triad_02'>"
      ]
     },
     "execution_count": 132,
     "metadata": {},
     "output_type": "execute_result"
    },
    {
     "data": {
      "image/png": "[encoded data removed]",
      "text/plain": [
       "<Figure size 432x288 with 1 Axes>"
      ]
     },
     "metadata": {
      "needs_background": "light"
     },
     "output_type": "display_data"
    }
   ],
   "source": [
    "sb.scatterplot(df, x=\"triad_01\", y=\"triad_02\")"
   ]
  },
  {
   "cell_type": "code",
   "execution_count": 141,
   "id": "03d524d9",
   "metadata": {},
   "outputs": [
    {
     "data": {
      "text/plain": [
       "Index(['yr', 'harmonized.name', 'triad_01', 'triad_02', 'triad_03', 'triad_04',\n",
       "       'triad_05', 'triad_06', 'triad_07', 'triad_08', 'triad_09', 'triad_10',\n",
       "       'triad_11', 'triad_12', 'triad_13', 'wgi.corrupt', 'wgi.govt',\n",
       "       'wgi.stability', 'wgi.regulatory', 'wgi.law', 'wgi.voice', 'gdp', 'pop',\n",
       "       'pc.gdp'],\n",
       "      dtype='object')"
      ]
     },
     "execution_count": 141,
     "metadata": {},
     "output_type": "execute_result"
    }
   ],
   "source": [
    "df.columns"
   ]
  },
  {
   "cell_type": "code",
   "execution_count": 144,
   "id": "5d0fdb61",
   "metadata": {},
   "outputs": [],
   "source": [
    "variables = np.array(df.columns)"
   ]
  },
  {
   "cell_type": "code",
   "execution_count": 145,
   "id": "bbfaf6f7",
   "metadata": {},
   "outputs": [
    {
     "data": {
      "text/plain": [
       "array(['yr', 'harmonized.name', 'triad_01', 'triad_02', 'triad_03',\n",
       "       'triad_04', 'triad_05', 'triad_06', 'triad_07', 'triad_08',\n",
       "       'triad_09', 'triad_10', 'triad_11', 'triad_12', 'triad_13',\n",
       "       'wgi.corrupt', 'wgi.govt', 'wgi.stability', 'wgi.regulatory',\n",
       "       'wgi.law', 'wgi.voice', 'gdp', 'pop', 'pc.gdp'], dtype=object)"
      ]
     },
     "execution_count": 145,
     "metadata": {},
     "output_type": "execute_result"
    }
   ],
   "source": [
    "variables"
   ]
  },
  {
   "cell_type": "code",
   "execution_count": 146,
   "id": "4d04abbd",
   "metadata": {},
   "outputs": [
    {
     "data": {
      "text/plain": [
       "<AxesSubplot:xlabel='triad_01', ylabel='wgi.voice'>"
      ]
     },
     "execution_count": 146,
     "metadata": {},
     "output_type": "execute_result"
    },
    {
     "data": {
      "image/png": "[encoded data removed]",
      "text/plain": [
       "<Figure size 432x288 with 1 Axes>"
      ]
     },
     "metadata": {
      "needs_background": "light"
     },
     "output_type": "display_data"
    }
   ],
   "source": [
    "var1 = 'triad_01'\n",
    "var2 = 'wgi.voice'\n",
    "\n",
    "sb.scatterplot(df, x=var1, y=var2)"
   ]
  },
  {
   "cell_type": "code",
   "execution_count": 149,
   "id": "eb478d95",
   "metadata": {},
   "outputs": [
    {
     "data": {
      "text/html": [
       "<div>\n",
       "<style scoped>\n",
       "    .dataframe tbody tr th:only-of-type {\n",
       "        vertical-align: middle;\n",
       "    }\n",
       "\n",
       "    .dataframe tbody tr th {\n",
       "        vertical-align: top;\n",
       "    }\n",
       "\n",
       "    .dataframe thead th {\n",
       "        text-align: right;\n",
       "    }\n",
       "</style>\n",
       "<table border=\"1\" class=\"dataframe\">\n",
       "  <thead>\n",
       "    <tr style=\"text-align: right;\">\n",
       "      <th></th>\n",
       "      <th>triad_01</th>\n",
       "      <th>wgi.voice</th>\n",
       "      <th>harmonized.name</th>\n",
       "    </tr>\n",
       "  </thead>\n",
       "  <tbody>\n",
       "    <tr>\n",
       "      <th>0</th>\n",
       "      <td>-0.185087</td>\n",
       "      <td>-1.006747</td>\n",
       "      <td>Afghanistan</td>\n",
       "    </tr>\n",
       "    <tr>\n",
       "      <th>1</th>\n",
       "      <td>0.068945</td>\n",
       "      <td>0.142711</td>\n",
       "      <td>Albania</td>\n",
       "    </tr>\n",
       "    <tr>\n",
       "      <th>2</th>\n",
       "      <td>-0.160862</td>\n",
       "      <td>-1.053524</td>\n",
       "      <td>Algeria</td>\n",
       "    </tr>\n",
       "    <tr>\n",
       "      <th>3</th>\n",
       "      <td>-0.364029</td>\n",
       "      <td>1.272709</td>\n",
       "      <td>American Samoa</td>\n",
       "    </tr>\n",
       "    <tr>\n",
       "      <th>4</th>\n",
       "      <td>-0.310922</td>\n",
       "      <td>1.110087</td>\n",
       "      <td>Andorra</td>\n",
       "    </tr>\n",
       "    <tr>\n",
       "      <th>...</th>\n",
       "      <td>...</td>\n",
       "      <td>...</td>\n",
       "      <td>...</td>\n",
       "    </tr>\n",
       "    <tr>\n",
       "      <th>220</th>\n",
       "      <td>-0.655749</td>\n",
       "      <td>0.680349</td>\n",
       "      <td>Vanuatu</td>\n",
       "    </tr>\n",
       "    <tr>\n",
       "      <th>222</th>\n",
       "      <td>0.084107</td>\n",
       "      <td>-1.405620</td>\n",
       "      <td>Viet Nam</td>\n",
       "    </tr>\n",
       "    <tr>\n",
       "      <th>224</th>\n",
       "      <td>-0.230146</td>\n",
       "      <td>-1.026805</td>\n",
       "      <td>West Bank and Gaza</td>\n",
       "    </tr>\n",
       "    <tr>\n",
       "      <th>226</th>\n",
       "      <td>-0.234745</td>\n",
       "      <td>-0.309643</td>\n",
       "      <td>Zambia</td>\n",
       "    </tr>\n",
       "    <tr>\n",
       "      <th>227</th>\n",
       "      <td>0.089420</td>\n",
       "      <td>-1.164705</td>\n",
       "      <td>Zimbabwe</td>\n",
       "    </tr>\n",
       "  </tbody>\n",
       "</table>\n",
       "<p>186 rows × 3 columns</p>\n",
       "</div>"
      ],
      "text/plain": [
       "     triad_01  wgi.voice     harmonized.name\n",
       "0   -0.185087  -1.006747         Afghanistan\n",
       "1    0.068945   0.142711             Albania\n",
       "2   -0.160862  -1.053524             Algeria\n",
       "3   -0.364029   1.272709      American Samoa\n",
       "4   -0.310922   1.110087             Andorra\n",
       "..        ...        ...                 ...\n",
       "220 -0.655749   0.680349             Vanuatu\n",
       "222  0.084107  -1.405620            Viet Nam\n",
       "224 -0.230146  -1.026805  West Bank and Gaza\n",
       "226 -0.234745  -0.309643              Zambia\n",
       "227  0.089420  -1.164705            Zimbabwe\n",
       "\n",
       "[186 rows x 3 columns]"
      ]
     },
     "execution_count": 149,
     "metadata": {},
     "output_type": "execute_result"
    }
   ],
   "source": [
    "df[[var1,var2,'harmonized.name']]"
   ]
  },
  {
   "cell_type": "code",
   "execution_count": null,
   "id": "79d48daf",
   "metadata": {},
   "outputs": [],
   "source": []
  }
 ],
 "metadata": {
  "kernelspec": {
   "display_name": "Python 3",
   "language": "python",
   "name": "python3"
  },
  "language_info": {
   "codemirror_mode": {
    "name": "ipython",
    "version": 3
   },
   "file_extension": ".py",
   "mimetype": "text/x-python",
   "name": "python",
   "nbconvert_exporter": "python",
   "pygments_lexer": "ipython3",
   "version": "3.9.5"
  }
 },
 "nbformat": 4,
 "nbformat_minor": 5
}
