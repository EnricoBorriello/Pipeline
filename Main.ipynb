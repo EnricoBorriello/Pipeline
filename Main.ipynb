{
 "cells": [
  {
   "cell_type": "markdown",
   "id": "d11a9fdc",
   "metadata": {},
   "source": [
    "$Expected FTB Booking and #Expected FTB Accounts\n",
    "\n",
    "For each representative (opportunity owner) in Pre-FTB report, collect all the accounts under their name, together with Expected FTB Date (simply 'date') and Annual hotel spend (simply 'spend').\n",
    "\n",
    "Starting from the date, split the spend over the following twelve months. Start with the month the date belongs to. (There are some strange cases, e.g. Adam Ward, Frontier Building Corp, FTB date = 30 Nov, i.e. the end of the month already, but Nov takes one entire 12th part.)\n",
    "\n",
    "Some accounts don't have a date. I'm ignoring those.\n",
    "\n",
    "For each month, sum these fractions over all the accounts. Also count the number of accounts. These numbers are the $Expected FTB Booking and #Expected FTB Accounts respectively, and they're shown in the Pipeline Summary.\n",
    "\n",
    "Treat 'post' data in the same way.\n",
    "\n",
    "There's a little difference in the number of post accounts. That's because i don't count accounts with $0."
   ]
  },
  {
   "cell_type": "code",
   "execution_count": 117,
   "id": "ff11c0dd",
   "metadata": {},
   "outputs": [],
   "source": [
    "import pandas as pd\n",
    "import matplotlib.pyplot as plt\n",
    "import numpy as np\n",
    "import matplotlib.ticker as mticker"
   ]
  },
  {
   "cell_type": "code",
   "execution_count": 118,
   "id": "e3cdbeb5",
   "metadata": {},
   "outputs": [],
   "source": [
    "# Set display options\n",
    "pd.set_option('display.max_columns', None)\n",
    "pd.set_option('display.expand_frame_repr', False)\n",
    "\n",
    "# Filter or ignore the warning\n",
    "import warnings\n",
    "warnings.filterwarnings(\"ignore\", category=pd.core.common.SettingWithCopyWarning)"
   ]
  },
  {
   "cell_type": "markdown",
   "id": "f2bdd682",
   "metadata": {},
   "source": [
    "# Import Data"
   ]
  },
  {
   "cell_type": "code",
   "execution_count": 119,
   "id": "88dc72e8",
   "metadata": {},
   "outputs": [],
   "source": [
    "from datetime import datetime, timedelta\n",
    "from utils import find_date_range, extract_date"
   ]
  },
  {
   "cell_type": "code",
   "execution_count": 120,
   "id": "415b35e1",
   "metadata": {},
   "outputs": [],
   "source": [
    "df_pre = pd.read_csv('original_files/Pre-FTB_Report.csv')\n",
    "df_post = pd.read_csv('original_files/Post-FTB_Report.csv')\n",
    "\n",
    "df_pre['Annual hotel spend'] = df_pre['Annual hotel spend'].fillna(0).astype(int)\n",
    "df_post['Annual hotel spend'] = df_post['Annual hotel spend'].fillna(0).astype(int)"
   ]
  },
  {
   "cell_type": "code",
   "execution_count": 121,
   "id": "2bb8ead5",
   "metadata": {},
   "outputs": [
    {
     "data": {
      "text/html": [
       "<div>\n",
       "<style scoped>\n",
       "    .dataframe tbody tr th:only-of-type {\n",
       "        vertical-align: middle;\n",
       "    }\n",
       "\n",
       "    .dataframe tbody tr th {\n",
       "        vertical-align: top;\n",
       "    }\n",
       "\n",
       "    .dataframe thead th {\n",
       "        text-align: right;\n",
       "    }\n",
       "</style>\n",
       "<table border=\"1\" class=\"dataframe\">\n",
       "  <thead>\n",
       "    <tr style=\"text-align: right;\">\n",
       "      <th></th>\n",
       "      <th>Opportunity Owner</th>\n",
       "      <th>Account Name</th>\n",
       "      <th>Opportunity Name</th>\n",
       "      <th>Stage</th>\n",
       "      <th>Expected FTB Date</th>\n",
       "      <th>Annual hotel spend</th>\n",
       "      <th>Account: Last Activity</th>\n",
       "    </tr>\n",
       "  </thead>\n",
       "  <tbody>\n",
       "    <tr>\n",
       "      <th>0</th>\n",
       "      <td>Ashley Blok</td>\n",
       "      <td>Paragon Sports Constructors</td>\n",
       "      <td>Paragon Sports Constructors</td>\n",
       "      <td>Demo</td>\n",
       "      <td>NaN</td>\n",
       "      <td>250001</td>\n",
       "      <td>11/8/2022</td>\n",
       "    </tr>\n",
       "    <tr>\n",
       "      <th>1</th>\n",
       "      <td>Zac Oliver</td>\n",
       "      <td>JBS USA</td>\n",
       "      <td>JBS USA</td>\n",
       "      <td>Discovery</td>\n",
       "      <td>NaN</td>\n",
       "      <td>4000000</td>\n",
       "      <td>9/9/2021</td>\n",
       "    </tr>\n",
       "    <tr>\n",
       "      <th>2</th>\n",
       "      <td>Shane Figueroa</td>\n",
       "      <td>Holladay Properties</td>\n",
       "      <td>Holladay Properties</td>\n",
       "      <td>Discovery</td>\n",
       "      <td>11/30/2022</td>\n",
       "      <td>50001</td>\n",
       "      <td>12/8/2022</td>\n",
       "    </tr>\n",
       "  </tbody>\n",
       "</table>\n",
       "</div>"
      ],
      "text/plain": [
       "  Opportunity Owner                 Account Name             Opportunity Name      Stage Expected FTB Date  Annual hotel spend Account: Last Activity\n",
       "0       Ashley Blok  Paragon Sports Constructors  Paragon Sports Constructors       Demo               NaN              250001              11/8/2022\n",
       "1        Zac Oliver                      JBS USA                      JBS USA  Discovery               NaN             4000000               9/9/2021\n",
       "2    Shane Figueroa          Holladay Properties          Holladay Properties  Discovery        11/30/2022               50001              12/8/2022"
      ]
     },
     "execution_count": 121,
     "metadata": {},
     "output_type": "execute_result"
    }
   ],
   "source": [
    "# difference in the input files from pre to post\n",
    "# the FTB includes both date and time\n",
    "df_pre[:3]"
   ]
  },
  {
   "cell_type": "code",
   "execution_count": 122,
   "id": "5f5e5882",
   "metadata": {},
   "outputs": [
    {
     "data": {
      "text/html": [
       "<div>\n",
       "<style scoped>\n",
       "    .dataframe tbody tr th:only-of-type {\n",
       "        vertical-align: middle;\n",
       "    }\n",
       "\n",
       "    .dataframe tbody tr th {\n",
       "        vertical-align: top;\n",
       "    }\n",
       "\n",
       "    .dataframe thead th {\n",
       "        text-align: right;\n",
       "    }\n",
       "</style>\n",
       "<table border=\"1\" class=\"dataframe\">\n",
       "  <thead>\n",
       "    <tr style=\"text-align: right;\">\n",
       "      <th></th>\n",
       "      <th>Opportunity Owner</th>\n",
       "      <th>Account Name</th>\n",
       "      <th>Opportunity Name</th>\n",
       "      <th>Stage</th>\n",
       "      <th>FTB or Revival Date</th>\n",
       "      <th>Annual hotel spend</th>\n",
       "      <th>Account: Last Activity</th>\n",
       "    </tr>\n",
       "  </thead>\n",
       "  <tbody>\n",
       "    <tr>\n",
       "      <th>0</th>\n",
       "      <td>Shane Figueroa</td>\n",
       "      <td>Statewide Construction Sweeping</td>\n",
       "      <td>Statewide Construction Sweeping-</td>\n",
       "      <td>Closed Won</td>\n",
       "      <td>4/25/22 11:07</td>\n",
       "      <td>0</td>\n",
       "      <td>12/7/2022</td>\n",
       "    </tr>\n",
       "    <tr>\n",
       "      <th>1</th>\n",
       "      <td>Shane Figueroa</td>\n",
       "      <td>KCI Enterprises</td>\n",
       "      <td>KCI Enterprises-</td>\n",
       "      <td>Closed Lost</td>\n",
       "      <td>10/30/22 22:37</td>\n",
       "      <td>0</td>\n",
       "      <td>12/8/2022</td>\n",
       "    </tr>\n",
       "    <tr>\n",
       "      <th>2</th>\n",
       "      <td>Shane Figueroa</td>\n",
       "      <td>Installation Services</td>\n",
       "      <td>Installation Services-</td>\n",
       "      <td>Closed (Too Small)</td>\n",
       "      <td>8/23/22 14:02</td>\n",
       "      <td>20000</td>\n",
       "      <td>11/29/2022</td>\n",
       "    </tr>\n",
       "  </tbody>\n",
       "</table>\n",
       "</div>"
      ],
      "text/plain": [
       "  Opportunity Owner                     Account Name                  Opportunity Name               Stage FTB or Revival Date  Annual hotel spend Account: Last Activity\n",
       "0    Shane Figueroa  Statewide Construction Sweeping  Statewide Construction Sweeping-          Closed Won       4/25/22 11:07                   0              12/7/2022\n",
       "1    Shane Figueroa                  KCI Enterprises                  KCI Enterprises-         Closed Lost      10/30/22 22:37                   0              12/8/2022\n",
       "2    Shane Figueroa            Installation Services            Installation Services-  Closed (Too Small)       8/23/22 14:02               20000             11/29/2022"
      ]
     },
     "execution_count": 122,
     "metadata": {},
     "output_type": "execute_result"
    }
   ],
   "source": [
    "df_post[:3]"
   ]
  },
  {
   "cell_type": "code",
   "execution_count": 123,
   "id": "5be71fdc",
   "metadata": {},
   "outputs": [
    {
     "data": {
      "text/html": [
       "<div>\n",
       "<style scoped>\n",
       "    .dataframe tbody tr th:only-of-type {\n",
       "        vertical-align: middle;\n",
       "    }\n",
       "\n",
       "    .dataframe tbody tr th {\n",
       "        vertical-align: top;\n",
       "    }\n",
       "\n",
       "    .dataframe thead th {\n",
       "        text-align: right;\n",
       "    }\n",
       "</style>\n",
       "<table border=\"1\" class=\"dataframe\">\n",
       "  <thead>\n",
       "    <tr style=\"text-align: right;\">\n",
       "      <th></th>\n",
       "      <th>Opportunity Owner</th>\n",
       "      <th>Account Name</th>\n",
       "      <th>Opportunity Name</th>\n",
       "      <th>Stage</th>\n",
       "      <th>Annual hotel spend</th>\n",
       "      <th>Account: Last Activity</th>\n",
       "      <th>Expected FTB Date</th>\n",
       "    </tr>\n",
       "  </thead>\n",
       "  <tbody>\n",
       "    <tr>\n",
       "      <th>0</th>\n",
       "      <td>Shane Figueroa</td>\n",
       "      <td>Statewide Construction Sweeping</td>\n",
       "      <td>Statewide Construction Sweeping-</td>\n",
       "      <td>Closed Won</td>\n",
       "      <td>0</td>\n",
       "      <td>12/7/2022</td>\n",
       "      <td>04/25/2022</td>\n",
       "    </tr>\n",
       "    <tr>\n",
       "      <th>1</th>\n",
       "      <td>Shane Figueroa</td>\n",
       "      <td>KCI Enterprises</td>\n",
       "      <td>KCI Enterprises-</td>\n",
       "      <td>Closed Lost</td>\n",
       "      <td>0</td>\n",
       "      <td>12/8/2022</td>\n",
       "      <td>10/30/2022</td>\n",
       "    </tr>\n",
       "    <tr>\n",
       "      <th>2</th>\n",
       "      <td>Shane Figueroa</td>\n",
       "      <td>Installation Services</td>\n",
       "      <td>Installation Services-</td>\n",
       "      <td>Closed (Too Small)</td>\n",
       "      <td>20000</td>\n",
       "      <td>11/29/2022</td>\n",
       "      <td>08/23/2022</td>\n",
       "    </tr>\n",
       "  </tbody>\n",
       "</table>\n",
       "</div>"
      ],
      "text/plain": [
       "  Opportunity Owner                     Account Name                  Opportunity Name               Stage  Annual hotel spend Account: Last Activity Expected FTB Date\n",
       "0    Shane Figueroa  Statewide Construction Sweeping  Statewide Construction Sweeping-          Closed Won                   0              12/7/2022        04/25/2022\n",
       "1    Shane Figueroa                  KCI Enterprises                  KCI Enterprises-         Closed Lost                   0              12/8/2022        10/30/2022\n",
       "2    Shane Figueroa            Installation Services            Installation Services-  Closed (Too Small)               20000             11/29/2022        08/23/2022"
      ]
     },
     "execution_count": 123,
     "metadata": {},
     "output_type": "execute_result"
    }
   ],
   "source": [
    "#  we just need the date\n",
    "df_post['Expected FTB Date'] = [extract_date(date_time) for date_time in df_post['FTB or Revival Date'] ]\n",
    "df_post = df_post.drop('FTB or Revival Date', axis=1)\n",
    "df_post[:3]"
   ]
  },
  {
   "cell_type": "markdown",
   "id": "7a35b1d9",
   "metadata": {},
   "source": [
    "# Owners"
   ]
  },
  {
   "cell_type": "code",
   "execution_count": 124,
   "id": "597058c0",
   "metadata": {},
   "outputs": [],
   "source": [
    "pre_owners = np.sort(np.array(df_pre['Opportunity Owner'].unique()))\n",
    "post_owners = np.sort(np.array(df_post['Opportunity Owner'].unique()))\n",
    "\n",
    "missing_owners = [owner for owner in pre_owners if owner not in post_owners]"
   ]
  },
  {
   "cell_type": "code",
   "execution_count": 125,
   "id": "9381ae44",
   "metadata": {},
   "outputs": [
    {
     "data": {
      "text/plain": [
       "['Will Gotsch']"
      ]
     },
     "execution_count": 125,
     "metadata": {},
     "output_type": "execute_result"
    }
   ],
   "source": [
    "missing_owners"
   ]
  },
  {
   "cell_type": "code",
   "execution_count": 126,
   "id": "94dc7a43",
   "metadata": {},
   "outputs": [
    {
     "name": "stdout",
     "output_type": "stream",
     "text": [
      "43\n",
      "42\n"
     ]
    }
   ],
   "source": [
    "print(len(pre_owners))\n",
    "print(len(post_owners))"
   ]
  },
  {
   "cell_type": "code",
   "execution_count": 127,
   "id": "6ef6b9ae",
   "metadata": {},
   "outputs": [],
   "source": [
    "# I will only keep owners that are in both pre and post reports\n",
    "\n",
    "# Convert arrays to sets\n",
    "set1 = set(pre_owners)\n",
    "set2 = set(post_owners)\n",
    "\n",
    "# Find the intersection of the sets\n",
    "common_elements = set1.intersection(set2)\n",
    "\n",
    "# Convert the common elements set back to a list\n",
    "names = list(common_elements)\n",
    "\n",
    "# sort it alphabetically by family name\n",
    "owners_list = sorted(names, key=lambda x: x.split()[1])\n",
    "\n",
    "#owners_list"
   ]
  },
  {
   "cell_type": "markdown",
   "id": "1e6d0241",
   "metadata": {},
   "source": [
    "# Common Code for Customer Detail"
   ]
  },
  {
   "cell_type": "code",
   "execution_count": 128,
   "id": "e51db2f7",
   "metadata": {},
   "outputs": [],
   "source": [
    "def customer_detail(df,owner):\n",
    "\n",
    "    # select the data you need:\n",
    "    df0 = df[df['Opportunity Owner']==owner]\n",
    "    df1 = df0.dropna(subset=['Expected FTB Date'])\n",
    "    df2 = df1[['Account Name','Expected FTB Date','Annual hotel spend']]\n",
    "    \n",
    "    # Define the range using the first and second dates\n",
    "    start_date_str = find_date_range(df2['Expected FTB Date'])[0]\n",
    "    end_date_str = find_date_range(df2['Expected FTB Date'])[1]\n",
    "\n",
    "    # Convert the start and end dates to datetime objects\n",
    "    start_date = datetime.strptime(start_date_str, \"%m/%d/%Y\")\n",
    "    end_date = datetime.strptime(end_date_str, \"%m/%d/%Y\")\n",
    "\n",
    "    # Add one year to the end date\n",
    "    end_date_plus_one_year = end_date + timedelta(days=365)\n",
    "\n",
    "    # Iterate through the months and print the abbreviated month and year\n",
    "\n",
    "    col = [0 for i in range(len(df2))]\n",
    "\n",
    "    current_date = start_date\n",
    "    while current_date < end_date_plus_one_year:\n",
    "        #print(current_date.strftime(\"%b %Y\"))\n",
    "        df2[str(current_date.strftime(\"%b %Y\"))] = col\n",
    "        current_date += timedelta(days=30) \n",
    "    \n",
    "    for i in range(len(df2)): # loop over accounts for given owner\n",
    "        start_date = df2.at[df2.index[i],'Expected FTB Date']\n",
    "        spend = df2.at[df2.index[i],'Annual hotel spend']\n",
    "        # Convert the date string to a datetime object\n",
    "        date = datetime.strptime(start_date, \"%m/%d/%Y\")\n",
    "        # loop over the following 12 months\n",
    "        for j in range(12):\n",
    "            label = date.strftime(\"%b %Y\")  # Format the date as \"Abbreviated Month Year\"\n",
    "            df2.at[df2.index[i],label] = round(spend/12)\n",
    "            # Add 30 days to the date for the next month\n",
    "            date += timedelta(days=30)\n",
    "        # to make sure empty months don't return NaN when divided by zero:\n",
    "        df2.fillna(int(0), inplace=True, downcast='infer')     \n",
    "\n",
    "\n",
    "    # This reproduces the content of \"Prospect (Pre-FTB) detail\"\n",
    "    # Now I need to reproduce \"Customers (Post-FTB) Detail\"\n",
    "    # and \"Pipeline Summary\"\n",
    "\n",
    "    sorted_df2 = df2.sort_values(by='Annual hotel spend',ascending=False)\n",
    "    \n",
    "    return sorted_df2"
   ]
  },
  {
   "cell_type": "code",
   "execution_count": 129,
   "id": "5f36980a",
   "metadata": {},
   "outputs": [],
   "source": [
    "def partial_pipeline_summary( detail , detail_type ):\n",
    "    # detail type can be either 'pre' or 'post'\n",
    "    \n",
    "    numeric_columns = detail.select_dtypes(include='number')\n",
    "    cols = numeric_columns.columns\n",
    "\n",
    "    # Here are the first two lines of \"Pipeline Summary\":\n",
    "\n",
    "    numeric_columns = detail.select_dtypes(include='number')\n",
    "    df1exp = (pd.DataFrame(numeric_columns.sum()))\n",
    "    df2exp = pd.DataFrame((detail[cols] != 0).sum())\n",
    "\n",
    "    if detail_type == 'pre':\n",
    "        label1 = '$ Expected FTB Booking'\n",
    "        label2 = '# Expected FTB Accounts'\n",
    "    if detail_type == 'post':\n",
    "        label1 = '$ Confirmed Pipeline Bookings'\n",
    "        label2 = '# Confirmed Pipeline Accounts'\n",
    "\n",
    "    df1exp.rename(columns={0: label1}, inplace=True)\n",
    "    df2exp.rename(columns={0: label2}, inplace=True)\n",
    "\n",
    "    df_exp = (pd.concat([df1exp, df2exp], axis=1)[1:]).transpose()\n",
    "\n",
    "    return df_exp"
   ]
  },
  {
   "cell_type": "markdown",
   "id": "89ad6bc4",
   "metadata": {},
   "source": [
    "# Partial Visualizations"
   ]
  },
  {
   "cell_type": "code",
   "execution_count": 146,
   "id": "8c672736",
   "metadata": {},
   "outputs": [],
   "source": [
    "def vialualize_partial_pipeline (detail,detail_type):\n",
    "\n",
    "    if detail_type == 'pre':\n",
    "        label1 = '$ Expected FTB Booking'\n",
    "        label2 = '# Expected FTB Accounts'\n",
    "        color = 'C1'\n",
    "    if detail_type == 'post':\n",
    "        label1 = '$ Confirmed Pipeline Bookings'\n",
    "        label2 = '# Confirmed Pipeline Accounts'\n",
    "        color = 'C0'\n",
    "\n",
    "    df_exp = partial_pipeline_summary( detail , detail_type)\n",
    "\n",
    "\n",
    "    ax = (df_exp.T).plot(kind='bar',\n",
    "                    y=label1,\n",
    "                    rot=90, width=0.8, edgecolor='black',\n",
    "                    legend=False,\n",
    "                    title=label1,\n",
    "                    color = color);\n",
    "    ax.set_axisbelow(True)\n",
    "    ax.yaxis.grid(True)\n",
    "    ax.spines['left'].set_linewidth(1.2)   # Left spine\n",
    "    ax.spines['bottom'].set_linewidth(1.2) # Bottom spine\n",
    "    ax.spines['right'].set_visible(False) # Right spine\n",
    "    ax.spines['top'].set_visible(False)   # Top spine\n",
    "\n",
    "    # Format y-axis tick labels\n",
    "    ax.yaxis.set_major_formatter(mticker.StrMethodFormatter('${x:,.0f}'))\n",
    "    #plt.legend()\n",
    "    \n",
    "    # Display the plot and then close it\n",
    "    plt.show()\n",
    "    plt.close()\n",
    "    \n",
    "    #Otherwise\n",
    "    #return plt;"
   ]
  },
  {
   "cell_type": "code",
   "execution_count": 230,
   "id": "a695fc51",
   "metadata": {},
   "outputs": [
    {
     "name": "stdout",
     "output_type": "stream",
     "text": [
      "Andrew Shock\n"
     ]
    }
   ],
   "source": [
    "ownerID = 30\n",
    "owner = owners_list[ownerID]\n",
    "\n",
    "detail_pre = customer_detail(df_pre,owner)\n",
    "detail_post = customer_detail(df_post,owner)\n",
    "\n",
    "print(owner)"
   ]
  },
  {
   "cell_type": "code",
   "execution_count": 231,
   "id": "6a692b65",
   "metadata": {},
   "outputs": [],
   "source": [
    "#detail_pre[:2]"
   ]
  },
  {
   "cell_type": "code",
   "execution_count": 232,
   "id": "670b5115",
   "metadata": {},
   "outputs": [],
   "source": [
    "#detail_post[:2]"
   ]
  },
  {
   "cell_type": "code",
   "execution_count": 233,
   "id": "6dff50f5",
   "metadata": {},
   "outputs": [],
   "source": [
    "#partial_pipeline_summary( detail_pre , detail_type = 'pre' )"
   ]
  },
  {
   "cell_type": "code",
   "execution_count": 234,
   "id": "a01cd2b5",
   "metadata": {
    "scrolled": true
   },
   "outputs": [],
   "source": [
    "#partial_pipeline_summary( detail_post , detail_type = 'post' )"
   ]
  },
  {
   "cell_type": "code",
   "execution_count": 235,
   "id": "a4d5bb79",
   "metadata": {},
   "outputs": [
    {
     "data": {
      "image/png": "[encoded data removed]",
      "text/plain": [
       "<Figure size 432x288 with 1 Axes>"
      ]
     },
     "metadata": {
      "needs_background": "light"
     },
     "output_type": "display_data"
    }
   ],
   "source": [
    "vialualize_partial_pipeline (detail_pre,detail_type='pre')"
   ]
  },
  {
   "cell_type": "code",
   "execution_count": 236,
   "id": "fa04b401",
   "metadata": {},
   "outputs": [
    {
     "data": {
      "image/png": "[encoded data removed]",
      "text/plain": [
       "<Figure size 432x288 with 1 Axes>"
      ]
     },
     "metadata": {
      "needs_background": "light"
     },
     "output_type": "display_data"
    }
   ],
   "source": [
    "vialualize_partial_pipeline (detail_post,detail_type='post')"
   ]
  },
  {
   "cell_type": "markdown",
   "id": "da8b8a62",
   "metadata": {},
   "source": [
    "# Pipeline"
   ]
  },
  {
   "cell_type": "code",
   "execution_count": 237,
   "id": "1a22bad5",
   "metadata": {},
   "outputs": [],
   "source": [
    "summ_pre = partial_pipeline_summary( detail_pre , detail_type = 'pre' )\n",
    "summ_post = partial_pipeline_summary( detail_post , detail_type = 'post' )"
   ]
  },
  {
   "cell_type": "code",
   "execution_count": 238,
   "id": "b5e51dc0",
   "metadata": {},
   "outputs": [],
   "source": [
    "merged_df = pd.concat([summ_post,summ_pre], sort=False).fillna(0)\n",
    "# Calculate the sum of pre and post\n",
    "row_sum = merged_df.iloc[0] + merged_df.iloc[2]\n",
    "# Set a name for the new row\n",
    "row_sum.name = '$ Total Pipeline'\n",
    "# Append the sum as a new row to the dataframe\n",
    "merged_df = merged_df.append(row_sum)"
   ]
  },
  {
   "cell_type": "code",
   "execution_count": 239,
   "id": "462a3f67",
   "metadata": {},
   "outputs": [
    {
     "data": {
      "text/html": [
       "<div>\n",
       "<style scoped>\n",
       "    .dataframe tbody tr th:only-of-type {\n",
       "        vertical-align: middle;\n",
       "    }\n",
       "\n",
       "    .dataframe tbody tr th {\n",
       "        vertical-align: top;\n",
       "    }\n",
       "\n",
       "    .dataframe thead th {\n",
       "        text-align: right;\n",
       "    }\n",
       "</style>\n",
       "<table border=\"1\" class=\"dataframe\">\n",
       "  <thead>\n",
       "    <tr style=\"text-align: right;\">\n",
       "      <th></th>\n",
       "      <th>Apr 2022</th>\n",
       "      <th>May 2022</th>\n",
       "      <th>Jun 2022</th>\n",
       "      <th>Jul 2022</th>\n",
       "      <th>Aug 2022</th>\n",
       "      <th>Sep 2022</th>\n",
       "      <th>Oct 2022</th>\n",
       "      <th>Nov 2022</th>\n",
       "      <th>Dec 2022</th>\n",
       "      <th>Jan 2023</th>\n",
       "      <th>Feb 2023</th>\n",
       "      <th>Mar 2023</th>\n",
       "      <th>Apr 2023</th>\n",
       "      <th>May 2023</th>\n",
       "      <th>Jun 2023</th>\n",
       "      <th>Jul 2023</th>\n",
       "      <th>Aug 2023</th>\n",
       "      <th>Sep 2023</th>\n",
       "      <th>Oct 2023</th>\n",
       "      <th>Nov 2023</th>\n",
       "      <th>Dec 2023</th>\n",
       "      <th>Jan 2024</th>\n",
       "      <th>Feb 2024</th>\n",
       "    </tr>\n",
       "  </thead>\n",
       "  <tbody>\n",
       "    <tr>\n",
       "      <th>$ Confirmed Pipeline Bookings</th>\n",
       "      <td>4,167</td>\n",
       "      <td>17,833</td>\n",
       "      <td>26,286</td>\n",
       "      <td>30,453</td>\n",
       "      <td>142,120</td>\n",
       "      <td>154,620</td>\n",
       "      <td>167,953</td>\n",
       "      <td>197,953</td>\n",
       "      <td>218,786</td>\n",
       "      <td>218,786</td>\n",
       "      <td>192,953</td>\n",
       "      <td>218,786</td>\n",
       "      <td>209,619</td>\n",
       "      <td>200,953</td>\n",
       "      <td>192,500</td>\n",
       "      <td>188,333</td>\n",
       "      <td>76,666</td>\n",
       "      <td>64,166</td>\n",
       "      <td>50,833</td>\n",
       "      <td>0</td>\n",
       "      <td>0</td>\n",
       "      <td>0</td>\n",
       "      <td>0</td>\n",
       "    </tr>\n",
       "    <tr>\n",
       "      <th># Confirmed Pipeline Accounts</th>\n",
       "      <td>1</td>\n",
       "      <td>4</td>\n",
       "      <td>6</td>\n",
       "      <td>7</td>\n",
       "      <td>10</td>\n",
       "      <td>12</td>\n",
       "      <td>14</td>\n",
       "      <td>17</td>\n",
       "      <td>18</td>\n",
       "      <td>18</td>\n",
       "      <td>16</td>\n",
       "      <td>18</td>\n",
       "      <td>16</td>\n",
       "      <td>14</td>\n",
       "      <td>12</td>\n",
       "      <td>11</td>\n",
       "      <td>8</td>\n",
       "      <td>6</td>\n",
       "      <td>4</td>\n",
       "      <td>0</td>\n",
       "      <td>0</td>\n",
       "      <td>0</td>\n",
       "      <td>0</td>\n",
       "    </tr>\n",
       "    <tr>\n",
       "      <th>$ Expected FTB Booking</th>\n",
       "      <td>0</td>\n",
       "      <td>0</td>\n",
       "      <td>0</td>\n",
       "      <td>0</td>\n",
       "      <td>0</td>\n",
       "      <td>0</td>\n",
       "      <td>0</td>\n",
       "      <td>0</td>\n",
       "      <td>29,167</td>\n",
       "      <td>98,333</td>\n",
       "      <td>106,666</td>\n",
       "      <td>148,333</td>\n",
       "      <td>148,333</td>\n",
       "      <td>148,333</td>\n",
       "      <td>148,333</td>\n",
       "      <td>148,333</td>\n",
       "      <td>148,333</td>\n",
       "      <td>148,333</td>\n",
       "      <td>148,333</td>\n",
       "      <td>148,333</td>\n",
       "      <td>77,500</td>\n",
       "      <td>50,000</td>\n",
       "      <td>0</td>\n",
       "    </tr>\n",
       "    <tr>\n",
       "      <th># Expected FTB Accounts</th>\n",
       "      <td>0</td>\n",
       "      <td>0</td>\n",
       "      <td>0</td>\n",
       "      <td>0</td>\n",
       "      <td>0</td>\n",
       "      <td>0</td>\n",
       "      <td>0</td>\n",
       "      <td>0</td>\n",
       "      <td>2</td>\n",
       "      <td>9</td>\n",
       "      <td>10</td>\n",
       "      <td>11</td>\n",
       "      <td>11</td>\n",
       "      <td>11</td>\n",
       "      <td>11</td>\n",
       "      <td>11</td>\n",
       "      <td>11</td>\n",
       "      <td>11</td>\n",
       "      <td>11</td>\n",
       "      <td>11</td>\n",
       "      <td>5</td>\n",
       "      <td>2</td>\n",
       "      <td>0</td>\n",
       "    </tr>\n",
       "    <tr>\n",
       "      <th>$ Total Pipeline</th>\n",
       "      <td>4,167</td>\n",
       "      <td>17,833</td>\n",
       "      <td>26,286</td>\n",
       "      <td>30,453</td>\n",
       "      <td>142,120</td>\n",
       "      <td>154,620</td>\n",
       "      <td>167,953</td>\n",
       "      <td>197,953</td>\n",
       "      <td>247,953</td>\n",
       "      <td>317,119</td>\n",
       "      <td>299,619</td>\n",
       "      <td>367,119</td>\n",
       "      <td>357,952</td>\n",
       "      <td>349,286</td>\n",
       "      <td>340,833</td>\n",
       "      <td>336,666</td>\n",
       "      <td>224,999</td>\n",
       "      <td>212,499</td>\n",
       "      <td>199,166</td>\n",
       "      <td>148,333</td>\n",
       "      <td>77,500</td>\n",
       "      <td>50,000</td>\n",
       "      <td>0</td>\n",
       "    </tr>\n",
       "  </tbody>\n",
       "</table>\n",
       "</div>"
      ],
      "text/plain": [
       "                              Apr 2022 May 2022 Jun 2022 Jul 2022 Aug 2022 Sep 2022 Oct 2022 Nov 2022 Dec 2022 Jan 2023 Feb 2023 Mar 2023 Apr 2023 May 2023 Jun 2023 Jul 2023 Aug 2023 Sep 2023 Oct 2023 Nov 2023 Dec 2023 Jan 2024 Feb 2024\n",
       "$ Confirmed Pipeline Bookings    4,167   17,833   26,286   30,453  142,120  154,620  167,953  197,953  218,786  218,786  192,953  218,786  209,619  200,953  192,500  188,333   76,666   64,166   50,833        0        0        0        0\n",
       "# Confirmed Pipeline Accounts        1        4        6        7       10       12       14       17       18       18       16       18       16       14       12       11        8        6        4        0        0        0        0\n",
       "$ Expected FTB Booking               0        0        0        0        0        0        0        0   29,167   98,333  106,666  148,333  148,333  148,333  148,333  148,333  148,333  148,333  148,333  148,333   77,500   50,000        0\n",
       "# Expected FTB Accounts              0        0        0        0        0        0        0        0        2        9       10       11       11       11       11       11       11       11       11       11        5        2        0\n",
       "$ Total Pipeline                 4,167   17,833   26,286   30,453  142,120  154,620  167,953  197,953  247,953  317,119  299,619  367,119  357,952  349,286  340,833  336,666  224,999  212,499  199,166  148,333   77,500   50,000        0"
      ]
     },
     "execution_count": 239,
     "metadata": {},
     "output_type": "execute_result"
    }
   ],
   "source": [
    "dfcommas = merged_df.applymap('{:,.0f}'.format)\n",
    "dfcommas"
   ]
  },
  {
   "cell_type": "code",
   "execution_count": 240,
   "id": "6c08de34",
   "metadata": {},
   "outputs": [
    {
     "data": {
      "text/html": [
       "<style  type=\"text/css\" >\n",
       "#T_ae2db_row4_col0,#T_ae2db_row4_col1,#T_ae2db_row4_col2,#T_ae2db_row4_col3,#T_ae2db_row4_col4,#T_ae2db_row4_col5,#T_ae2db_row4_col6,#T_ae2db_row4_col7,#T_ae2db_row4_col8,#T_ae2db_row4_col9,#T_ae2db_row4_col10,#T_ae2db_row4_col11,#T_ae2db_row4_col12,#T_ae2db_row4_col13,#T_ae2db_row4_col14,#T_ae2db_row4_col15,#T_ae2db_row4_col16,#T_ae2db_row4_col17,#T_ae2db_row4_col18,#T_ae2db_row4_col19,#T_ae2db_row4_col20,#T_ae2db_row4_col21,#T_ae2db_row4_col22{\n",
       "            background-color:  lightyellow;\n",
       "        }</style><table id=\"T_ae2db_\" ><thead>    <tr>        <th class=\"blank level0\" ></th>        <th class=\"col_heading level0 col0\" >Apr 2022</th>        <th class=\"col_heading level0 col1\" >May 2022</th>        <th class=\"col_heading level0 col2\" >Jun 2022</th>        <th class=\"col_heading level0 col3\" >Jul 2022</th>        <th class=\"col_heading level0 col4\" >Aug 2022</th>        <th class=\"col_heading level0 col5\" >Sep 2022</th>        <th class=\"col_heading level0 col6\" >Oct 2022</th>        <th class=\"col_heading level0 col7\" >Nov 2022</th>        <th class=\"col_heading level0 col8\" >Dec 2022</th>        <th class=\"col_heading level0 col9\" >Jan 2023</th>        <th class=\"col_heading level0 col10\" >Feb 2023</th>        <th class=\"col_heading level0 col11\" >Mar 2023</th>        <th class=\"col_heading level0 col12\" >Apr 2023</th>        <th class=\"col_heading level0 col13\" >May 2023</th>        <th class=\"col_heading level0 col14\" >Jun 2023</th>        <th class=\"col_heading level0 col15\" >Jul 2023</th>        <th class=\"col_heading level0 col16\" >Aug 2023</th>        <th class=\"col_heading level0 col17\" >Sep 2023</th>        <th class=\"col_heading level0 col18\" >Oct 2023</th>        <th class=\"col_heading level0 col19\" >Nov 2023</th>        <th class=\"col_heading level0 col20\" >Dec 2023</th>        <th class=\"col_heading level0 col21\" >Jan 2024</th>        <th class=\"col_heading level0 col22\" >Feb 2024</th>    </tr></thead><tbody>\n",
       "                <tr>\n",
       "                        <th id=\"T_ae2db_level0_row0\" class=\"row_heading level0 row0\" >$ Confirmed Pipeline Bookings</th>\n",
       "                        <td id=\"T_ae2db_row0_col0\" class=\"data row0 col0\" >4,167</td>\n",
       "                        <td id=\"T_ae2db_row0_col1\" class=\"data row0 col1\" >17,833</td>\n",
       "                        <td id=\"T_ae2db_row0_col2\" class=\"data row0 col2\" >26,286</td>\n",
       "                        <td id=\"T_ae2db_row0_col3\" class=\"data row0 col3\" >30,453</td>\n",
       "                        <td id=\"T_ae2db_row0_col4\" class=\"data row0 col4\" >142,120</td>\n",
       "                        <td id=\"T_ae2db_row0_col5\" class=\"data row0 col5\" >154,620</td>\n",
       "                        <td id=\"T_ae2db_row0_col6\" class=\"data row0 col6\" >167,953</td>\n",
       "                        <td id=\"T_ae2db_row0_col7\" class=\"data row0 col7\" >197,953</td>\n",
       "                        <td id=\"T_ae2db_row0_col8\" class=\"data row0 col8\" >218,786</td>\n",
       "                        <td id=\"T_ae2db_row0_col9\" class=\"data row0 col9\" >218,786</td>\n",
       "                        <td id=\"T_ae2db_row0_col10\" class=\"data row0 col10\" >192,953</td>\n",
       "                        <td id=\"T_ae2db_row0_col11\" class=\"data row0 col11\" >218,786</td>\n",
       "                        <td id=\"T_ae2db_row0_col12\" class=\"data row0 col12\" >209,619</td>\n",
       "                        <td id=\"T_ae2db_row0_col13\" class=\"data row0 col13\" >200,953</td>\n",
       "                        <td id=\"T_ae2db_row0_col14\" class=\"data row0 col14\" >192,500</td>\n",
       "                        <td id=\"T_ae2db_row0_col15\" class=\"data row0 col15\" >188,333</td>\n",
       "                        <td id=\"T_ae2db_row0_col16\" class=\"data row0 col16\" >76,666</td>\n",
       "                        <td id=\"T_ae2db_row0_col17\" class=\"data row0 col17\" >64,166</td>\n",
       "                        <td id=\"T_ae2db_row0_col18\" class=\"data row0 col18\" >50,833</td>\n",
       "                        <td id=\"T_ae2db_row0_col19\" class=\"data row0 col19\" >0</td>\n",
       "                        <td id=\"T_ae2db_row0_col20\" class=\"data row0 col20\" >0</td>\n",
       "                        <td id=\"T_ae2db_row0_col21\" class=\"data row0 col21\" >0</td>\n",
       "                        <td id=\"T_ae2db_row0_col22\" class=\"data row0 col22\" >0</td>\n",
       "            </tr>\n",
       "            <tr>\n",
       "                        <th id=\"T_ae2db_level0_row1\" class=\"row_heading level0 row1\" ># Confirmed Pipeline Accounts</th>\n",
       "                        <td id=\"T_ae2db_row1_col0\" class=\"data row1 col0\" >1</td>\n",
       "                        <td id=\"T_ae2db_row1_col1\" class=\"data row1 col1\" >4</td>\n",
       "                        <td id=\"T_ae2db_row1_col2\" class=\"data row1 col2\" >6</td>\n",
       "                        <td id=\"T_ae2db_row1_col3\" class=\"data row1 col3\" >7</td>\n",
       "                        <td id=\"T_ae2db_row1_col4\" class=\"data row1 col4\" >10</td>\n",
       "                        <td id=\"T_ae2db_row1_col5\" class=\"data row1 col5\" >12</td>\n",
       "                        <td id=\"T_ae2db_row1_col6\" class=\"data row1 col6\" >14</td>\n",
       "                        <td id=\"T_ae2db_row1_col7\" class=\"data row1 col7\" >17</td>\n",
       "                        <td id=\"T_ae2db_row1_col8\" class=\"data row1 col8\" >18</td>\n",
       "                        <td id=\"T_ae2db_row1_col9\" class=\"data row1 col9\" >18</td>\n",
       "                        <td id=\"T_ae2db_row1_col10\" class=\"data row1 col10\" >16</td>\n",
       "                        <td id=\"T_ae2db_row1_col11\" class=\"data row1 col11\" >18</td>\n",
       "                        <td id=\"T_ae2db_row1_col12\" class=\"data row1 col12\" >16</td>\n",
       "                        <td id=\"T_ae2db_row1_col13\" class=\"data row1 col13\" >14</td>\n",
       "                        <td id=\"T_ae2db_row1_col14\" class=\"data row1 col14\" >12</td>\n",
       "                        <td id=\"T_ae2db_row1_col15\" class=\"data row1 col15\" >11</td>\n",
       "                        <td id=\"T_ae2db_row1_col16\" class=\"data row1 col16\" >8</td>\n",
       "                        <td id=\"T_ae2db_row1_col17\" class=\"data row1 col17\" >6</td>\n",
       "                        <td id=\"T_ae2db_row1_col18\" class=\"data row1 col18\" >4</td>\n",
       "                        <td id=\"T_ae2db_row1_col19\" class=\"data row1 col19\" >0</td>\n",
       "                        <td id=\"T_ae2db_row1_col20\" class=\"data row1 col20\" >0</td>\n",
       "                        <td id=\"T_ae2db_row1_col21\" class=\"data row1 col21\" >0</td>\n",
       "                        <td id=\"T_ae2db_row1_col22\" class=\"data row1 col22\" >0</td>\n",
       "            </tr>\n",
       "            <tr>\n",
       "                        <th id=\"T_ae2db_level0_row2\" class=\"row_heading level0 row2\" >$ Expected FTB Booking</th>\n",
       "                        <td id=\"T_ae2db_row2_col0\" class=\"data row2 col0\" >0</td>\n",
       "                        <td id=\"T_ae2db_row2_col1\" class=\"data row2 col1\" >0</td>\n",
       "                        <td id=\"T_ae2db_row2_col2\" class=\"data row2 col2\" >0</td>\n",
       "                        <td id=\"T_ae2db_row2_col3\" class=\"data row2 col3\" >0</td>\n",
       "                        <td id=\"T_ae2db_row2_col4\" class=\"data row2 col4\" >0</td>\n",
       "                        <td id=\"T_ae2db_row2_col5\" class=\"data row2 col5\" >0</td>\n",
       "                        <td id=\"T_ae2db_row2_col6\" class=\"data row2 col6\" >0</td>\n",
       "                        <td id=\"T_ae2db_row2_col7\" class=\"data row2 col7\" >0</td>\n",
       "                        <td id=\"T_ae2db_row2_col8\" class=\"data row2 col8\" >29,167</td>\n",
       "                        <td id=\"T_ae2db_row2_col9\" class=\"data row2 col9\" >98,333</td>\n",
       "                        <td id=\"T_ae2db_row2_col10\" class=\"data row2 col10\" >106,666</td>\n",
       "                        <td id=\"T_ae2db_row2_col11\" class=\"data row2 col11\" >148,333</td>\n",
       "                        <td id=\"T_ae2db_row2_col12\" class=\"data row2 col12\" >148,333</td>\n",
       "                        <td id=\"T_ae2db_row2_col13\" class=\"data row2 col13\" >148,333</td>\n",
       "                        <td id=\"T_ae2db_row2_col14\" class=\"data row2 col14\" >148,333</td>\n",
       "                        <td id=\"T_ae2db_row2_col15\" class=\"data row2 col15\" >148,333</td>\n",
       "                        <td id=\"T_ae2db_row2_col16\" class=\"data row2 col16\" >148,333</td>\n",
       "                        <td id=\"T_ae2db_row2_col17\" class=\"data row2 col17\" >148,333</td>\n",
       "                        <td id=\"T_ae2db_row2_col18\" class=\"data row2 col18\" >148,333</td>\n",
       "                        <td id=\"T_ae2db_row2_col19\" class=\"data row2 col19\" >148,333</td>\n",
       "                        <td id=\"T_ae2db_row2_col20\" class=\"data row2 col20\" >77,500</td>\n",
       "                        <td id=\"T_ae2db_row2_col21\" class=\"data row2 col21\" >50,000</td>\n",
       "                        <td id=\"T_ae2db_row2_col22\" class=\"data row2 col22\" >0</td>\n",
       "            </tr>\n",
       "            <tr>\n",
       "                        <th id=\"T_ae2db_level0_row3\" class=\"row_heading level0 row3\" ># Expected FTB Accounts</th>\n",
       "                        <td id=\"T_ae2db_row3_col0\" class=\"data row3 col0\" >0</td>\n",
       "                        <td id=\"T_ae2db_row3_col1\" class=\"data row3 col1\" >0</td>\n",
       "                        <td id=\"T_ae2db_row3_col2\" class=\"data row3 col2\" >0</td>\n",
       "                        <td id=\"T_ae2db_row3_col3\" class=\"data row3 col3\" >0</td>\n",
       "                        <td id=\"T_ae2db_row3_col4\" class=\"data row3 col4\" >0</td>\n",
       "                        <td id=\"T_ae2db_row3_col5\" class=\"data row3 col5\" >0</td>\n",
       "                        <td id=\"T_ae2db_row3_col6\" class=\"data row3 col6\" >0</td>\n",
       "                        <td id=\"T_ae2db_row3_col7\" class=\"data row3 col7\" >0</td>\n",
       "                        <td id=\"T_ae2db_row3_col8\" class=\"data row3 col8\" >2</td>\n",
       "                        <td id=\"T_ae2db_row3_col9\" class=\"data row3 col9\" >9</td>\n",
       "                        <td id=\"T_ae2db_row3_col10\" class=\"data row3 col10\" >10</td>\n",
       "                        <td id=\"T_ae2db_row3_col11\" class=\"data row3 col11\" >11</td>\n",
       "                        <td id=\"T_ae2db_row3_col12\" class=\"data row3 col12\" >11</td>\n",
       "                        <td id=\"T_ae2db_row3_col13\" class=\"data row3 col13\" >11</td>\n",
       "                        <td id=\"T_ae2db_row3_col14\" class=\"data row3 col14\" >11</td>\n",
       "                        <td id=\"T_ae2db_row3_col15\" class=\"data row3 col15\" >11</td>\n",
       "                        <td id=\"T_ae2db_row3_col16\" class=\"data row3 col16\" >11</td>\n",
       "                        <td id=\"T_ae2db_row3_col17\" class=\"data row3 col17\" >11</td>\n",
       "                        <td id=\"T_ae2db_row3_col18\" class=\"data row3 col18\" >11</td>\n",
       "                        <td id=\"T_ae2db_row3_col19\" class=\"data row3 col19\" >11</td>\n",
       "                        <td id=\"T_ae2db_row3_col20\" class=\"data row3 col20\" >5</td>\n",
       "                        <td id=\"T_ae2db_row3_col21\" class=\"data row3 col21\" >2</td>\n",
       "                        <td id=\"T_ae2db_row3_col22\" class=\"data row3 col22\" >0</td>\n",
       "            </tr>\n",
       "            <tr>\n",
       "                        <th id=\"T_ae2db_level0_row4\" class=\"row_heading level0 row4\" >$ Total Pipeline</th>\n",
       "                        <td id=\"T_ae2db_row4_col0\" class=\"data row4 col0\" >4,167</td>\n",
       "                        <td id=\"T_ae2db_row4_col1\" class=\"data row4 col1\" >17,833</td>\n",
       "                        <td id=\"T_ae2db_row4_col2\" class=\"data row4 col2\" >26,286</td>\n",
       "                        <td id=\"T_ae2db_row4_col3\" class=\"data row4 col3\" >30,453</td>\n",
       "                        <td id=\"T_ae2db_row4_col4\" class=\"data row4 col4\" >142,120</td>\n",
       "                        <td id=\"T_ae2db_row4_col5\" class=\"data row4 col5\" >154,620</td>\n",
       "                        <td id=\"T_ae2db_row4_col6\" class=\"data row4 col6\" >167,953</td>\n",
       "                        <td id=\"T_ae2db_row4_col7\" class=\"data row4 col7\" >197,953</td>\n",
       "                        <td id=\"T_ae2db_row4_col8\" class=\"data row4 col8\" >247,953</td>\n",
       "                        <td id=\"T_ae2db_row4_col9\" class=\"data row4 col9\" >317,119</td>\n",
       "                        <td id=\"T_ae2db_row4_col10\" class=\"data row4 col10\" >299,619</td>\n",
       "                        <td id=\"T_ae2db_row4_col11\" class=\"data row4 col11\" >367,119</td>\n",
       "                        <td id=\"T_ae2db_row4_col12\" class=\"data row4 col12\" >357,952</td>\n",
       "                        <td id=\"T_ae2db_row4_col13\" class=\"data row4 col13\" >349,286</td>\n",
       "                        <td id=\"T_ae2db_row4_col14\" class=\"data row4 col14\" >340,833</td>\n",
       "                        <td id=\"T_ae2db_row4_col15\" class=\"data row4 col15\" >336,666</td>\n",
       "                        <td id=\"T_ae2db_row4_col16\" class=\"data row4 col16\" >224,999</td>\n",
       "                        <td id=\"T_ae2db_row4_col17\" class=\"data row4 col17\" >212,499</td>\n",
       "                        <td id=\"T_ae2db_row4_col18\" class=\"data row4 col18\" >199,166</td>\n",
       "                        <td id=\"T_ae2db_row4_col19\" class=\"data row4 col19\" >148,333</td>\n",
       "                        <td id=\"T_ae2db_row4_col20\" class=\"data row4 col20\" >77,500</td>\n",
       "                        <td id=\"T_ae2db_row4_col21\" class=\"data row4 col21\" >50,000</td>\n",
       "                        <td id=\"T_ae2db_row4_col22\" class=\"data row4 col22\" >0</td>\n",
       "            </tr>\n",
       "    </tbody></table>"
      ],
      "text/plain": [
       "<pandas.io.formats.style.Styler at 0x1637c7820>"
      ]
     },
     "execution_count": 240,
     "metadata": {},
     "output_type": "execute_result"
    }
   ],
   "source": [
    "df = dfcommas\n",
    "\n",
    "\n",
    "# Define a dictionary of custom colors for specific rows\n",
    "custom_colors = {#'$ Confirmed Pipeline Bookings': 'white', \n",
    "                 #'# Confirmed Pipeline Accounts': 'white',\n",
    "                #'$ Expected FTB Booking': 'lightgray', \n",
    "                 #'# Expected FTB Accounts': 'white',\n",
    "                 '$ Total Pipeline':'lightyellow'\n",
    "                }\n",
    "\n",
    "# Function to apply custom colors to rows\n",
    "def apply_custom_colors(row):\n",
    "    row_index = row.name\n",
    "    if row_index in custom_colors:\n",
    "        return ['background-color: {}'.format(custom_colors[row_index])] * len(row)\n",
    "    else:\n",
    "        return [''] * len(row)\n",
    "    \n",
    "\n",
    "# Apply the custom colors to the dataframe\n",
    "styled_df = df.style.apply(apply_custom_colors, axis=1)\n",
    "\n",
    "# Display the styled dataframe\n",
    "styled_df"
   ]
  },
  {
   "cell_type": "code",
   "execution_count": 228,
   "id": "11eef26d",
   "metadata": {},
   "outputs": [],
   "source": [
    "df_back = merged_df.loc['$ Total Pipeline']\n",
    "df_front = merged_df.loc['$ Expected FTB Booking']"
   ]
  },
  {
   "cell_type": "code",
   "execution_count": 229,
   "id": "a7071ade",
   "metadata": {
    "scrolled": true
   },
   "outputs": [
    {
     "data": {
      "image/png": "[encoded data removed]",
      "text/plain": [
       "<Figure size 432x288 with 1 Axes>"
      ]
     },
     "metadata": {
      "needs_background": "light"
     },
     "output_type": "display_data"
    }
   ],
   "source": [
    "ax = (df_back.T).plot(kind='bar',\n",
    "                y='$ Total Pipeline',\n",
    "                rot=90, width=0.8, edgecolor='black',\n",
    "                legend=False,\n",
    "                title='Total Pipeline',\n",
    "                color = 'C0');\n",
    "ax.set_axisbelow(True)\n",
    "ax.yaxis.grid(True)\n",
    "ax.spines['left'].set_linewidth(1.2)   # Left spine\n",
    "ax.spines['bottom'].set_linewidth(1.2) # Bottom spine\n",
    "ax.spines['right'].set_visible(False) # Right spine\n",
    "ax.spines['top'].set_visible(False)   # Top spine\n",
    "\n",
    "ax.yaxis.set_major_formatter(mticker.StrMethodFormatter('${x:,.0f}'))\n",
    "\n",
    "\n",
    "ax = (df_front.T).plot(kind='bar',\n",
    "                y='$ Total Pipeline',\n",
    "                rot=90, width=0.8, edgecolor='black',\n",
    "                legend=False,\n",
    "                #title=label1,\n",
    "                color = 'C1');\n",
    "ax.set_axisbelow(True)\n",
    "ax.yaxis.grid(True)\n",
    "ax.spines['left'].set_linewidth(1.2)   # Left spine\n",
    "ax.spines['bottom'].set_linewidth(1.2) # Bottom spine\n",
    "ax.spines['right'].set_visible(False) # Right spine\n",
    "ax.spines['top'].set_visible(False)   # Top spine\n",
    "\n",
    "ax.yaxis.set_major_formatter(mticker.StrMethodFormatter('${x:,.0f}'))\n",
    "\n",
    "#ax.legend(loc='center left', bbox_to_anchor=(1.0, 0.5))\n",
    "\n",
    "legend_labels = ['Confirmed Pipeline Bookings','Expected FTB Booking']\n",
    "ax.legend(legend_labels, loc='lower left', bbox_to_anchor=(1.0, .8))\n",
    "\n",
    "\n",
    "plt.show()"
   ]
  },
  {
   "cell_type": "markdown",
   "id": "8d12f662",
   "metadata": {},
   "source": [
    "To do:\n",
    "1. Some numbers don't coincide. For example: Andrew Shock (ID = 30)\n",
    "2. Figure out the lines \"Pipeline Coverage Multiple\" and \"AE Quota\", then add them to the final dataframe"
   ]
  },
  {
   "cell_type": "code",
   "execution_count": null,
   "id": "56604d09",
   "metadata": {},
   "outputs": [],
   "source": []
  }
 ],
 "metadata": {
  "kernelspec": {
   "display_name": "Python 3",
   "language": "python",
   "name": "python3"
  },
  "language_info": {
   "codemirror_mode": {
    "name": "ipython",
    "version": 3
   },
   "file_extension": ".py",
   "mimetype": "text/x-python",
   "name": "python",
   "nbconvert_exporter": "python",
   "pygments_lexer": "ipython3",
   "version": "3.9.5"
  }
 },
 "nbformat": 4,
 "nbformat_minor": 5
}
