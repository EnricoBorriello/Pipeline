{
 "cells": [
  {
   "cell_type": "markdown",
   "id": "d11a9fdc",
   "metadata": {},
   "source": [
    "$Expected FTB Booking and #Expected FTB Accounts\n",
    "\n",
    "For each representative (opportunity owner) in Pre-FTB report, collect all the accounts under their name, together with Expected FTB Date (simply 'date') and Annual hotel spend (simply 'spend').\n",
    "\n",
    "Starting from the date, split the spend over the following twelve months. Start with the month the date belongs to. (There are some strange cases, e.g. Adam Ward, Frontier Building Corp, FTB date = 30 Nov, i.e. the end of the month already, but Nov takes one entire 12th part.)\n",
    "\n",
    "Some accounts don't have a date. I'm ignoring those.\n",
    "\n",
    "For each month, sum these fractions over all the accounts. Also count the number of accounts. These numbers are the $Expected FTB Booking and #Expected FTB Accounts respectively, and they're shown in the Pipeline Summary.\n",
    "\n",
    "Treat 'post' data in the same way.\n",
    "\n",
    "There's a little difference in the number of post accounts. That's because i don't count accounts with $0."
   ]
  },
  {
   "cell_type": "code",
   "execution_count": null,
   "id": "ff11c0dd",
   "metadata": {},
   "outputs": [],
   "source": [
    "# Exported\n",
    "\n",
    "import pandas as pd\n",
    "import matplotlib.pyplot as plt\n",
    "import numpy as np\n",
    "import matplotlib.ticker as mticker\n",
    "\n",
    "from datetime import datetime, timedelta\n",
    "from utils_dates import find_date_range, extract_date\n",
    "\n",
    "from utils_analysis import customer_detail, partial_pipeline_summary\n",
    "\n",
    "from utils_visualizations import vialualize_partial_pipeline, vialualize_total_pipeline"
   ]
  },
  {
   "cell_type": "code",
   "execution_count": null,
   "id": "e3cdbeb5",
   "metadata": {},
   "outputs": [],
   "source": [
    "# Exported\n",
    "\n",
    "# Set display options\n",
    "pd.set_option('display.max_columns', None)\n",
    "pd.set_option('display.expand_frame_repr', False)\n",
    "\n",
    "# Filter or ignore the warning\n",
    "import warnings\n",
    "warnings.filterwarnings(\"ignore\", category=pd.core.common.SettingWithCopyWarning)"
   ]
  },
  {
   "cell_type": "markdown",
   "id": "f2bdd682",
   "metadata": {},
   "source": [
    "# Import Data"
   ]
  },
  {
   "cell_type": "code",
   "execution_count": null,
   "id": "415b35e1",
   "metadata": {},
   "outputs": [],
   "source": [
    "df_pre = pd.read_csv('original_files/Pre-FTB_Report.csv')\n",
    "df_post = pd.read_csv('original_files/Post-FTB_Report.csv')\n",
    "\n",
    "df_pre['Annual hotel spend'] = df_pre['Annual hotel spend'].fillna(0).astype(int)\n",
    "df_post['Annual hotel spend'] = df_post['Annual hotel spend'].fillna(0).astype(int)"
   ]
  },
  {
   "cell_type": "code",
   "execution_count": null,
   "id": "2bb8ead5",
   "metadata": {},
   "outputs": [],
   "source": [
    "# difference in the input files from pre to post\n",
    "# the FTB includes both date and time\n",
    "df_pre[:3]"
   ]
  },
  {
   "cell_type": "code",
   "execution_count": null,
   "id": "5f5e5882",
   "metadata": {},
   "outputs": [],
   "source": [
    "df_post[:3]"
   ]
  },
  {
   "cell_type": "code",
   "execution_count": null,
   "id": "5be71fdc",
   "metadata": {},
   "outputs": [],
   "source": [
    "#  we just need the date\n",
    "df_post['Expected FTB Date'] = [extract_date(date_time) for date_time in df_post['FTB or Revival Date'] ]\n",
    "df_post = df_post.drop('FTB or Revival Date', axis=1)\n",
    "df_post[:3]"
   ]
  },
  {
   "cell_type": "markdown",
   "id": "7a35b1d9",
   "metadata": {},
   "source": [
    "# Owners"
   ]
  },
  {
   "cell_type": "code",
   "execution_count": null,
   "id": "597058c0",
   "metadata": {},
   "outputs": [],
   "source": [
    "pre_owners = np.sort(np.array(df_pre['Opportunity Owner'].unique()))\n",
    "post_owners = np.sort(np.array(df_post['Opportunity Owner'].unique()))\n",
    "\n",
    "missing_owners = [owner for owner in pre_owners if owner not in post_owners]"
   ]
  },
  {
   "cell_type": "code",
   "execution_count": null,
   "id": "9381ae44",
   "metadata": {},
   "outputs": [],
   "source": [
    "missing_owners"
   ]
  },
  {
   "cell_type": "code",
   "execution_count": null,
   "id": "94dc7a43",
   "metadata": {},
   "outputs": [],
   "source": [
    "print(len(pre_owners))\n",
    "print(len(post_owners))"
   ]
  },
  {
   "cell_type": "code",
   "execution_count": null,
   "id": "6ef6b9ae",
   "metadata": {},
   "outputs": [],
   "source": [
    "# I will only keep owners that are in both pre and post reports\n",
    "\n",
    "# Convert arrays to sets\n",
    "set1 = set(pre_owners)\n",
    "set2 = set(post_owners)\n",
    "\n",
    "# Find the intersection of the sets\n",
    "common_elements = set1.intersection(set2)\n",
    "\n",
    "# Convert the common elements set back to a list\n",
    "names = list(common_elements)\n",
    "\n",
    "# sort it alphabetically by family name\n",
    "owners_list = sorted(names, key=lambda x: x.split()[1])\n",
    "\n",
    "#owners_list"
   ]
  },
  {
   "cell_type": "markdown",
   "id": "89ad6bc4",
   "metadata": {},
   "source": [
    "# Partial Visualizations"
   ]
  },
  {
   "cell_type": "code",
   "execution_count": null,
   "id": "a695fc51",
   "metadata": {},
   "outputs": [],
   "source": [
    "ownerID = 30\n",
    "owner = owners_list[ownerID]\n",
    "\n",
    "detail_pre = customer_detail(df_pre,owner)\n",
    "detail_post = customer_detail(df_post,owner)\n",
    "\n",
    "print(owner)"
   ]
  },
  {
   "cell_type": "code",
   "execution_count": null,
   "id": "6a692b65",
   "metadata": {},
   "outputs": [],
   "source": [
    "detail_pre[:2]"
   ]
  },
  {
   "cell_type": "code",
   "execution_count": null,
   "id": "670b5115",
   "metadata": {},
   "outputs": [],
   "source": [
    "detail_post[:2]"
   ]
  },
  {
   "cell_type": "code",
   "execution_count": null,
   "id": "6dff50f5",
   "metadata": {},
   "outputs": [],
   "source": [
    "partial_pipeline_summary( detail_pre , detail_type = 'pre' )"
   ]
  },
  {
   "cell_type": "code",
   "execution_count": null,
   "id": "a01cd2b5",
   "metadata": {
    "scrolled": true
   },
   "outputs": [],
   "source": [
    "partial_pipeline_summary( detail_post , detail_type = 'post' )"
   ]
  },
  {
   "cell_type": "code",
   "execution_count": null,
   "id": "a4d5bb79",
   "metadata": {},
   "outputs": [],
   "source": [
    "vialualize_partial_pipeline (detail_pre,detail_type='pre')"
   ]
  },
  {
   "cell_type": "code",
   "execution_count": null,
   "id": "fa04b401",
   "metadata": {},
   "outputs": [],
   "source": [
    "vialualize_partial_pipeline (detail_post,detail_type='post')"
   ]
  },
  {
   "cell_type": "markdown",
   "id": "da8b8a62",
   "metadata": {},
   "source": [
    "# Pipeline"
   ]
  },
  {
   "cell_type": "code",
   "execution_count": null,
   "id": "1a22bad5",
   "metadata": {},
   "outputs": [],
   "source": [
    "summ_pre = partial_pipeline_summary( detail_pre , detail_type = 'pre' )\n",
    "summ_post = partial_pipeline_summary( detail_post , detail_type = 'post' )"
   ]
  },
  {
   "cell_type": "code",
   "execution_count": null,
   "id": "b5e51dc0",
   "metadata": {},
   "outputs": [],
   "source": [
    "merged_df = pd.concat([summ_post,summ_pre], sort=False).fillna(0)\n",
    "# Calculate the sum of pre and post\n",
    "row_sum = merged_df.iloc[0] + merged_df.iloc[2]\n",
    "# Set a name for the new row\n",
    "row_sum.name = '$ Total Pipeline'\n",
    "# Append the sum as a new row to the dataframe\n",
    "merged_df = merged_df.append(row_sum)"
   ]
  },
  {
   "cell_type": "code",
   "execution_count": null,
   "id": "462a3f67",
   "metadata": {},
   "outputs": [],
   "source": [
    "dfcommas = merged_df.applymap('{:,.0f}'.format)\n",
    "dfcommas"
   ]
  },
  {
   "cell_type": "code",
   "execution_count": null,
   "id": "6c08de34",
   "metadata": {},
   "outputs": [],
   "source": [
    "df = dfcommas\n",
    "\n",
    "\n",
    "# Define a dictionary of custom colors for specific rows\n",
    "custom_colors = {#'$ Confirmed Pipeline Bookings': 'white', \n",
    "                 #'# Confirmed Pipeline Accounts': 'white',\n",
    "                #'$ Expected FTB Booking': 'lightgray', \n",
    "                 #'# Expected FTB Accounts': 'white',\n",
    "                 '$ Total Pipeline':'lightyellow'\n",
    "                }\n",
    "\n",
    "# Function to apply custom colors to rows\n",
    "def apply_custom_colors(row):\n",
    "    row_index = row.name\n",
    "    if row_index in custom_colors:\n",
    "        return ['background-color: {}'.format(custom_colors[row_index])] * len(row)\n",
    "    else:\n",
    "        return [''] * len(row)\n",
    "    \n",
    "\n",
    "# Apply the custom colors to the dataframe\n",
    "styled_df = df.style.apply(apply_custom_colors, axis=1)\n",
    "\n",
    "# Display the styled dataframe\n",
    "styled_df"
   ]
  },
  {
   "cell_type": "code",
   "execution_count": null,
   "id": "11eef26d",
   "metadata": {},
   "outputs": [],
   "source": [
    "df_total = merged_df.loc['$ Total Pipeline']\n",
    "df_expected = merged_df.loc['$ Expected FTB Booking']"
   ]
  },
  {
   "cell_type": "code",
   "execution_count": null,
   "id": "8d57ab7b",
   "metadata": {},
   "outputs": [],
   "source": [
    "vialualize_total_pipeline (df_total,df_expected)"
   ]
  },
  {
   "cell_type": "markdown",
   "id": "8d12f662",
   "metadata": {},
   "source": [
    "To do:\n",
    "1. Some numbers don't coincide. For example: Andrew Shock (ID = 30)\n",
    "2. Figure out the lines \"Pipeline Coverage Multiple\" and \"AE Quota\", then add them to the final dataframe"
   ]
  },
  {
   "cell_type": "code",
   "execution_count": null,
   "id": "5e237e7a",
   "metadata": {},
   "outputs": [],
   "source": []
  }
 ],
 "metadata": {
  "kernelspec": {
   "display_name": "Python 3",
   "language": "python",
   "name": "python3"
  },
  "language_info": {
   "codemirror_mode": {
    "name": "ipython",
    "version": 3
   },
   "file_extension": ".py",
   "mimetype": "text/x-python",
   "name": "python",
   "nbconvert_exporter": "python",
   "pygments_lexer": "ipython3",
   "version": "3.9.5"
  }
 },
 "nbformat": 4,
 "nbformat_minor": 5
}
